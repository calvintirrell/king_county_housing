{
 "cells": [
  {
   "cell_type": "code",
   "execution_count": 13,
   "metadata": {},
   "outputs": [],
   "source": [
    "import pandas as pd\n",
    "import numpy as np\n",
    "import matplotlib.pyplot as plt\n",
    "import seaborn as sns\n",
    "import psycopg2\n",
    "import scipy\n",
    "import statsmodels.stats as stats\n",
    "from statsmodels.formula.api import ols\n",
    "from statsmodels.stats.diagnostic import linear_rainbow, het_breuschpagan\n",
    "from statsmodels.stats.outliers_influence import variance_inflation_factor"
   ]
  },
  {
   "cell_type": "code",
   "execution_count": 14,
   "metadata": {},
   "outputs": [],
   "source": [
    "path = \"../../data/\""
   ]
  },
  {
   "cell_type": "code",
   "execution_count": 16,
   "metadata": {},
   "outputs": [
    {
     "name": "stderr",
     "output_type": "stream",
     "text": [
      "/Users/calvintirrell/opt/anaconda3/lib/python3.7/site-packages/IPython/core/interactiveshell.py:3058: DtypeWarning: Columns (12) have mixed types. Specify dtype option on import or set low_memory=False.\n",
      "  interactivity=interactivity, compiler=compiler, result=result)\n"
     ]
    }
   ],
   "source": [
    "df = pd.read_csv(path + \"housing2019.csv\", encoding='latin-1')"
   ]
  },
  {
   "cell_type": "code",
   "execution_count": 6,
   "metadata": {},
   "outputs": [],
   "source": [
    "# df_parcels.head()"
   ]
  },
  {
   "cell_type": "code",
   "execution_count": 7,
   "metadata": {},
   "outputs": [],
   "source": [
    "# df_parcels.info()"
   ]
  },
  {
   "cell_type": "code",
   "execution_count": 8,
   "metadata": {},
   "outputs": [],
   "source": [
    "# df_parcels.describe()"
   ]
  },
  {
   "cell_type": "code",
   "execution_count": 24,
   "metadata": {},
   "outputs": [],
   "source": [
    "# df_ResBldg = pd.read_csv(path + \"EXTR_ResBldg.csv\")"
   ]
  },
  {
   "cell_type": "code",
   "execution_count": 17,
   "metadata": {},
   "outputs": [],
   "source": [
    "# df_ResBldg.head()"
   ]
  },
  {
   "cell_type": "code",
   "execution_count": 18,
   "metadata": {},
   "outputs": [],
   "source": [
    "# df_ResBldg.info()"
   ]
  },
  {
   "cell_type": "code",
   "execution_count": 19,
   "metadata": {},
   "outputs": [],
   "source": [
    "# df_ResBldg.describe()"
   ]
  },
  {
   "cell_type": "code",
   "execution_count": 20,
   "metadata": {},
   "outputs": [],
   "source": [
    "# df_RPSale = pd.read_csv(path + \"EXTR_RPSale.csv\")"
   ]
  },
  {
   "cell_type": "code",
   "execution_count": 21,
   "metadata": {},
   "outputs": [],
   "source": [
    "# df_RPSale.head()"
   ]
  },
  {
   "cell_type": "code",
   "execution_count": 22,
   "metadata": {},
   "outputs": [],
   "source": [
    "# df_RPSale.info()"
   ]
  },
  {
   "cell_type": "code",
   "execution_count": 23,
   "metadata": {},
   "outputs": [],
   "source": [
    "# df_RPSale.describe()"
   ]
  },
  {
   "cell_type": "code",
   "execution_count": 26,
   "metadata": {},
   "outputs": [],
   "source": [
    "# def common_columns(a,b):\n",
    "#     \"\"\"input panda dataframes and returs list of columns they have in common\"\"\"\n",
    "#     a_set = set(a.columns)\n",
    "#     b_set = set(b.columns)\n",
    "#     if (a_set & b_set):\n",
    "#         print(a_set, b_set)\n",
    "#     else:\n",
    "#         print('nothing in common')"
   ]
  },
  {
   "cell_type": "code",
   "execution_count": 27,
   "metadata": {},
   "outputs": [],
   "source": [
    "# all_dfs = [df_RPSale, df_ResBldg, df_parcels]\n",
    "# for df in all_dfs:\n",
    "#     df['Major'] = df['Major'].astype('str').str.zfill(6)\n",
    "#     df['Minor'] = df['Minor'].astype('str').str.zfill(4)\n",
    "# for df in all_dfs:\n",
    "#     df['Major_Minor'] = df['Major'] + df['Minor']"
   ]
  },
  {
   "cell_type": "code",
   "execution_count": 39,
   "metadata": {},
   "outputs": [
    {
     "data": {
      "text/html": [
       "<div>\n",
       "<style scoped>\n",
       "    .dataframe tbody tr th:only-of-type {\n",
       "        vertical-align: middle;\n",
       "    }\n",
       "\n",
       "    .dataframe tbody tr th {\n",
       "        vertical-align: top;\n",
       "    }\n",
       "\n",
       "    .dataframe thead th {\n",
       "        text-align: right;\n",
       "    }\n",
       "</style>\n",
       "<table border=\"1\" class=\"dataframe\">\n",
       "  <thead>\n",
       "    <tr style=\"text-align: right;\">\n",
       "      <th></th>\n",
       "      <th>Major_x</th>\n",
       "      <th>Minor_x</th>\n",
       "      <th>BldgNbr</th>\n",
       "      <th>NbrLivingUnits</th>\n",
       "      <th>Address</th>\n",
       "      <th>BuildingNumber</th>\n",
       "      <th>Fraction</th>\n",
       "      <th>DirectionPrefix</th>\n",
       "      <th>StreetName</th>\n",
       "      <th>StreetType</th>\n",
       "      <th>...</th>\n",
       "      <th>SeismicHazard</th>\n",
       "      <th>LandslideHazard</th>\n",
       "      <th>SteepSlopeHazard</th>\n",
       "      <th>Stream</th>\n",
       "      <th>Wetland</th>\n",
       "      <th>SpeciesOfConcern</th>\n",
       "      <th>SensitiveAreaTract</th>\n",
       "      <th>WaterProblems</th>\n",
       "      <th>TranspConcurrency</th>\n",
       "      <th>OtherProblems</th>\n",
       "    </tr>\n",
       "  </thead>\n",
       "  <tbody>\n",
       "    <tr>\n",
       "      <td>0</td>\n",
       "      <td>8700</td>\n",
       "      <td>215</td>\n",
       "      <td>1</td>\n",
       "      <td>1</td>\n",
       "      <td>17029   106TH AVE SE  98055</td>\n",
       "      <td>17029</td>\n",
       "      <td></td>\n",
       "      <td></td>\n",
       "      <td>106TH</td>\n",
       "      <td>AVE</td>\n",
       "      <td>...</td>\n",
       "      <td>N</td>\n",
       "      <td>N</td>\n",
       "      <td>N</td>\n",
       "      <td>N</td>\n",
       "      <td>N</td>\n",
       "      <td>N</td>\n",
       "      <td>N</td>\n",
       "      <td>N</td>\n",
       "      <td>N</td>\n",
       "      <td>N</td>\n",
       "    </tr>\n",
       "    <tr>\n",
       "      <td>1</td>\n",
       "      <td>8800</td>\n",
       "      <td>177</td>\n",
       "      <td>1</td>\n",
       "      <td>1</td>\n",
       "      <td>11317  SE 162ND ST</td>\n",
       "      <td>11317</td>\n",
       "      <td></td>\n",
       "      <td>SE</td>\n",
       "      <td>162ND</td>\n",
       "      <td>ST</td>\n",
       "      <td>...</td>\n",
       "      <td>N</td>\n",
       "      <td>N</td>\n",
       "      <td>N</td>\n",
       "      <td>N</td>\n",
       "      <td>N</td>\n",
       "      <td>N</td>\n",
       "      <td>N</td>\n",
       "      <td>N</td>\n",
       "      <td>N</td>\n",
       "      <td>N</td>\n",
       "    </tr>\n",
       "    <tr>\n",
       "      <td>2</td>\n",
       "      <td>8800</td>\n",
       "      <td>226</td>\n",
       "      <td>1</td>\n",
       "      <td>1</td>\n",
       "      <td>11442  SE 164TH ST</td>\n",
       "      <td>11442</td>\n",
       "      <td></td>\n",
       "      <td>SE</td>\n",
       "      <td>164TH</td>\n",
       "      <td>ST</td>\n",
       "      <td>...</td>\n",
       "      <td>N</td>\n",
       "      <td>N</td>\n",
       "      <td>N</td>\n",
       "      <td>N</td>\n",
       "      <td>N</td>\n",
       "      <td>N</td>\n",
       "      <td>N</td>\n",
       "      <td>N</td>\n",
       "      <td>N</td>\n",
       "      <td>N</td>\n",
       "    </tr>\n",
       "    <tr>\n",
       "      <td>3</td>\n",
       "      <td>8400</td>\n",
       "      <td>171</td>\n",
       "      <td>1</td>\n",
       "      <td>1</td>\n",
       "      <td>12926   4TH AVE SW  98146</td>\n",
       "      <td>12926</td>\n",
       "      <td></td>\n",
       "      <td></td>\n",
       "      <td>4TH</td>\n",
       "      <td>AVE</td>\n",
       "      <td>...</td>\n",
       "      <td>N</td>\n",
       "      <td>N</td>\n",
       "      <td>N</td>\n",
       "      <td>N</td>\n",
       "      <td>N</td>\n",
       "      <td>N</td>\n",
       "      <td>N</td>\n",
       "      <td>N</td>\n",
       "      <td>N</td>\n",
       "      <td>N</td>\n",
       "    </tr>\n",
       "    <tr>\n",
       "      <td>4</td>\n",
       "      <td>9800</td>\n",
       "      <td>940</td>\n",
       "      <td>1</td>\n",
       "      <td>1</td>\n",
       "      <td>27715  SE 24TH WAY   98075</td>\n",
       "      <td>27715</td>\n",
       "      <td></td>\n",
       "      <td>SE</td>\n",
       "      <td>24TH</td>\n",
       "      <td>WAY</td>\n",
       "      <td>...</td>\n",
       "      <td>N</td>\n",
       "      <td>N</td>\n",
       "      <td>N</td>\n",
       "      <td>N</td>\n",
       "      <td>N</td>\n",
       "      <td>N</td>\n",
       "      <td>N</td>\n",
       "      <td>N</td>\n",
       "      <td>N</td>\n",
       "      <td>N</td>\n",
       "    </tr>\n",
       "  </tbody>\n",
       "</table>\n",
       "<p>5 rows × 156 columns</p>\n",
       "</div>"
      ],
      "text/plain": [
       "   Major_x  Minor_x  BldgNbr  NbrLivingUnits                      Address  \\\n",
       "0     8700      215        1               1  17029   106TH AVE SE  98055   \n",
       "1     8800      177        1               1        11317  SE 162ND ST      \n",
       "2     8800      226        1               1        11442  SE 164TH ST      \n",
       "3     8400      171        1               1    12926   4TH AVE SW  98146   \n",
       "4     9800      940        1               1   27715  SE 24TH WAY   98075   \n",
       "\n",
       "  BuildingNumber Fraction DirectionPrefix                 StreetName  \\\n",
       "0          17029                           106TH                       \n",
       "1          11317                       SE  162ND                       \n",
       "2          11442                       SE  164TH                       \n",
       "3          12926                           4TH                         \n",
       "4          27715                       SE  24TH                        \n",
       "\n",
       "  StreetType  ... SeismicHazard LandslideHazard  SteepSlopeHazard  Stream  \\\n",
       "0     AVE     ...             N               N                 N       N   \n",
       "1     ST      ...             N               N                 N       N   \n",
       "2     ST      ...             N               N                 N       N   \n",
       "3     AVE     ...             N               N                 N       N   \n",
       "4     WAY     ...             N               N                 N       N   \n",
       "\n",
       "   Wetland  SpeciesOfConcern  SensitiveAreaTract  WaterProblems  \\\n",
       "0        N                 N                   N              N   \n",
       "1        N                 N                   N              N   \n",
       "2        N                 N                   N              N   \n",
       "3        N                 N                   N              N   \n",
       "4        N                 N                   N              N   \n",
       "\n",
       "   TranspConcurrency  OtherProblems  \n",
       "0                  N              N  \n",
       "1                  N              N  \n",
       "2                  N              N  \n",
       "3                  N              N  \n",
       "4                  N              N  \n",
       "\n",
       "[5 rows x 156 columns]"
      ]
     },
     "execution_count": 39,
     "metadata": {},
     "output_type": "execute_result"
    }
   ],
   "source": [
    "# df[df['pin']>0].head()\n",
    "# df.drop(labels='Unnamed: 0', axis=1, inplace=True)\n",
    "df.head()"
   ]
  },
  {
   "cell_type": "code",
   "execution_count": 18,
   "metadata": {},
   "outputs": [],
   "source": [
    "# combined_df = pd.merge(df_parcels, df_RPSale, on='Major_Minor')"
   ]
  },
  {
   "cell_type": "code",
   "execution_count": 19,
   "metadata": {},
   "outputs": [],
   "source": [
    "# combined_df = pd.merge(combined_df, df_ResBldg, on='Major_Minor')"
   ]
  },
  {
   "cell_type": "code",
   "execution_count": 40,
   "metadata": {},
   "outputs": [],
   "source": [
    "# combined_df.head()"
   ]
  },
  {
   "cell_type": "code",
   "execution_count": 41,
   "metadata": {},
   "outputs": [],
   "source": [
    "# combined_df['SqFtTotLiving'][0] == combined_df['SqFt1stFloor'][0] + combined_df['SqFtHalfFloor'][0] + combined_df['SqFt2ndFloor'][0] + combined_df['SqFtUpperFloor'][0]"
   ]
  },
  {
   "cell_type": "code",
   "execution_count": 42,
   "metadata": {},
   "outputs": [],
   "source": [
    "# combined_df['LivableSpace'] = combined_df['SqFtTotLiving'] + combined_df['SqFtFinBasement'] + combined_df['SqFtDeck']"
   ]
  },
  {
   "cell_type": "code",
   "execution_count": 43,
   "metadata": {},
   "outputs": [],
   "source": [
    "# groomed_df = combined_df[['Major_Minor','SalePrice',\n",
    "#              'LivableSpace', 'SqFtOpenPorch', 'SqFtTotLiving',\n",
    "#              'SqFtEnclosedPorch', 'SqFtDeck', 'TidelandShoreland',\n",
    "#              'TrafficNoise', 'AirportNoise', 'PowerLines', 'DocumentDate']]"
   ]
  },
  {
   "cell_type": "code",
   "execution_count": 44,
   "metadata": {},
   "outputs": [],
   "source": [
    "# combined_df.info()\n",
    "# combined_filtered = combined_df[(combined_df['SalePrice'] > 10) & (combined_df['SalePrice'] < 5000000) & (combined_df['SqFtTotLiving'] < 50000)]\n",
    "# combined_2019_filtered = combined_filtered[combined_filtered['DocumentDate'].str.contains('2019')]\n",
    "# combined_2019_filtered.info()\n",
    "# groomed_df.head()\n",
    "# groomed_df.shape\n",
    "# groomed_df.info()\n",
    "# groomed_df.drop(axis=1, labels='DocumentDate', inplace=True)"
   ]
  },
  {
   "cell_type": "code",
   "execution_count": 45,
   "metadata": {},
   "outputs": [],
   "source": [
    "# groomed_df_above_zero = groomed_df[(groomed_df['SalePrice'] > 10) & (groomed_df['SalePrice'] < 5000000) & (groomed_df['SqFtTotLiving'] < 50000)]\n",
    "# groomed_df_above_zero.head()\n",
    "# groomed_df_above_zero.shape\n",
    "# groomed_df_above_zero.info()\n",
    "# groomed_df_above_zero.to_excel()"
   ]
  },
  {
   "cell_type": "code",
   "execution_count": 46,
   "metadata": {},
   "outputs": [],
   "source": [
    "# groomed_2019_above_zero = groomed_df_above_zero[groomed_df_above_zero['DocumentDate'].str.contains('2019')]\n",
    "# groomed_2019_above_zero.head()"
   ]
  },
  {
   "cell_type": "code",
   "execution_count": 48,
   "metadata": {},
   "outputs": [],
   "source": [
    "df_filtered = df[(df['SalePrice'] > 10) & (df['SalePrice'] < 5000000) & (df['SqFtTotLiving'] < 50000)]"
   ]
  },
  {
   "cell_type": "code",
   "execution_count": 50,
   "metadata": {},
   "outputs": [
    {
     "data": {
      "image/png": "[encoded data removed]",
      "text/plain": [
       "<Figure size 432x288 with 1 Axes>"
      ]
     },
     "metadata": {
      "needs_background": "light"
     },
     "output_type": "display_data"
    }
   ],
   "source": [
    "fig, ax = plt.subplots()\n",
    "ax = sns.scatterplot(data=df_filtered, x='SalePrice', y='SqFtTotLiving', alpha=0.2)"
   ]
  },
  {
   "cell_type": "code",
   "execution_count": 132,
   "metadata": {},
   "outputs": [],
   "source": [
    "fsm = ols(formula=\"SalePrice ~ SqFtTotLiving + TidelandShoreland + SqFtOpenPorch + SqFtDeck\", data=groomed_df_above_zero).fit()"
   ]
  },
  {
   "cell_type": "code",
   "execution_count": 133,
   "metadata": {},
   "outputs": [
    {
     "data": {
      "text/html": [
       "<table class=\"simpletable\">\n",
       "<caption>OLS Regression Results</caption>\n",
       "<tr>\n",
       "  <th>Dep. Variable:</th>        <td>SalePrice</td>    <th>  R-squared:         </th>  <td>   0.178</td>  \n",
       "</tr>\n",
       "<tr>\n",
       "  <th>Model:</th>                   <td>OLS</td>       <th>  Adj. R-squared:    </th>  <td>   0.178</td>  \n",
       "</tr>\n",
       "<tr>\n",
       "  <th>Method:</th>             <td>Least Squares</td>  <th>  F-statistic:       </th>  <td>5.267e+04</td> \n",
       "</tr>\n",
       "<tr>\n",
       "  <th>Date:</th>             <td>Tue, 03 Mar 2020</td> <th>  Prob (F-statistic):</th>   <td>  0.00</td>   \n",
       "</tr>\n",
       "<tr>\n",
       "  <th>Time:</th>                 <td>11:19:21</td>     <th>  Log-Likelihood:    </th> <td>-1.3911e+07</td>\n",
       "</tr>\n",
       "<tr>\n",
       "  <th>No. Observations:</th>      <td>970137</td>      <th>  AIC:               </th>  <td>2.782e+07</td> \n",
       "</tr>\n",
       "<tr>\n",
       "  <th>Df Residuals:</th>          <td>970132</td>      <th>  BIC:               </th>  <td>2.782e+07</td> \n",
       "</tr>\n",
       "<tr>\n",
       "  <th>Df Model:</th>              <td>     4</td>      <th>                     </th>      <td> </td>     \n",
       "</tr>\n",
       "<tr>\n",
       "  <th>Covariance Type:</th>      <td>nonrobust</td>    <th>                     </th>      <td> </td>     \n",
       "</tr>\n",
       "</table>\n",
       "<table class=\"simpletable\">\n",
       "<tr>\n",
       "          <td></td>             <th>coef</th>     <th>std err</th>      <th>t</th>      <th>P>|t|</th>  <th>[0.025</th>    <th>0.975]</th>  \n",
       "</tr>\n",
       "<tr>\n",
       "  <th>Intercept</th>         <td> 2.411e+04</td> <td> 1014.581</td> <td>   23.767</td> <td> 0.000</td> <td> 2.21e+04</td> <td> 2.61e+04</td>\n",
       "</tr>\n",
       "<tr>\n",
       "  <th>SqFtTotLiving</th>     <td>  177.6369</td> <td>    0.471</td> <td>  377.141</td> <td> 0.000</td> <td>  176.714</td> <td>  178.560</td>\n",
       "</tr>\n",
       "<tr>\n",
       "  <th>TidelandShoreland</th> <td> 2.783e+05</td> <td> 2418.152</td> <td>  115.105</td> <td> 0.000</td> <td> 2.74e+05</td> <td> 2.83e+05</td>\n",
       "</tr>\n",
       "<tr>\n",
       "  <th>SqFtOpenPorch</th>     <td>  134.3047</td> <td>    3.610</td> <td>   37.201</td> <td> 0.000</td> <td>  127.229</td> <td>  141.381</td>\n",
       "</tr>\n",
       "<tr>\n",
       "  <th>SqFtDeck</th>          <td>  -25.6579</td> <td>    1.299</td> <td>  -19.747</td> <td> 0.000</td> <td>  -28.205</td> <td>  -23.111</td>\n",
       "</tr>\n",
       "</table>\n",
       "<table class=\"simpletable\">\n",
       "<tr>\n",
       "  <th>Omnibus:</th>       <td>845317.069</td> <th>  Durbin-Watson:     </th>   <td>   1.859</td>  \n",
       "</tr>\n",
       "<tr>\n",
       "  <th>Prob(Omnibus):</th>   <td> 0.000</td>   <th>  Jarque-Bera (JB):  </th> <td>36363989.512</td>\n",
       "</tr>\n",
       "<tr>\n",
       "  <th>Skew:</th>            <td> 4.070</td>   <th>  Prob(JB):          </th>   <td>    0.00</td>  \n",
       "</tr>\n",
       "<tr>\n",
       "  <th>Kurtosis:</th>        <td>31.868</td>   <th>  Cond. No.          </th>   <td>1.38e+04</td>  \n",
       "</tr>\n",
       "</table><br/><br/>Warnings:<br/>[1] Standard Errors assume that the covariance matrix of the errors is correctly specified.<br/>[2] The condition number is large, 1.38e+04. This might indicate that there are<br/>strong multicollinearity or other numerical problems."
      ],
      "text/plain": [
       "<class 'statsmodels.iolib.summary.Summary'>\n",
       "\"\"\"\n",
       "                            OLS Regression Results                            \n",
       "==============================================================================\n",
       "Dep. Variable:              SalePrice   R-squared:                       0.178\n",
       "Model:                            OLS   Adj. R-squared:                  0.178\n",
       "Method:                 Least Squares   F-statistic:                 5.267e+04\n",
       "Date:                Tue, 03 Mar 2020   Prob (F-statistic):               0.00\n",
       "Time:                        11:19:21   Log-Likelihood:            -1.3911e+07\n",
       "No. Observations:              970137   AIC:                         2.782e+07\n",
       "Df Residuals:                  970132   BIC:                         2.782e+07\n",
       "Df Model:                           4                                         \n",
       "Covariance Type:            nonrobust                                         \n",
       "=====================================================================================\n",
       "                        coef    std err          t      P>|t|      [0.025      0.975]\n",
       "-------------------------------------------------------------------------------------\n",
       "Intercept          2.411e+04   1014.581     23.767      0.000    2.21e+04    2.61e+04\n",
       "SqFtTotLiving       177.6369      0.471    377.141      0.000     176.714     178.560\n",
       "TidelandShoreland  2.783e+05   2418.152    115.105      0.000    2.74e+05    2.83e+05\n",
       "SqFtOpenPorch       134.3047      3.610     37.201      0.000     127.229     141.381\n",
       "SqFtDeck            -25.6579      1.299    -19.747      0.000     -28.205     -23.111\n",
       "==============================================================================\n",
       "Omnibus:                   845317.069   Durbin-Watson:                   1.859\n",
       "Prob(Omnibus):                  0.000   Jarque-Bera (JB):         36363989.512\n",
       "Skew:                           4.070   Prob(JB):                         0.00\n",
       "Kurtosis:                      31.868   Cond. No.                     1.38e+04\n",
       "==============================================================================\n",
       "\n",
       "Warnings:\n",
       "[1] Standard Errors assume that the covariance matrix of the errors is correctly specified.\n",
       "[2] The condition number is large, 1.38e+04. This might indicate that there are\n",
       "strong multicollinearity or other numerical problems.\n",
       "\"\"\""
      ]
     },
     "execution_count": 133,
     "metadata": {},
     "output_type": "execute_result"
    }
   ],
   "source": [
    "fsm.summary()"
   ]
  },
  {
   "cell_type": "code",
   "execution_count": 134,
   "metadata": {},
   "outputs": [
    {
     "name": "stdout",
     "output_type": "stream",
     "text": [
      "Rainbow statistic: 1.005053739145589\n",
      "Rainbow p-value: 0.03959145240527391\n"
     ]
    }
   ],
   "source": [
    "rainbow_statistic, rainbow_p_value = linear_rainbow(fsm)\n",
    "print(\"Rainbow statistic:\", rainbow_statistic)\n",
    "print(\"Rainbow p-value:\", rainbow_p_value)"
   ]
  },
  {
   "cell_type": "code",
   "execution_count": 135,
   "metadata": {},
   "outputs": [],
   "source": [
    "fsm_2 = ols(formula=\"SalePrice ~ SqFtTotLiving + TidelandShoreland + SqFtOpenPorch + SqFtDeck\", data=groomed_2019_above_zero).fit()"
   ]
  },
  {
   "cell_type": "code",
   "execution_count": 136,
   "metadata": {},
   "outputs": [
    {
     "data": {
      "text/html": [
       "<table class=\"simpletable\">\n",
       "<caption>OLS Regression Results</caption>\n",
       "<tr>\n",
       "  <th>Dep. Variable:</th>        <td>SalePrice</td>    <th>  R-squared:         </th>  <td>   0.366</td>  \n",
       "</tr>\n",
       "<tr>\n",
       "  <th>Model:</th>                   <td>OLS</td>       <th>  Adj. R-squared:    </th>  <td>   0.366</td>  \n",
       "</tr>\n",
       "<tr>\n",
       "  <th>Method:</th>             <td>Least Squares</td>  <th>  F-statistic:       </th>  <td>   4270.</td>  \n",
       "</tr>\n",
       "<tr>\n",
       "  <th>Date:</th>             <td>Tue, 03 Mar 2020</td> <th>  Prob (F-statistic):</th>   <td>  0.00</td>   \n",
       "</tr>\n",
       "<tr>\n",
       "  <th>Time:</th>                 <td>11:19:24</td>     <th>  Log-Likelihood:    </th> <td>-4.2506e+05</td>\n",
       "</tr>\n",
       "<tr>\n",
       "  <th>No. Observations:</th>      <td> 29621</td>      <th>  AIC:               </th>  <td>8.501e+05</td> \n",
       "</tr>\n",
       "<tr>\n",
       "  <th>Df Residuals:</th>          <td> 29616</td>      <th>  BIC:               </th>  <td>8.502e+05</td> \n",
       "</tr>\n",
       "<tr>\n",
       "  <th>Df Model:</th>              <td>     4</td>      <th>                     </th>      <td> </td>     \n",
       "</tr>\n",
       "<tr>\n",
       "  <th>Covariance Type:</th>      <td>nonrobust</td>    <th>                     </th>      <td> </td>     \n",
       "</tr>\n",
       "</table>\n",
       "<table class=\"simpletable\">\n",
       "<tr>\n",
       "          <td></td>             <th>coef</th>     <th>std err</th>      <th>t</th>      <th>P>|t|</th>  <th>[0.025</th>    <th>0.975]</th>  \n",
       "</tr>\n",
       "<tr>\n",
       "  <th>Intercept</th>         <td> 1.265e+05</td> <td> 5817.454</td> <td>   21.737</td> <td> 0.000</td> <td> 1.15e+05</td> <td> 1.38e+05</td>\n",
       "</tr>\n",
       "<tr>\n",
       "  <th>SqFtTotLiving</th>     <td>  282.0029</td> <td>    2.729</td> <td>  103.336</td> <td> 0.000</td> <td>  276.654</td> <td>  287.352</td>\n",
       "</tr>\n",
       "<tr>\n",
       "  <th>TidelandShoreland</th> <td>  3.77e+05</td> <td> 1.49e+04</td> <td>   25.289</td> <td> 0.000</td> <td> 3.48e+05</td> <td> 4.06e+05</td>\n",
       "</tr>\n",
       "<tr>\n",
       "  <th>SqFtOpenPorch</th>     <td>  177.2993</td> <td>   18.373</td> <td>    9.650</td> <td> 0.000</td> <td>  141.288</td> <td>  213.311</td>\n",
       "</tr>\n",
       "<tr>\n",
       "  <th>SqFtDeck</th>          <td>  195.9824</td> <td>   11.759</td> <td>   16.666</td> <td> 0.000</td> <td>  172.934</td> <td>  219.031</td>\n",
       "</tr>\n",
       "</table>\n",
       "<table class=\"simpletable\">\n",
       "<tr>\n",
       "  <th>Omnibus:</th>       <td>14640.055</td> <th>  Durbin-Watson:     </th>  <td>   1.841</td> \n",
       "</tr>\n",
       "<tr>\n",
       "  <th>Prob(Omnibus):</th>  <td> 0.000</td>   <th>  Jarque-Bera (JB):  </th> <td>222241.968</td>\n",
       "</tr>\n",
       "<tr>\n",
       "  <th>Skew:</th>           <td> 2.006</td>   <th>  Prob(JB):          </th>  <td>    0.00</td> \n",
       "</tr>\n",
       "<tr>\n",
       "  <th>Kurtosis:</th>       <td>15.805</td>   <th>  Cond. No.          </th>  <td>1.48e+04</td> \n",
       "</tr>\n",
       "</table><br/><br/>Warnings:<br/>[1] Standard Errors assume that the covariance matrix of the errors is correctly specified.<br/>[2] The condition number is large, 1.48e+04. This might indicate that there are<br/>strong multicollinearity or other numerical problems."
      ],
      "text/plain": [
       "<class 'statsmodels.iolib.summary.Summary'>\n",
       "\"\"\"\n",
       "                            OLS Regression Results                            \n",
       "==============================================================================\n",
       "Dep. Variable:              SalePrice   R-squared:                       0.366\n",
       "Model:                            OLS   Adj. R-squared:                  0.366\n",
       "Method:                 Least Squares   F-statistic:                     4270.\n",
       "Date:                Tue, 03 Mar 2020   Prob (F-statistic):               0.00\n",
       "Time:                        11:19:24   Log-Likelihood:            -4.2506e+05\n",
       "No. Observations:               29621   AIC:                         8.501e+05\n",
       "Df Residuals:                   29616   BIC:                         8.502e+05\n",
       "Df Model:                           4                                         \n",
       "Covariance Type:            nonrobust                                         \n",
       "=====================================================================================\n",
       "                        coef    std err          t      P>|t|      [0.025      0.975]\n",
       "-------------------------------------------------------------------------------------\n",
       "Intercept          1.265e+05   5817.454     21.737      0.000    1.15e+05    1.38e+05\n",
       "SqFtTotLiving       282.0029      2.729    103.336      0.000     276.654     287.352\n",
       "TidelandShoreland   3.77e+05   1.49e+04     25.289      0.000    3.48e+05    4.06e+05\n",
       "SqFtOpenPorch       177.2993     18.373      9.650      0.000     141.288     213.311\n",
       "SqFtDeck            195.9824     11.759     16.666      0.000     172.934     219.031\n",
       "==============================================================================\n",
       "Omnibus:                    14640.055   Durbin-Watson:                   1.841\n",
       "Prob(Omnibus):                  0.000   Jarque-Bera (JB):           222241.968\n",
       "Skew:                           2.006   Prob(JB):                         0.00\n",
       "Kurtosis:                      15.805   Cond. No.                     1.48e+04\n",
       "==============================================================================\n",
       "\n",
       "Warnings:\n",
       "[1] Standard Errors assume that the covariance matrix of the errors is correctly specified.\n",
       "[2] The condition number is large, 1.48e+04. This might indicate that there are\n",
       "strong multicollinearity or other numerical problems.\n",
       "\"\"\""
      ]
     },
     "execution_count": 136,
     "metadata": {},
     "output_type": "execute_result"
    }
   ],
   "source": [
    "fsm_2.summary()"
   ]
  },
  {
   "cell_type": "code",
   "execution_count": 137,
   "metadata": {},
   "outputs": [
    {
     "name": "stdout",
     "output_type": "stream",
     "text": [
      "Rainbow statistic: 1.0419608450301678\n",
      "Rainbow p-value: 0.006195276212891833\n"
     ]
    }
   ],
   "source": [
    "rainbow_statistic, rainbow_p_value = linear_rainbow(fsm_2)\n",
    "print(\"Rainbow statistic:\", rainbow_statistic)\n",
    "print(\"Rainbow p-value:\", rainbow_p_value)"
   ]
  },
  {
   "cell_type": "code",
   "execution_count": 51,
   "metadata": {},
   "outputs": [
    {
     "name": "stdout",
     "output_type": "stream",
     "text": [
      "Major_x\n",
      "Minor_x\n",
      "BldgNbr\n",
      "NbrLivingUnits\n",
      "Address\n",
      "BuildingNumber\n",
      "Fraction\n",
      "DirectionPrefix\n",
      "StreetName\n",
      "StreetType\n",
      "DirectionSuffix\n",
      "ZipCode\n",
      "Stories\n",
      "BldgGrade\n",
      "BldgGradeVar\n",
      "SqFt1stFloor\n",
      "SqFtHalfFloor\n",
      "SqFt2ndFloor\n",
      "SqFtUpperFloor\n",
      "SqFtUnfinFull\n",
      "SqFtUnfinHalf\n",
      "SqFtTotLiving\n",
      "SqFtTotBasement\n",
      "SqFtFinBasement\n",
      "FinBasementGrade\n",
      "SqFtGarageBasement\n",
      "SqFtGarageAttached\n",
      "DaylightBasement\n",
      "SqFtOpenPorch\n",
      "SqFtEnclosedPorch\n",
      "SqFtDeck\n",
      "HeatSystem\n",
      "HeatSource\n",
      "BrickStone\n",
      "ViewUtilization\n",
      "Bedrooms\n",
      "BathHalfCount\n",
      "Bath3qtrCount\n",
      "BathFullCount\n",
      "FpSingleStory\n",
      "FpMultiStory\n",
      "FpFreestanding\n",
      "FpAdditional\n",
      "YrBuilt\n",
      "YrRenovated\n",
      "PcntComplete\n",
      "Obsolescence\n",
      "PcntNetCondition\n",
      "Condition\n",
      "AddnlCost\n",
      "pin\n",
      "ExciseTaxNbr\n",
      "Major_y\n",
      "Minor_y\n",
      "DocumentDate\n",
      "SalePrice\n",
      "RecordingNbr\n",
      "Volume\n",
      "Page\n",
      "PlatNbr\n",
      "PlatType\n",
      "PlatLot_x\n",
      "PlatBlock_x\n",
      "SellerName\n",
      "BuyerName\n",
      "PropertyType\n",
      "PrincipalUse\n",
      "SaleInstrument\n",
      "AFForestLand\n",
      "AFCurrentUseLand\n",
      "AFNonProfitUse\n",
      "AFHistoricProperty\n",
      "SaleReason\n",
      "PropertyClass\n",
      "SaleWarning\n",
      "Major\n",
      "Minor\n",
      "PropName\n",
      "PlatName\n",
      "PlatLot_y\n",
      "PlatBlock_y\n",
      "Range\n",
      "Township\n",
      "Section\n",
      "QuarterSection\n",
      "PropType\n",
      "Area\n",
      "SubArea\n",
      "SpecArea\n",
      "SpecSubArea\n",
      "DistrictName\n",
      "LevyCode\n",
      "CurrentZoning\n",
      "HBUAsIfVacant\n",
      "HBUAsImproved\n",
      "PresentUse\n",
      "SqFtLot\n",
      "WaterSystem\n",
      "SewerSystem\n",
      "Access\n",
      "Topography\n",
      "StreetSurface\n",
      "RestrictiveSzShape\n",
      "InadequateParking\n",
      "PcntUnusable\n",
      "Unbuildable\n",
      "MtRainier\n",
      "Olympics\n",
      "Cascades\n",
      "Territorial\n",
      "SeattleSkyline\n",
      "PugetSound\n",
      "LakeWashington\n",
      "LakeSammamish\n",
      "SmallLakeRiverCreek\n",
      "OtherView\n",
      "WfntLocation\n",
      "WfntFootage\n",
      "WfntBank\n",
      "WfntPoorQuality\n",
      "WfntRestrictedAccess\n",
      "WfntAccessRights\n",
      "WfntProximityInfluence\n",
      "TidelandShoreland\n",
      "LotDepthFactor\n",
      "TrafficNoise\n",
      "AirportNoise\n",
      "PowerLines\n",
      "OtherNuisances\n",
      "NbrBldgSites\n",
      "Contamination\n",
      "DNRLease\n",
      "AdjacentGolfFairway\n",
      "AdjacentGreenbelt\n",
      "HistoricSite\n",
      "CurrentUseDesignation\n",
      "NativeGrowthProtEsmt\n",
      "Easements\n",
      "OtherDesignation\n",
      "DeedRestrictions\n",
      "DevelopmentRightsPurch\n",
      "CoalMineHazard\n",
      "CriticalDrainage\n",
      "ErosionHazard\n",
      "LandfillBuffer\n",
      "HundredYrFloodPlain\n",
      "SeismicHazard\n",
      "LandslideHazard\n",
      "SteepSlopeHazard\n",
      "Stream\n",
      "Wetland\n",
      "SpeciesOfConcern\n",
      "SensitiveAreaTract\n",
      "WaterProblems\n",
      "TranspConcurrency\n",
      "OtherProblems\n"
     ]
    }
   ],
   "source": [
    "for _ in df.columns:\n",
    "    print(_)"
   ]
  },
  {
   "cell_type": "code",
   "execution_count": 61,
   "metadata": {},
   "outputs": [],
   "source": [
    "fsm_3 = ols(formula=\"SalePrice ~ SqFtTotLiving + TidelandShoreland + SqFtOpenPorch + SqFtDeck + Area\", data=df_filtered).fit()"
   ]
  },
  {
   "cell_type": "code",
   "execution_count": 62,
   "metadata": {},
   "outputs": [
    {
     "data": {
      "text/html": [
       "<table class=\"simpletable\">\n",
       "<caption>OLS Regression Results</caption>\n",
       "<tr>\n",
       "  <th>Dep. Variable:</th>        <td>SalePrice</td>    <th>  R-squared:         </th>  <td>   0.376</td>  \n",
       "</tr>\n",
       "<tr>\n",
       "  <th>Model:</th>                   <td>OLS</td>       <th>  Adj. R-squared:    </th>  <td>   0.376</td>  \n",
       "</tr>\n",
       "<tr>\n",
       "  <th>Method:</th>             <td>Least Squares</td>  <th>  F-statistic:       </th>  <td>   3568.</td>  \n",
       "</tr>\n",
       "<tr>\n",
       "  <th>Date:</th>             <td>Tue, 03 Mar 2020</td> <th>  Prob (F-statistic):</th>   <td>  0.00</td>   \n",
       "</tr>\n",
       "<tr>\n",
       "  <th>Time:</th>                 <td>12:58:10</td>     <th>  Log-Likelihood:    </th> <td>-4.2482e+05</td>\n",
       "</tr>\n",
       "<tr>\n",
       "  <th>No. Observations:</th>      <td> 29621</td>      <th>  AIC:               </th>  <td>8.497e+05</td> \n",
       "</tr>\n",
       "<tr>\n",
       "  <th>Df Residuals:</th>          <td> 29615</td>      <th>  BIC:               </th>  <td>8.497e+05</td> \n",
       "</tr>\n",
       "<tr>\n",
       "  <th>Df Model:</th>              <td>     5</td>      <th>                     </th>      <td> </td>     \n",
       "</tr>\n",
       "<tr>\n",
       "  <th>Covariance Type:</th>      <td>nonrobust</td>    <th>                     </th>      <td> </td>     \n",
       "</tr>\n",
       "</table>\n",
       "<table class=\"simpletable\">\n",
       "<tr>\n",
       "          <td></td>             <th>coef</th>     <th>std err</th>      <th>t</th>      <th>P>|t|</th>  <th>[0.025</th>    <th>0.975]</th>  \n",
       "</tr>\n",
       "<tr>\n",
       "  <th>Intercept</th>         <td> 2.103e+05</td> <td> 6918.209</td> <td>   30.399</td> <td> 0.000</td> <td> 1.97e+05</td> <td> 2.24e+05</td>\n",
       "</tr>\n",
       "<tr>\n",
       "  <th>SqFtTotLiving</th>     <td>  286.4610</td> <td>    2.715</td> <td>  105.525</td> <td> 0.000</td> <td>  281.140</td> <td>  291.782</td>\n",
       "</tr>\n",
       "<tr>\n",
       "  <th>TidelandShoreland</th> <td> 3.834e+05</td> <td> 1.48e+04</td> <td>   25.923</td> <td> 0.000</td> <td> 3.54e+05</td> <td> 4.12e+05</td>\n",
       "</tr>\n",
       "<tr>\n",
       "  <th>SqFtOpenPorch</th>     <td>  206.5822</td> <td>   18.274</td> <td>   11.305</td> <td> 0.000</td> <td>  170.765</td> <td>  242.400</td>\n",
       "</tr>\n",
       "<tr>\n",
       "  <th>SqFtDeck</th>          <td>  187.3638</td> <td>   11.671</td> <td>   16.053</td> <td> 0.000</td> <td>  164.487</td> <td>  210.240</td>\n",
       "</tr>\n",
       "<tr>\n",
       "  <th>Area</th>              <td>-1959.6078</td> <td>   89.174</td> <td>  -21.975</td> <td> 0.000</td> <td>-2134.392</td> <td>-1784.824</td>\n",
       "</tr>\n",
       "</table>\n",
       "<table class=\"simpletable\">\n",
       "<tr>\n",
       "  <th>Omnibus:</th>       <td>14553.877</td> <th>  Durbin-Watson:     </th>  <td>   1.609</td> \n",
       "</tr>\n",
       "<tr>\n",
       "  <th>Prob(Omnibus):</th>  <td> 0.000</td>   <th>  Jarque-Bera (JB):  </th> <td>224649.045</td>\n",
       "</tr>\n",
       "<tr>\n",
       "  <th>Skew:</th>           <td> 1.985</td>   <th>  Prob(JB):          </th>  <td>    0.00</td> \n",
       "</tr>\n",
       "<tr>\n",
       "  <th>Kurtosis:</th>       <td>15.894</td>   <th>  Cond. No.          </th>  <td>1.48e+04</td> \n",
       "</tr>\n",
       "</table><br/><br/>Warnings:<br/>[1] Standard Errors assume that the covariance matrix of the errors is correctly specified.<br/>[2] The condition number is large, 1.48e+04. This might indicate that there are<br/>strong multicollinearity or other numerical problems."
      ],
      "text/plain": [
       "<class 'statsmodels.iolib.summary.Summary'>\n",
       "\"\"\"\n",
       "                            OLS Regression Results                            \n",
       "==============================================================================\n",
       "Dep. Variable:              SalePrice   R-squared:                       0.376\n",
       "Model:                            OLS   Adj. R-squared:                  0.376\n",
       "Method:                 Least Squares   F-statistic:                     3568.\n",
       "Date:                Tue, 03 Mar 2020   Prob (F-statistic):               0.00\n",
       "Time:                        12:58:10   Log-Likelihood:            -4.2482e+05\n",
       "No. Observations:               29621   AIC:                         8.497e+05\n",
       "Df Residuals:                   29615   BIC:                         8.497e+05\n",
       "Df Model:                           5                                         \n",
       "Covariance Type:            nonrobust                                         \n",
       "=====================================================================================\n",
       "                        coef    std err          t      P>|t|      [0.025      0.975]\n",
       "-------------------------------------------------------------------------------------\n",
       "Intercept          2.103e+05   6918.209     30.399      0.000    1.97e+05    2.24e+05\n",
       "SqFtTotLiving       286.4610      2.715    105.525      0.000     281.140     291.782\n",
       "TidelandShoreland  3.834e+05   1.48e+04     25.923      0.000    3.54e+05    4.12e+05\n",
       "SqFtOpenPorch       206.5822     18.274     11.305      0.000     170.765     242.400\n",
       "SqFtDeck            187.3638     11.671     16.053      0.000     164.487     210.240\n",
       "Area              -1959.6078     89.174    -21.975      0.000   -2134.392   -1784.824\n",
       "==============================================================================\n",
       "Omnibus:                    14553.877   Durbin-Watson:                   1.609\n",
       "Prob(Omnibus):                  0.000   Jarque-Bera (JB):           224649.045\n",
       "Skew:                           1.985   Prob(JB):                         0.00\n",
       "Kurtosis:                      15.894   Cond. No.                     1.48e+04\n",
       "==============================================================================\n",
       "\n",
       "Warnings:\n",
       "[1] Standard Errors assume that the covariance matrix of the errors is correctly specified.\n",
       "[2] The condition number is large, 1.48e+04. This might indicate that there are\n",
       "strong multicollinearity or other numerical problems.\n",
       "\"\"\""
      ]
     },
     "execution_count": 62,
     "metadata": {},
     "output_type": "execute_result"
    }
   ],
   "source": [
    "fsm_3.summary()"
   ]
  },
  {
   "cell_type": "code",
   "execution_count": 63,
   "metadata": {},
   "outputs": [
    {
     "name": "stdout",
     "output_type": "stream",
     "text": [
      "Rainbow statistic: 0.965660547188186\n",
      "Rainbow p-value: 0.9832461523067235\n"
     ]
    }
   ],
   "source": [
    "rainbow_statistic, rainbow_p_value = linear_rainbow(fsm_3)\n",
    "print(\"Rainbow statistic:\", rainbow_statistic)\n",
    "print(\"Rainbow p-value:\", rainbow_p_value)"
   ]
  }
 ],
 "metadata": {
  "kernelspec": {
   "display_name": "linreg-env",
   "language": "python",
   "name": "linreg-env"
  },
  "language_info": {
   "codemirror_mode": {
    "name": "ipython",
    "version": 3
   },
   "file_extension": ".py",
   "mimetype": "text/x-python",
   "name": "python",
   "nbconvert_exporter": "python",
   "pygments_lexer": "ipython3",
   "version": "3.8.1"
  }
 },
 "nbformat": 4,
 "nbformat_minor": 4
}
