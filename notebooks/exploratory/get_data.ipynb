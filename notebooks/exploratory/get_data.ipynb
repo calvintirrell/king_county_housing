{
 "cells": [
  {
   "cell_type": "code",
   "execution_count": 1,
   "metadata": {},
   "outputs": [],
   "source": [
    "import requests\n",
    "import os\n",
    "import zipfile"
   ]
  },
  {
   "cell_type": "code",
   "execution_count": 6,
   "metadata": {},
   "outputs": [],
   "source": [
    "def make_csv(file_name):\n",
    "    response = get_response(file_name)\n",
    "    zip_path = make_zip(response, file_name)\n",
    "    extract_zip(zip_path, file_name)\n",
    "    remove_zip(zip_path)\n",
    "    return \n",
    "    \n",
    "def get_response(file_name):\n",
    "    website_url = \"https://aqua.kingcounty.gov/extranet/assessor/\"\n",
    "    response = requests.get(website_url + file_name)\n",
    "    return response\n",
    "\n",
    "def make_zip(response, file_name):\n",
    "    home = os.path.expanduser(\"~\")\n",
    "    desktop = home + '/Desktop/'\n",
    "    path = desktop + file_name\n",
    "    open(path, 'wb').write(response.content)\n",
    "    return path\n",
    "\n",
    "def extract_zip(path, file_name):\n",
    "    with zipfile.ZipFile(path, 'r') as zip_ref:\n",
    "        zip_ref.extractall(path.replace(file_name, ''))\n",
    "        \n",
    "def remove_zip(path):\n",
    "    os.remove(path)"
   ]
  },
  {
   "cell_type": "code",
   "execution_count": 7,
   "metadata": {},
   "outputs": [],
   "source": [
    "parcel_url = 'Parcel.zip'\n",
    "sale_url = 'Real%20Property%20Sales.zip'\n",
    "res_url = 'Residential%20Building.zip'\n",
    "\n",
    "make_csv(sale_url)"
   ]
  },
  {
   "cell_type": "code",
   "execution_count": 15,
   "metadata": {},
   "outputs": [],
   "source": [
    "import zipfile\n",
    "\n",
    "home = os.path.expanduser(\"~\")\n",
    "desktop = home + '/Desktop/'\n",
    "path = desktop + sale_url\n",
    "\n",
    "zipdata = zipfile.ZipFile(path)\n",
    "zipinfos = zipdata.infolist()\n",
    " \n",
    "for zipinfo in zipinfos:\n",
    "    #zipinfo.filename = do_something_to(zipinfo.filename)\n",
    "    zipdata.extract(zipinfo, path = '../../data')"
   ]
  },
  {
   "cell_type": "code",
   "execution_count": null,
   "metadata": {},
   "outputs": [],
   "source": []
  }
 ],
 "metadata": {
  "kernelspec": {
   "display_name": "Python 3 (linreg-env)",
   "language": "python",
   "name": "linreg-env"
  },
  "language_info": {
   "codemirror_mode": {
    "name": "ipython",
    "version": 3
   },
   "file_extension": ".py",
   "mimetype": "text/x-python",
   "name": "python",
   "nbconvert_exporter": "python",
   "pygments_lexer": "ipython3",
   "version": "3.7.4"
  }
 },
 "nbformat": 4,
 "nbformat_minor": 4
}
