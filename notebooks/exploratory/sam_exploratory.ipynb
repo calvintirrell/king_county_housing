{
 "cells": [
  {
   "cell_type": "code",
   "execution_count": 2,
   "metadata": {},
   "outputs": [],
   "source": [
    "import pandas as pd\n",
    "import numpy as np\n",
    "import psycopg2\n",
    "import scipy\n",
    "\n",
    "import matplotlib.pyplot as plt\n",
    "import seaborn as sns\n",
    "\n",
    "import statsmodels.stats as stats\n",
    "from statsmodels.formula.api import ols\n",
    "from statsmodels.stats.diagnostic import linear_rainbow, het_breuschpagan\n",
    "from statsmodels.stats.outliers_influence import variance_inflation_factor\n",
    "from sklearn.linear_model import LinearRegression"
   ]
  },
  {
   "cell_type": "code",
   "execution_count": 2,
   "metadata": {},
   "outputs": [],
   "source": [
    "# !pip install sklearn"
   ]
  },
  {
   "cell_type": "code",
   "execution_count": 33,
   "metadata": {},
   "outputs": [
    {
     "ename": "SyntaxError",
     "evalue": "EOL while scanning string literal (<ipython-input-33-3a206d262756>, line 1)",
     "output_type": "error",
     "traceback": [
      "\u001b[0;36m  File \u001b[0;32m\"<ipython-input-33-3a206d262756>\"\u001b[0;36m, line \u001b[0;32m1\u001b[0m\n\u001b[0;31m    df_2019 = pd.re\"ad_csv('../../data/housing2019.csv', encoding='latin-1')\u001b[0m\n\u001b[0m                                                                            ^\u001b[0m\n\u001b[0;31mSyntaxError\u001b[0m\u001b[0;31m:\u001b[0m EOL while scanning string literal\n"
     ]
    }
   ],
   "source": [
    "df_2019 = pd.read_csv('../../data/housing2019.csv', encoding='latin-1')\n"
   ]
  },
  {
   "cell_type": "code",
   "execution_count": 34,
   "metadata": {},
   "outputs": [
    {
     "data": {
      "text/plain": [
       "(43545, 158)"
      ]
     },
     "execution_count": 34,
     "metadata": {},
     "output_type": "execute_result"
    }
   ],
   "source": [
    "'''\n",
    "add zeros to columns and populate new column Major_+_Minor\n",
    "'''\n",
    "df_2019['Major'] = df_2019['Major'].astype('str').str.zfill(6)\n",
    "df_2019['Minor'] = df_2019['Minor'].astype('str').str.zfill(4)\n",
    "df_2019['Major_+_Minor'] = df_2019['Major'] + df_2019['Minor']\n",
    "df_2019.shape"
   ]
  },
  {
   "cell_type": "code",
   "execution_count": 5,
   "metadata": {},
   "outputs": [],
   "source": [
    "def common_columns(a, b): \n",
    "    \"\"\"\n",
    "    this function takes in two pandas dfs and returns a list of columns that they have in common\n",
    "    \"\"\"\n",
    "    \n",
    "    a_set = set(a.columns) \n",
    "    b_set = set(b.columns) \n",
    "    if (a_set & b_set): \n",
    "        print(a_set & b_set) \n",
    "    else: \n",
    "        print(\"No common elements\")"
   ]
  },
  {
   "cell_type": "code",
   "execution_count": 35,
   "metadata": {},
   "outputs": [
    {
     "name": "stdout",
     "output_type": "stream",
     "text": [
      "(43545, 158)\n",
      "Unnamed: 0\n",
      "Major_x\n",
      "Minor_x\n",
      "BldgNbr\n",
      "NbrLivingUnits\n",
      "Address\n",
      "BuildingNumber\n",
      "Fraction\n",
      "DirectionPrefix\n",
      "StreetName\n",
      "StreetType\n",
      "DirectionSuffix\n",
      "ZipCode\n",
      "Stories\n",
      "BldgGrade\n",
      "BldgGradeVar\n",
      "SqFt1stFloor\n",
      "SqFtHalfFloor\n",
      "SqFt2ndFloor\n",
      "SqFtUpperFloor\n",
      "SqFtUnfinFull\n",
      "SqFtUnfinHalf\n",
      "SqFtTotLiving\n",
      "SqFtTotBasement\n",
      "SqFtFinBasement\n",
      "FinBasementGrade\n",
      "SqFtGarageBasement\n",
      "SqFtGarageAttached\n",
      "DaylightBasement\n",
      "SqFtOpenPorch\n",
      "SqFtEnclosedPorch\n",
      "SqFtDeck\n",
      "HeatSystem\n",
      "HeatSource\n",
      "BrickStone\n",
      "ViewUtilization\n",
      "Bedrooms\n",
      "BathHalfCount\n",
      "Bath3qtrCount\n",
      "BathFullCount\n",
      "FpSingleStory\n",
      "FpMultiStory\n",
      "FpFreestanding\n",
      "FpAdditional\n",
      "YrBuilt\n",
      "YrRenovated\n",
      "PcntComplete\n",
      "Obsolescence\n",
      "PcntNetCondition\n",
      "Condition\n",
      "AddnlCost\n",
      "pin\n",
      "ExciseTaxNbr\n",
      "Major_y\n",
      "Minor_y\n",
      "DocumentDate\n",
      "SalePrice\n",
      "RecordingNbr\n",
      "Volume\n",
      "Page\n",
      "PlatNbr\n",
      "PlatType\n",
      "PlatLot_x\n",
      "PlatBlock_x\n",
      "SellerName\n",
      "BuyerName\n",
      "PropertyType\n",
      "PrincipalUse\n",
      "SaleInstrument\n",
      "AFForestLand\n",
      "AFCurrentUseLand\n",
      "AFNonProfitUse\n",
      "AFHistoricProperty\n",
      "SaleReason\n",
      "PropertyClass\n",
      "SaleWarning\n",
      "Major\n",
      "Minor\n",
      "PropName\n",
      "PlatName\n",
      "PlatLot_y\n",
      "PlatBlock_y\n",
      "Range\n",
      "Township\n",
      "Section\n",
      "QuarterSection\n",
      "PropType\n",
      "Area\n",
      "SubArea\n",
      "SpecArea\n",
      "SpecSubArea\n",
      "DistrictName\n",
      "LevyCode\n",
      "CurrentZoning\n",
      "HBUAsIfVacant\n",
      "HBUAsImproved\n",
      "PresentUse\n",
      "SqFtLot\n",
      "WaterSystem\n",
      "SewerSystem\n",
      "Access\n",
      "Topography\n",
      "StreetSurface\n",
      "RestrictiveSzShape\n",
      "InadequateParking\n",
      "PcntUnusable\n",
      "Unbuildable\n",
      "MtRainier\n",
      "Olympics\n",
      "Cascades\n",
      "Territorial\n",
      "SeattleSkyline\n",
      "PugetSound\n",
      "LakeWashington\n",
      "LakeSammamish\n",
      "SmallLakeRiverCreek\n",
      "OtherView\n",
      "WfntLocation\n",
      "WfntFootage\n",
      "WfntBank\n",
      "WfntPoorQuality\n",
      "WfntRestrictedAccess\n",
      "WfntAccessRights\n",
      "WfntProximityInfluence\n",
      "TidelandShoreland\n",
      "LotDepthFactor\n",
      "TrafficNoise\n",
      "AirportNoise\n",
      "PowerLines\n",
      "OtherNuisances\n",
      "NbrBldgSites\n",
      "Contamination\n",
      "DNRLease\n",
      "AdjacentGolfFairway\n",
      "AdjacentGreenbelt\n",
      "HistoricSite\n",
      "CurrentUseDesignation\n",
      "NativeGrowthProtEsmt\n",
      "Easements\n",
      "OtherDesignation\n",
      "DeedRestrictions\n",
      "DevelopmentRightsPurch\n",
      "CoalMineHazard\n",
      "CriticalDrainage\n",
      "ErosionHazard\n",
      "LandfillBuffer\n",
      "HundredYrFloodPlain\n",
      "SeismicHazard\n",
      "LandslideHazard\n",
      "SteepSlopeHazard\n",
      "Stream\n",
      "Wetland\n",
      "SpeciesOfConcern\n",
      "SensitiveAreaTract\n",
      "WaterProblems\n",
      "TranspConcurrency\n",
      "OtherProblems\n",
      "Major_+_Minor\n"
     ]
    }
   ],
   "source": [
    "print(df_2019.shape)\n",
    "for _ in df_2019.columns:\n",
    "    print(_)"
   ]
  },
  {
   "cell_type": "code",
   "execution_count": 4,
   "metadata": {},
   "outputs": [
    {
     "ename": "NameError",
     "evalue": "name 'df_2019' is not defined",
     "output_type": "error",
     "traceback": [
      "\u001b[0;31m---------------------------------------------------------------------------\u001b[0m",
      "\u001b[0;31mNameError\u001b[0m                                 Traceback (most recent call last)",
      "\u001b[0;32m<ipython-input-4-2aaf9679d4e3>\u001b[0m in \u001b[0;36m<module>\u001b[0;34m\u001b[0m\n\u001b[0;32m----> 1\u001b[0;31m \u001b[0mdf_2019\u001b[0m\u001b[0;34m[\u001b[0m\u001b[0;34m'WfntLocation'\u001b[0m\u001b[0;34m]\u001b[0m\u001b[0;34m.\u001b[0m\u001b[0mvalue_counts\u001b[0m\u001b[0;34m(\u001b[0m\u001b[0;34m)\u001b[0m\u001b[0;34m\u001b[0m\u001b[0;34m\u001b[0m\u001b[0m\n\u001b[0m",
      "\u001b[0;31mNameError\u001b[0m: name 'df_2019' is not defined"
     ]
    }
   ],
   "source": [
    "df_2019['WfntLocation'].value_counts()"
   ]
  },
  {
   "cell_type": "code",
   "execution_count": 37,
   "metadata": {},
   "outputs": [
    {
     "data": {
      "text/plain": [
       "0        0087000215\n",
       "1        0088000177\n",
       "2        0088000226\n",
       "3        0084000171\n",
       "4        0098000940\n",
       "            ...    \n",
       "43540    4039700280\n",
       "43541    4040100170\n",
       "43542    4040800180\n",
       "43543    4046600310\n",
       "43544    4053200260\n",
       "Name: Major_+_Minor, Length: 43545, dtype: object"
      ]
     },
     "execution_count": 37,
     "metadata": {},
     "output_type": "execute_result"
    }
   ],
   "source": [
    "df_2019['Major_+_Minor']"
   ]
  },
  {
   "cell_type": "code",
   "execution_count": 38,
   "metadata": {},
   "outputs": [],
   "source": [
    "\"\"\"\n",
    "selecting interested columns\n",
    "\"\"\"\n",
    "df_groom = df_2019[['Major_+_Minor', 'SalePrice', 'SqFtTotLiving', 'SqFtOpenPorch', \n",
    "                          'SqFtEnclosedPorch', 'SqFtDeck', 'TidelandShoreland',\n",
    "                          'TrafficNoise', 'AirportNoise', 'PowerLines', 'Stories', \n",
    "                          'Condition', 'Area', 'TrafficNoise', 'AirportNoise', 'PowerLines', \n",
    "                          'OtherNuisances', 'WfntLocation', 'DocumentDate']]\n",
    "# pd.DataFrame(groomed_df['Major_+_Minor'].value_counts()).iloc[100:]\n",
    "# groomed_df[groomed_df['Major_+_Minor'] == '0415100049'].sort_values('DocumentDate', ascending=False)"
   ]
  },
  {
   "cell_type": "code",
   "execution_count": 39,
   "metadata": {},
   "outputs": [],
   "source": [
    "\"\"\"\n",
    "filtering data\n",
    "\"\"\"\n",
    "\n",
    "df_groom = df_groom[df_groom['SalePrice'] > 0]\n",
    "df_groom = df_groom[df_groom['SalePrice'] < 5000000]\n",
    "#df_groom = df_groom[df_groom['LivableSpace'] < 50000]\n",
    "df_groom = df_groom[df_groom['SqFtTotLiving'] < 50000]\n",
    "df_groom = df_groom[df_groom['DocumentDate'].str.contains('2019')]"
   ]
  },
  {
   "cell_type": "code",
   "execution_count": 10,
   "metadata": {},
   "outputs": [
    {
     "data": {
      "text/plain": [
       "array([ 30.,  96.,  69.,  55.,  29.,  72.,  86.,  71.,  53.,  32.,  54.,\n",
       "        44.,  42.,  27.,  59.,  38.,  39.,  26.,  58.,  84., 100.,  23.,\n",
       "         1.,  16.,  82.,  25.,  28.,  66.,  15.,  17.,  24.,  52.,  51.,\n",
       "         2.,  48.,  85.,  18.,  56.,  11.,  74.,  34.,  49.,  65.,  63.,\n",
       "        45.,  21.,  47.,  37.,  95.,   6.,  94.,  61.,  14.,  19.,  41.,\n",
       "        67.,  40.,  43.,   3.,  79.,  64.,  60.,  35.,  93.,   8.,  70.,\n",
       "        57.,  80.,  22.,  87.,  92.,  36.,  81.,  68.,  62.,  13.,  88.,\n",
       "        91.,  75.,  46.,  12.,  73.,  33.,   4.,   7.,  31.,  77.,  90.])"
      ]
     },
     "execution_count": 10,
     "metadata": {},
     "output_type": "execute_result"
    }
   ],
   "source": [
    "df_groom['Area'].unique()"
   ]
  },
  {
   "cell_type": "code",
   "execution_count": 16,
   "metadata": {},
   "outputs": [
    {
     "data": {
      "text/plain": [
       "(224.63488759594452, 111191.12657206997)"
      ]
     },
     "execution_count": 16,
     "metadata": {},
     "output_type": "execute_result"
    }
   ],
   "source": [
    "fsm = ols(formula='SalePrice ~ SqFtTotLiving', data=df_2019).fit()\n",
    "b = fsm.params.Intercept\n",
    "m = fsm.params.SqFtTotLiving\n",
    "m, b"
   ]
  },
  {
   "cell_type": "code",
   "execution_count": 20,
   "metadata": {},
   "outputs": [
    {
     "data": {
      "image/png": "[encoded data removed]",
      "text/plain": [
       "<Figure size 432x288 with 1 Axes>"
      ]
     },
     "metadata": {
      "needs_background": "light"
     },
     "output_type": "display_data"
    }
   ],
   "source": [
    "fig, ax = plt.subplots()\n",
    "\n",
    "ax = sns.scatterplot(data=df_groom, x='SqFtTotLiving', y='SalePrice')\n",
    "ax.set(ylim=(0, 6000000), xlim=(0, 50000))\n",
    "# ax = sns.lineplot(x=df_2019['SqFtTotLiving'],y=(m*df_2019['SqFtTotLiving'] + b))\n",
    "x = np.linspace(0,50000, 100)\n",
    "y = m*x+b\n",
    "ax = sns.lineplot(x,y)"
   ]
  },
  {
   "cell_type": "code",
   "execution_count": 54,
   "metadata": {},
   "outputs": [
    {
     "data": {
      "text/plain": [
       "25    9178\n",
       "24    9073\n",
       "26    8061\n",
       "23    6469\n",
       "22    5441\n",
       "21    4697\n",
       "20     622\n",
       "19       4\n",
       "Name: Township, dtype: int64"
      ]
     },
     "execution_count": 54,
     "metadata": {},
     "output_type": "execute_result"
    }
   ],
   "source": [
    "df_2019['Township'].value_counts()"
   ]
  },
  {
   "cell_type": "code",
   "execution_count": null,
   "metadata": {},
   "outputs": [],
   "source": [
    "fsm = ols(formula='SalePrice ~ SqFtTotLiving', data=groomed_df).fit()\n",
    "\n",
    "rainbow_statistic, rainbow_p_value = linear_rainbow(fsm)\n",
    "print('p val: ', rainbow_p_value)\n",
    "print('rainbow stat: ', rainbow_statistic)"
   ]
  },
  {
   "cell_type": "code",
   "execution_count": 49,
   "metadata": {},
   "outputs": [
    {
     "data": {
      "text/html": [
       "<table class=\"simpletable\">\n",
       "<caption>OLS Regression Results</caption>\n",
       "<tr>\n",
       "  <th>Dep. Variable:</th>        <td>SalePrice</td>    <th>  R-squared:         </th>  <td>   0.378</td>  \n",
       "</tr>\n",
       "<tr>\n",
       "  <th>Model:</th>                   <td>OLS</td>       <th>  Adj. R-squared:    </th>  <td>   0.378</td>  \n",
       "</tr>\n",
       "<tr>\n",
       "  <th>Method:</th>             <td>Least Squares</td>  <th>  F-statistic:       </th>  <td>   2249.</td>  \n",
       "</tr>\n",
       "<tr>\n",
       "  <th>Date:</th>             <td>Tue, 03 Mar 2020</td> <th>  Prob (F-statistic):</th>   <td>  0.00</td>   \n",
       "</tr>\n",
       "<tr>\n",
       "  <th>Time:</th>                 <td>12:29:00</td>     <th>  Log-Likelihood:    </th> <td>-4.2500e+05</td>\n",
       "</tr>\n",
       "<tr>\n",
       "  <th>No. Observations:</th>      <td> 29636</td>      <th>  AIC:               </th>  <td>8.500e+05</td> \n",
       "</tr>\n",
       "<tr>\n",
       "  <th>Df Residuals:</th>          <td> 29627</td>      <th>  BIC:               </th>  <td>8.501e+05</td> \n",
       "</tr>\n",
       "<tr>\n",
       "  <th>Df Model:</th>              <td>     8</td>      <th>                     </th>      <td> </td>     \n",
       "</tr>\n",
       "<tr>\n",
       "  <th>Covariance Type:</th>      <td>nonrobust</td>    <th>                     </th>      <td> </td>     \n",
       "</tr>\n",
       "</table>\n",
       "<table class=\"simpletable\">\n",
       "<tr>\n",
       "          <td></td>             <th>coef</th>     <th>std err</th>      <th>t</th>      <th>P>|t|</th>  <th>[0.025</th>    <th>0.975]</th>  \n",
       "</tr>\n",
       "<tr>\n",
       "  <th>Intercept</th>         <td> 9.798e+04</td> <td> 1.71e+04</td> <td>    5.737</td> <td> 0.000</td> <td> 6.45e+04</td> <td> 1.31e+05</td>\n",
       "</tr>\n",
       "<tr>\n",
       "  <th>SqFtTotLiving</th>     <td>  278.7808</td> <td>    2.879</td> <td>   96.828</td> <td> 0.000</td> <td>  273.138</td> <td>  284.424</td>\n",
       "</tr>\n",
       "<tr>\n",
       "  <th>SqFtOpenPorch</th>     <td>  194.8438</td> <td>   18.313</td> <td>   10.640</td> <td> 0.000</td> <td>  158.950</td> <td>  230.737</td>\n",
       "</tr>\n",
       "<tr>\n",
       "  <th>SqFtDeck</th>          <td>  178.4583</td> <td>   11.754</td> <td>   15.182</td> <td> 0.000</td> <td>  155.419</td> <td>  201.497</td>\n",
       "</tr>\n",
       "<tr>\n",
       "  <th>TidelandShoreland</th> <td> 3.135e+05</td> <td> 1.58e+04</td> <td>   19.886</td> <td> 0.000</td> <td> 2.83e+05</td> <td> 3.44e+05</td>\n",
       "</tr>\n",
       "<tr>\n",
       "  <th>Condition</th>         <td> 1.688e+04</td> <td> 3754.694</td> <td>    4.495</td> <td> 0.000</td> <td> 9516.476</td> <td> 2.42e+04</td>\n",
       "</tr>\n",
       "<tr>\n",
       "  <th>Stories</th>           <td>   4.8e+04</td> <td> 4925.180</td> <td>    9.746</td> <td> 0.000</td> <td> 3.83e+04</td> <td> 5.77e+04</td>\n",
       "</tr>\n",
       "<tr>\n",
       "  <th>Area</th>              <td>-2023.1239</td> <td>   89.220</td> <td>  -22.676</td> <td> 0.000</td> <td>-2197.998</td> <td>-1848.250</td>\n",
       "</tr>\n",
       "<tr>\n",
       "  <th>WfntLocation</th>      <td> 2.341e+04</td> <td> 2673.280</td> <td>    8.756</td> <td> 0.000</td> <td> 1.82e+04</td> <td> 2.86e+04</td>\n",
       "</tr>\n",
       "</table>\n",
       "<table class=\"simpletable\">\n",
       "<tr>\n",
       "  <th>Omnibus:</th>       <td>14583.552</td> <th>  Durbin-Watson:     </th>  <td>   1.611</td> \n",
       "</tr>\n",
       "<tr>\n",
       "  <th>Prob(Omnibus):</th>  <td> 0.000</td>   <th>  Jarque-Bera (JB):  </th> <td>225393.761</td>\n",
       "</tr>\n",
       "<tr>\n",
       "  <th>Skew:</th>           <td> 1.988</td>   <th>  Prob(JB):          </th>  <td>    0.00</td> \n",
       "</tr>\n",
       "<tr>\n",
       "  <th>Kurtosis:</th>       <td>15.912</td>   <th>  Cond. No.          </th>  <td>1.77e+04</td> \n",
       "</tr>\n",
       "</table><br/><br/>Warnings:<br/>[1] Standard Errors assume that the covariance matrix of the errors is correctly specified.<br/>[2] The condition number is large, 1.77e+04. This might indicate that there are<br/>strong multicollinearity or other numerical problems."
      ],
      "text/plain": [
       "<class 'statsmodels.iolib.summary.Summary'>\n",
       "\"\"\"\n",
       "                            OLS Regression Results                            \n",
       "==============================================================================\n",
       "Dep. Variable:              SalePrice   R-squared:                       0.378\n",
       "Model:                            OLS   Adj. R-squared:                  0.378\n",
       "Method:                 Least Squares   F-statistic:                     2249.\n",
       "Date:                Tue, 03 Mar 2020   Prob (F-statistic):               0.00\n",
       "Time:                        12:29:00   Log-Likelihood:            -4.2500e+05\n",
       "No. Observations:               29636   AIC:                         8.500e+05\n",
       "Df Residuals:                   29627   BIC:                         8.501e+05\n",
       "Df Model:                           8                                         \n",
       "Covariance Type:            nonrobust                                         \n",
       "=====================================================================================\n",
       "                        coef    std err          t      P>|t|      [0.025      0.975]\n",
       "-------------------------------------------------------------------------------------\n",
       "Intercept          9.798e+04   1.71e+04      5.737      0.000    6.45e+04    1.31e+05\n",
       "SqFtTotLiving       278.7808      2.879     96.828      0.000     273.138     284.424\n",
       "SqFtOpenPorch       194.8438     18.313     10.640      0.000     158.950     230.737\n",
       "SqFtDeck            178.4583     11.754     15.182      0.000     155.419     201.497\n",
       "TidelandShoreland  3.135e+05   1.58e+04     19.886      0.000    2.83e+05    3.44e+05\n",
       "Condition          1.688e+04   3754.694      4.495      0.000    9516.476    2.42e+04\n",
       "Stories              4.8e+04   4925.180      9.746      0.000    3.83e+04    5.77e+04\n",
       "Area              -2023.1239     89.220    -22.676      0.000   -2197.998   -1848.250\n",
       "WfntLocation       2.341e+04   2673.280      8.756      0.000    1.82e+04    2.86e+04\n",
       "==============================================================================\n",
       "Omnibus:                    14583.552   Durbin-Watson:                   1.611\n",
       "Prob(Omnibus):                  0.000   Jarque-Bera (JB):           225393.761\n",
       "Skew:                           1.988   Prob(JB):                         0.00\n",
       "Kurtosis:                      15.912   Cond. No.                     1.77e+04\n",
       "==============================================================================\n",
       "\n",
       "Warnings:\n",
       "[1] Standard Errors assume that the covariance matrix of the errors is correctly specified.\n",
       "[2] The condition number is large, 1.77e+04. This might indicate that there are\n",
       "strong multicollinearity or other numerical problems.\n",
       "\"\"\""
      ]
     },
     "execution_count": 49,
     "metadata": {},
     "output_type": "execute_result"
    }
   ],
   "source": [
    "fsm_multi = ols(formula='SalePrice ~ SqFtTotLiving + SqFtOpenPorch + SqFtDeck + TidelandShoreland + Condition + Stories + Area + WfntLocation', data=df_groom).fit()\n",
    "fsm_multi.summary()"
   ]
  },
  {
   "cell_type": "code",
   "execution_count": null,
   "metadata": {},
   "outputs": [],
   "source": [
    "#  y = 281.85*x1 + 178.87*x2 + 195.04*x3 + 356274.87*x4 + 126523.45"
   ]
  },
  {
   "cell_type": "code",
   "execution_count": 55,
   "metadata": {},
   "outputs": [
    {
     "data": {
      "text/plain": [
       "(278.7808046424248, 97975.20797469976)"
      ]
     },
     "execution_count": 55,
     "metadata": {},
     "output_type": "execute_result"
    }
   ],
   "source": [
    "# fsm_multi.params\n",
    "b = fsm_multi.params.Intercept\n",
    "m = fsm_multi.params.SqFtTotLiving\n",
    "m, b"
   ]
  },
  {
   "cell_type": "code",
   "execution_count": null,
   "metadata": {},
   "outputs": [],
   "source": [
    "fig, ax = plt.subplots(figsize=(10,10))\n",
    "\n",
    "ax = sns.scatterplot(x='SqFtTotLiving', y='SalePrice', data=groomed_df)\n",
    "x = np.linspace(0,50000)\n",
    "ax = plt.plot(x, (m*x + b))"
   ]
  },
  {
   "cell_type": "code",
   "execution_count": null,
   "metadata": {},
   "outputs": [],
   "source": [
    "mlr = LinearRegression()\n",
    "mlr.fit(groomed_df[['SqFtTotLiving', 'SqFtOpenPorch', 'SqFtDeck', 'TidelandShoreland']], groomed_df['SalePrice'])"
   ]
  },
  {
   "cell_type": "code",
   "execution_count": null,
   "metadata": {},
   "outputs": [],
   "source": [
    "print(mlr.intercept_)\n",
    "print(mlr.coef_)"
   ]
  },
  {
   "cell_type": "code",
   "execution_count": 23,
   "metadata": {},
   "outputs": [],
   "source": [
    "df = groomed_df\n",
    "a_surf, b_surf, c_surf, d_surf = np.meshgrid(np.linspace(df.SqFtTotLiving.min(), df.SqFtTotLiving.max(),100),\n",
    "                                            np.linspace(df.SqFtOpenPorch.min(), df.SqFtOpenPorch.max(),100), \n",
    "                                            np.linspace(df.SqFtDeck.min(), df.SqFtDeck.max(),100), \n",
    "                                            np.linspace(df.TidelandShoreland.min(), df.TidelandShoreland.max(),100))"
   ]
  },
  {
   "cell_type": "code",
   "execution_count": 45,
   "metadata": {},
   "outputs": [],
   "source": [
    "only_x = pd.DataFrame({'SqFtTotLiving': a_surf.ravel(),\n",
    "                     'SqFtOpenPorch': b_surf.ravel(),\n",
    "                     'SqFtDeck': c_surf.ravel(),\n",
    "                     'TidelandShoreland': d_surf.ravel()})\n"
   ]
  },
  {
   "cell_type": "code",
   "execution_count": 46,
   "metadata": {},
   "outputs": [],
   "source": [
    "fitted_y = fsm_multi.predict(exog=only_x)\n",
    "fitted_y = np.array(fitted_y)"
   ]
  },
  {
   "cell_type": "code",
   "execution_count": 47,
   "metadata": {},
   "outputs": [],
   "source": []
  },
  {
   "cell_type": "code",
   "execution_count": null,
   "metadata": {},
   "outputs": [],
   "source": [
    "correlated_cols = [\n",
    "    'SalePrice',\n",
    "    'SqFtTotLiving',\n",
    "    'TidelandShoreland',\n",
    "    'SqFtOpenPorch',\n",
    "    'SqFtDeck'\n",
    "]\n",
    "correlated_df = groomed_df[correlated_cols]\n",
    "sns.pairplot(correlated_df)"
   ]
  },
  {
   "cell_type": "code",
   "execution_count": null,
   "metadata": {},
   "outputs": [],
   "source": []
  }
 ],
 "metadata": {
  "kernelspec": {
   "display_name": "linreg-env",
   "language": "python",
   "name": "linreg-env"
  },
  "language_info": {
   "codemirror_mode": {
    "name": "ipython",
    "version": 3
   },
   "file_extension": ".py",
   "mimetype": "text/x-python",
   "name": "python",
   "nbconvert_exporter": "python",
   "pygments_lexer": "ipython3",
   "version": "3.8.1"
  }
 },
 "nbformat": 4,
 "nbformat_minor": 4
}
