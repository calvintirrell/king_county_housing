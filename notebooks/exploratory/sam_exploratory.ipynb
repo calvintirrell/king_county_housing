{
 "cells": [
  {
   "cell_type": "code",
   "execution_count": 2,
   "metadata": {},
   "outputs": [],
   "source": [
    "import pandas as pd\n",
    "import numpy as np\n",
    "import psycopg2\n",
    "import scipy\n",
    "\n",
    "import matplotlib.pyplot as plt\n",
    "import seaborn as sns\n",
    "\n",
    "import statsmodels.stats as stats\n",
    "from statsmodels.formula.api import ols\n",
    "from statsmodels.stats.diagnostic import linear_rainbow, het_breuschpagan\n",
    "from statsmodels.stats.outliers_influence import variance_inflation_factor\n",
    "from sklearn.linear_model import LinearRegression"
   ]
  },
  {
   "cell_type": "code",
   "execution_count": 2,
   "metadata": {},
   "outputs": [],
   "source": [
    "# !pip install sklearn"
   ]
  },
  {
   "cell_type": "code",
   "execution_count": 7,
   "metadata": {},
   "outputs": [],
   "source": [
    "df_2019 = pd.read_csv('../../data/housing2019.csv', encoding='latin-1')\n"
   ]
  },
  {
   "cell_type": "code",
   "execution_count": 9,
   "metadata": {},
   "outputs": [
    {
     "data": {
      "text/plain": [
       "(43545, 158)"
      ]
     },
     "execution_count": 9,
     "metadata": {},
     "output_type": "execute_result"
    }
   ],
   "source": [
    "'''\n",
    "add zeros to columns and populate new column Major_+_Minor\n",
    "'''\n",
    "df_2019['Major'] = df_2019['Major'].astype('str').str.zfill(6)\n",
    "df_2019['Minor'] = df_2019['Minor'].astype('str').str.zfill(4)\n",
    "df_2019['Major_+_Minor'] = df_2019['Major'] + df_2019['Minor']\n",
    "df_2019.shape"
   ]
  },
  {
   "cell_type": "code",
   "execution_count": 4,
   "metadata": {},
   "outputs": [],
   "source": [
    "def common_columns(a, b): \n",
    "    \"\"\"\n",
    "    this function takes in two pandas dfs and returns a list of columns that they have in common\n",
    "    \"\"\"\n",
    "    \n",
    "    a_set = set(a.columns) \n",
    "    b_set = set(b.columns) \n",
    "    if (a_set & b_set): \n",
    "        print(a_set & b_set) \n",
    "    else: \n",
    "        print(\"No common elements\")"
   ]
  },
  {
   "cell_type": "code",
   "execution_count": 11,
   "metadata": {},
   "outputs": [
    {
     "name": "stdout",
     "output_type": "stream",
     "text": [
      "(43545, 158)\n",
      "Unnamed: 0\n",
      "Major_x\n",
      "Minor_x\n",
      "BldgNbr\n",
      "NbrLivingUnits\n",
      "Address\n",
      "BuildingNumber\n",
      "Fraction\n",
      "DirectionPrefix\n",
      "StreetName\n",
      "StreetType\n",
      "DirectionSuffix\n",
      "ZipCode\n",
      "Stories\n",
      "BldgGrade\n",
      "BldgGradeVar\n",
      "SqFt1stFloor\n",
      "SqFtHalfFloor\n",
      "SqFt2ndFloor\n",
      "SqFtUpperFloor\n",
      "SqFtUnfinFull\n",
      "SqFtUnfinHalf\n",
      "SqFtTotLiving\n",
      "SqFtTotBasement\n",
      "SqFtFinBasement\n",
      "FinBasementGrade\n",
      "SqFtGarageBasement\n",
      "SqFtGarageAttached\n",
      "DaylightBasement\n",
      "SqFtOpenPorch\n",
      "SqFtEnclosedPorch\n",
      "SqFtDeck\n",
      "HeatSystem\n",
      "HeatSource\n",
      "BrickStone\n",
      "ViewUtilization\n",
      "Bedrooms\n",
      "BathHalfCount\n",
      "Bath3qtrCount\n",
      "BathFullCount\n",
      "FpSingleStory\n",
      "FpMultiStory\n",
      "FpFreestanding\n",
      "FpAdditional\n",
      "YrBuilt\n",
      "YrRenovated\n",
      "PcntComplete\n",
      "Obsolescence\n",
      "PcntNetCondition\n",
      "Condition\n",
      "AddnlCost\n",
      "pin\n",
      "ExciseTaxNbr\n",
      "Major_y\n",
      "Minor_y\n",
      "DocumentDate\n",
      "SalePrice\n",
      "RecordingNbr\n",
      "Volume\n",
      "Page\n",
      "PlatNbr\n",
      "PlatType\n",
      "PlatLot_x\n",
      "PlatBlock_x\n",
      "SellerName\n",
      "BuyerName\n",
      "PropertyType\n",
      "PrincipalUse\n",
      "SaleInstrument\n",
      "AFForestLand\n",
      "AFCurrentUseLand\n",
      "AFNonProfitUse\n",
      "AFHistoricProperty\n",
      "SaleReason\n",
      "PropertyClass\n",
      "SaleWarning\n",
      "Major\n",
      "Minor\n",
      "PropName\n",
      "PlatName\n",
      "PlatLot_y\n",
      "PlatBlock_y\n",
      "Range\n",
      "Township\n",
      "Section\n",
      "QuarterSection\n",
      "PropType\n",
      "Area\n",
      "SubArea\n",
      "SpecArea\n",
      "SpecSubArea\n",
      "DistrictName\n",
      "LevyCode\n",
      "CurrentZoning\n",
      "HBUAsIfVacant\n",
      "HBUAsImproved\n",
      "PresentUse\n",
      "SqFtLot\n",
      "WaterSystem\n",
      "SewerSystem\n",
      "Access\n",
      "Topography\n",
      "StreetSurface\n",
      "RestrictiveSzShape\n",
      "InadequateParking\n",
      "PcntUnusable\n",
      "Unbuildable\n",
      "MtRainier\n",
      "Olympics\n",
      "Cascades\n",
      "Territorial\n",
      "SeattleSkyline\n",
      "PugetSound\n",
      "LakeWashington\n",
      "LakeSammamish\n",
      "SmallLakeRiverCreek\n",
      "OtherView\n",
      "WfntLocation\n",
      "WfntFootage\n",
      "WfntBank\n",
      "WfntPoorQuality\n",
      "WfntRestrictedAccess\n",
      "WfntAccessRights\n",
      "WfntProximityInfluence\n",
      "TidelandShoreland\n",
      "LotDepthFactor\n",
      "TrafficNoise\n",
      "AirportNoise\n",
      "PowerLines\n",
      "OtherNuisances\n",
      "NbrBldgSites\n",
      "Contamination\n",
      "DNRLease\n",
      "AdjacentGolfFairway\n",
      "AdjacentGreenbelt\n",
      "HistoricSite\n",
      "CurrentUseDesignation\n",
      "NativeGrowthProtEsmt\n",
      "Easements\n",
      "OtherDesignation\n",
      "DeedRestrictions\n",
      "DevelopmentRightsPurch\n",
      "CoalMineHazard\n",
      "CriticalDrainage\n",
      "ErosionHazard\n",
      "LandfillBuffer\n",
      "HundredYrFloodPlain\n",
      "SeismicHazard\n",
      "LandslideHazard\n",
      "SteepSlopeHazard\n",
      "Stream\n",
      "Wetland\n",
      "SpeciesOfConcern\n",
      "SensitiveAreaTract\n",
      "WaterProblems\n",
      "TranspConcurrency\n",
      "OtherProblems\n",
      "Major_+_Minor\n"
     ]
    }
   ],
   "source": [
    "print(df_2019.shape)\n",
    "for _ in df_2019.columns:\n",
    "    print(_)"
   ]
  },
  {
   "cell_type": "code",
   "execution_count": 14,
   "metadata": {},
   "outputs": [
    {
     "data": {
      "text/plain": [
       "0        0087000215\n",
       "1        0088000177\n",
       "2        0088000226\n",
       "3        0084000171\n",
       "4        0098000940\n",
       "            ...    \n",
       "43540    4039700280\n",
       "43541    4040100170\n",
       "43542    4040800180\n",
       "43543    4046600310\n",
       "43544    4053200260\n",
       "Name: Major_+_Minor, Length: 43545, dtype: object"
      ]
     },
     "execution_count": 14,
     "metadata": {},
     "output_type": "execute_result"
    }
   ],
   "source": [
    "df_2019['Major_+_Minor']"
   ]
  },
  {
   "cell_type": "code",
   "execution_count": 13,
   "metadata": {},
   "outputs": [],
   "source": [
    "combined_df['LivableSpace'] = combined_df['SqFtTotLiving'] + combined_df['SqFtFinBasement'] + combined_df['SqFtDeck']"
   ]
  },
  {
   "cell_type": "code",
   "execution_count": 108,
   "metadata": {},
   "outputs": [],
   "source": [
    "\"\"\"\n",
    "selecting interested columns\n",
    "\"\"\"\n",
    "groomed_df = combined_df[['Major_+_Minor', 'SalePrice', 'SqFtTotLiving', 'SqFtOpenPorch', \n",
    "                          'SqFtEnclosedPorch', 'SqFtDeck', 'TidelandShoreland',\n",
    "                          'TrafficNoise', 'AirportNoise', 'PowerLines', 'Stories', 'Condition', 'Area', \n",
    "                          'DocumentDate', 'TrafficNoise', 'AirportNoise', 'PowerLines', 'OtherNuisances']]\n",
    "# pd.DataFrame(groomed_df['Major_+_Minor'].value_counts()).iloc[100:]\n",
    "# groomed_df[groomed_df['Major_+_Minor'] == '0415100049'].sort_values('DocumentDate', ascending=False)"
   ]
  },
  {
   "cell_type": "code",
   "execution_count": 109,
   "metadata": {},
   "outputs": [],
   "source": [
    "\"\"\"\n",
    "filtering data\n",
    "\"\"\"\n",
    "\n",
    "groomed_df = groomed_df[groomed_df['SalePrice'] > 0]\n",
    "groomed_df = groomed_df[groomed_df['SalePrice'] < 5000000]\n",
    "#groomed_df = groomed_df[groomed_df['LivableSpace'] < 50000]\n",
    "groomed_df = groomed_df[groomed_df['SqFtTotLiving'] < 50000]\n",
    "groomed_df = groomed_df[groomed_df['DocumentDate'].str.contains('2019')]"
   ]
  },
  {
   "cell_type": "code",
   "execution_count": 104,
   "metadata": {},
   "outputs": [
    {
     "data": {
      "text/plain": [
       "array([ 35.,  19.,  37.,  29.,  95.,  71.,  51.,  94.,  28.,  12.,  79.,\n",
       "        32.,  59.,  82.,   4.,  36.,  38.,  56.,  88.,  55.,  49.,  52.,\n",
       "         6.,  91.,  44.,  39.,  73.,   2.,  27.,  45.,  53.,   8.,  62.,\n",
       "         1.,  74.,  41.,   3.,  69.,  72.,  30.,  75.,  92.,  43.,  21.,\n",
       "        24.,  16.,  66.,  31.,  85.,  17.,  34.,  46.,  96.,  80.,  61.,\n",
       "         7.,  13.,  11.,  15.,  57.,  25., 100.,  67.,  48.,  90.,  65.,\n",
       "        26.,  42.,  18.,  54.,  93.,  22.,  68.,  60.,  58.,  40.,  64.,\n",
       "        33.,  81.,  47.,  14.,  77.,  86.,  23.,  84.,  87.,  70.,  63.])"
      ]
     },
     "execution_count": 104,
     "metadata": {},
     "output_type": "execute_result"
    }
   ],
   "source": [
    "groomed_df['Area'].unique()"
   ]
  },
  {
   "cell_type": "code",
   "execution_count": null,
   "metadata": {},
   "outputs": [],
   "source": [
    "fig, ax = plt.subplots()\n",
    "\n",
    "ax = sns.scatterplot(data=groomed_df, x='SalePrice', y='SqFtTotLiving')\n",
    "ax.set(xlim=(0, 10000000), ylim=(0, 50000))"
   ]
  },
  {
   "cell_type": "code",
   "execution_count": 19,
   "metadata": {},
   "outputs": [
    {
     "data": {
      "text/plain": [
       "(303.60289215610084, 124078.80489745832)"
      ]
     },
     "execution_count": 19,
     "metadata": {},
     "output_type": "execute_result"
    }
   ],
   "source": [
    "fsm = ols(formula='SalePrice ~ SqFtTotLiving', data=groomed_df).fit()\n",
    "b = fsm.params.Intercept\n",
    "m = fsm.params.SqFtTotLiving\n",
    "m, b"
   ]
  },
  {
   "cell_type": "code",
   "execution_count": null,
   "metadata": {},
   "outputs": [],
   "source": [
    "fig, ax = plt.subplots(figsize=(10,10))\n",
    "\n",
    "ax = sns.scatterplot(x='SqFtTotLiving', y='SalePrice', data=groomed_df)\n",
    "x = np.linspace(0,50000)\n",
    "ax = plt.plot(x, ((m*x) + b))"
   ]
  },
  {
   "cell_type": "code",
   "execution_count": null,
   "metadata": {},
   "outputs": [],
   "source": [
    "fsm = ols(formula='SalePrice ~ SqFtTotLiving', data=groomed_df).fit()\n",
    "\n",
    "rainbow_statistic, rainbow_p_value = linear_rainbow(fsm)\n",
    "print('p val: ', rainbow_p_value)\n",
    "print('rainbow stat: ', rainbow_statistic)"
   ]
  },
  {
   "cell_type": "code",
   "execution_count": 115,
   "metadata": {},
   "outputs": [
    {
     "data": {
      "text/html": [
       "<table class=\"simpletable\">\n",
       "<caption>OLS Regression Results</caption>\n",
       "<tr>\n",
       "  <th>Dep. Variable:</th>        <td>SalePrice</td>    <th>  R-squared:         </th>  <td>   0.378</td>  \n",
       "</tr>\n",
       "<tr>\n",
       "  <th>Model:</th>                   <td>OLS</td>       <th>  Adj. R-squared:    </th>  <td>   0.377</td>  \n",
       "</tr>\n",
       "<tr>\n",
       "  <th>Method:</th>             <td>Least Squares</td>  <th>  F-statistic:       </th>  <td>   2246.</td>  \n",
       "</tr>\n",
       "<tr>\n",
       "  <th>Date:</th>             <td>Tue, 03 Mar 2020</td> <th>  Prob (F-statistic):</th>   <td>  0.00</td>   \n",
       "</tr>\n",
       "<tr>\n",
       "  <th>Time:</th>                 <td>11:18:39</td>     <th>  Log-Likelihood:    </th> <td>-4.2501e+05</td>\n",
       "</tr>\n",
       "<tr>\n",
       "  <th>No. Observations:</th>      <td> 29636</td>      <th>  AIC:               </th>  <td>8.500e+05</td> \n",
       "</tr>\n",
       "<tr>\n",
       "  <th>Df Residuals:</th>          <td> 29627</td>      <th>  BIC:               </th>  <td>8.501e+05</td> \n",
       "</tr>\n",
       "<tr>\n",
       "  <th>Df Model:</th>              <td>     8</td>      <th>                     </th>      <td> </td>     \n",
       "</tr>\n",
       "<tr>\n",
       "  <th>Covariance Type:</th>      <td>nonrobust</td>    <th>                     </th>      <td> </td>     \n",
       "</tr>\n",
       "</table>\n",
       "<table class=\"simpletable\">\n",
       "<tr>\n",
       "          <td></td>             <th>coef</th>     <th>std err</th>      <th>t</th>      <th>P>|t|</th>  <th>[0.025</th>    <th>0.975]</th>  \n",
       "</tr>\n",
       "<tr>\n",
       "  <th>Intercept</th>         <td> 8.557e+04</td> <td> 1.72e+04</td> <td>    4.983</td> <td> 0.000</td> <td> 5.19e+04</td> <td> 1.19e+05</td>\n",
       "</tr>\n",
       "<tr>\n",
       "  <th>SqFtTotLiving</th>     <td>  279.4924</td> <td>    2.885</td> <td>   96.884</td> <td> 0.000</td> <td>  273.838</td> <td>  285.147</td>\n",
       "</tr>\n",
       "<tr>\n",
       "  <th>SqFtOpenPorch</th>     <td>  205.3177</td> <td>   18.271</td> <td>   11.237</td> <td> 0.000</td> <td>  169.505</td> <td>  241.130</td>\n",
       "</tr>\n",
       "<tr>\n",
       "  <th>SqFtDeck</th>          <td>  184.5145</td> <td>   11.729</td> <td>   15.732</td> <td> 0.000</td> <td>  161.526</td> <td>  207.503</td>\n",
       "</tr>\n",
       "<tr>\n",
       "  <th>TidelandShoreland</th> <td> 3.624e+05</td> <td> 1.46e+04</td> <td>   24.820</td> <td> 0.000</td> <td> 3.34e+05</td> <td> 3.91e+05</td>\n",
       "</tr>\n",
       "<tr>\n",
       "  <th>Condition</th>         <td> 1.733e+04</td> <td> 3756.061</td> <td>    4.613</td> <td> 0.000</td> <td> 9962.960</td> <td> 2.47e+04</td>\n",
       "</tr>\n",
       "<tr>\n",
       "  <th>Stories</th>           <td> 4.723e+04</td> <td> 4924.734</td> <td>    9.591</td> <td> 0.000</td> <td> 3.76e+04</td> <td> 5.69e+04</td>\n",
       "</tr>\n",
       "<tr>\n",
       "  <th>Area</th>              <td>-1942.0469</td> <td>   89.151</td> <td>  -21.784</td> <td> 0.000</td> <td>-2116.786</td> <td>-1767.307</td>\n",
       "</tr>\n",
       "<tr>\n",
       "  <th>TrafficNoise[0]</th>   <td> 1.694e+04</td> <td> 2093.580</td> <td>    8.093</td> <td> 0.000</td> <td> 1.28e+04</td> <td>  2.1e+04</td>\n",
       "</tr>\n",
       "<tr>\n",
       "  <th>TrafficNoise[1]</th>   <td> 1.694e+04</td> <td> 2093.580</td> <td>    8.093</td> <td> 0.000</td> <td> 1.28e+04</td> <td>  2.1e+04</td>\n",
       "</tr>\n",
       "</table>\n",
       "<table class=\"simpletable\">\n",
       "<tr>\n",
       "  <th>Omnibus:</th>       <td>14547.682</td> <th>  Durbin-Watson:     </th>  <td>   1.836</td> \n",
       "</tr>\n",
       "<tr>\n",
       "  <th>Prob(Omnibus):</th>  <td> 0.000</td>   <th>  Jarque-Bera (JB):  </th> <td>225333.769</td>\n",
       "</tr>\n",
       "<tr>\n",
       "  <th>Skew:</th>           <td> 1.981</td>   <th>  Prob(JB):          </th>  <td>    0.00</td> \n",
       "</tr>\n",
       "<tr>\n",
       "  <th>Kurtosis:</th>       <td>15.915</td>   <th>  Cond. No.          </th>  <td>1.08e+20</td> \n",
       "</tr>\n",
       "</table><br/><br/>Warnings:<br/>[1] Standard Errors assume that the covariance matrix of the errors is correctly specified.<br/>[2] The smallest eigenvalue is 1.44e-29. This might indicate that there are<br/>strong multicollinearity problems or that the design matrix is singular."
      ],
      "text/plain": [
       "<class 'statsmodels.iolib.summary.Summary'>\n",
       "\"\"\"\n",
       "                            OLS Regression Results                            \n",
       "==============================================================================\n",
       "Dep. Variable:              SalePrice   R-squared:                       0.378\n",
       "Model:                            OLS   Adj. R-squared:                  0.377\n",
       "Method:                 Least Squares   F-statistic:                     2246.\n",
       "Date:                Tue, 03 Mar 2020   Prob (F-statistic):               0.00\n",
       "Time:                        11:18:39   Log-Likelihood:            -4.2501e+05\n",
       "No. Observations:               29636   AIC:                         8.500e+05\n",
       "Df Residuals:                   29627   BIC:                         8.501e+05\n",
       "Df Model:                           8                                         \n",
       "Covariance Type:            nonrobust                                         \n",
       "=====================================================================================\n",
       "                        coef    std err          t      P>|t|      [0.025      0.975]\n",
       "-------------------------------------------------------------------------------------\n",
       "Intercept          8.557e+04   1.72e+04      4.983      0.000    5.19e+04    1.19e+05\n",
       "SqFtTotLiving       279.4924      2.885     96.884      0.000     273.838     285.147\n",
       "SqFtOpenPorch       205.3177     18.271     11.237      0.000     169.505     241.130\n",
       "SqFtDeck            184.5145     11.729     15.732      0.000     161.526     207.503\n",
       "TidelandShoreland  3.624e+05   1.46e+04     24.820      0.000    3.34e+05    3.91e+05\n",
       "Condition          1.733e+04   3756.061      4.613      0.000    9962.960    2.47e+04\n",
       "Stories            4.723e+04   4924.734      9.591      0.000    3.76e+04    5.69e+04\n",
       "Area              -1942.0469     89.151    -21.784      0.000   -2116.786   -1767.307\n",
       "TrafficNoise[0]    1.694e+04   2093.580      8.093      0.000    1.28e+04     2.1e+04\n",
       "TrafficNoise[1]    1.694e+04   2093.580      8.093      0.000    1.28e+04     2.1e+04\n",
       "==============================================================================\n",
       "Omnibus:                    14547.682   Durbin-Watson:                   1.836\n",
       "Prob(Omnibus):                  0.000   Jarque-Bera (JB):           225333.769\n",
       "Skew:                           1.981   Prob(JB):                         0.00\n",
       "Kurtosis:                      15.915   Cond. No.                     1.08e+20\n",
       "==============================================================================\n",
       "\n",
       "Warnings:\n",
       "[1] Standard Errors assume that the covariance matrix of the errors is correctly specified.\n",
       "[2] The smallest eigenvalue is 1.44e-29. This might indicate that there are\n",
       "strong multicollinearity problems or that the design matrix is singular.\n",
       "\"\"\""
      ]
     },
     "execution_count": 115,
     "metadata": {},
     "output_type": "execute_result"
    }
   ],
   "source": [
    "fsm_multi = ols(formula='SalePrice ~ SqFtTotLiving + SqFtOpenPorch + SqFtDeck + TidelandShoreland + Condition + Stories + Area + TrafficNoise', data=groomed_df).fit()\n",
    "fsm_multi.summary()"
   ]
  },
  {
   "cell_type": "code",
   "execution_count": null,
   "metadata": {},
   "outputs": [],
   "source": [
    "#  y = 281.85*x1 + 178.87*x2 + 195.04*x3 + 356274.87*x4 + 126523.45"
   ]
  },
  {
   "cell_type": "code",
   "execution_count": 21,
   "metadata": {},
   "outputs": [
    {
     "data": {
      "text/plain": [
       "(281.84185486722174, 126523.44885897034)"
      ]
     },
     "execution_count": 21,
     "metadata": {},
     "output_type": "execute_result"
    }
   ],
   "source": [
    "# fsm_multi.params\n",
    "b = fsm_multi.params.Intercept\n",
    "m = fsm_multi.params.SqFtTotLiving\n",
    "m, b"
   ]
  },
  {
   "cell_type": "code",
   "execution_count": null,
   "metadata": {},
   "outputs": [],
   "source": [
    "fig, ax = plt.subplots(figsize=(10,10))\n",
    "\n",
    "ax = sns.scatterplot(x='SqFtTotLiving', y='SalePrice', data=groomed_df)\n",
    "x = np.linspace(0,50000)\n",
    "ax = plt.plot(x, (m*x + b))"
   ]
  },
  {
   "cell_type": "code",
   "execution_count": null,
   "metadata": {},
   "outputs": [],
   "source": [
    "mlr = LinearRegression()\n",
    "mlr.fit(groomed_df[['SqFtTotLiving', 'SqFtOpenPorch', 'SqFtDeck', 'TidelandShoreland']], groomed_df['SalePrice'])"
   ]
  },
  {
   "cell_type": "code",
   "execution_count": null,
   "metadata": {},
   "outputs": [],
   "source": [
    "print(mlr.intercept_)\n",
    "print(mlr.coef_)"
   ]
  },
  {
   "cell_type": "code",
   "execution_count": 23,
   "metadata": {},
   "outputs": [],
   "source": [
    "df = groomed_df\n",
    "a_surf, b_surf, c_surf, d_surf = np.meshgrid(np.linspace(df.SqFtTotLiving.min(), df.SqFtTotLiving.max(),100),\n",
    "                                            np.linspace(df.SqFtOpenPorch.min(), df.SqFtOpenPorch.max(),100), \n",
    "                                            np.linspace(df.SqFtDeck.min(), df.SqFtDeck.max(),100), \n",
    "                                            np.linspace(df.TidelandShoreland.min(), df.TidelandShoreland.max(),100))"
   ]
  },
  {
   "cell_type": "code",
   "execution_count": 45,
   "metadata": {},
   "outputs": [],
   "source": [
    "only_x = pd.DataFrame({'SqFtTotLiving': a_surf.ravel(),\n",
    "                     'SqFtOpenPorch': b_surf.ravel(),\n",
    "                     'SqFtDeck': c_surf.ravel(),\n",
    "                     'TidelandShoreland': d_surf.ravel()})\n"
   ]
  },
  {
   "cell_type": "code",
   "execution_count": 46,
   "metadata": {},
   "outputs": [],
   "source": [
    "fitted_y = fsm_multi.predict(exog=only_x)\n",
    "fitted_y = np.array(fitted_y)"
   ]
  },
  {
   "cell_type": "code",
   "execution_count": 47,
   "metadata": {},
   "outputs": [],
   "source": [
    "from mpl_toolkits import mplot3d"
   ]
  },
  {
   "cell_type": "code",
   "execution_count": 74,
   "metadata": {},
   "outputs": [
    {
     "data": {
      "text/plain": [
       "(100, 100)"
      ]
     },
     "execution_count": 74,
     "metadata": {},
     "output_type": "execute_result"
    }
   ],
   "source": [
    "fitted_y.reshape(a_surf.shape)[0][0].shape"
   ]
  },
  {
   "cell_type": "code",
   "execution_count": 76,
   "metadata": {},
   "outputs": [
    {
     "ename": "ValueError",
     "evalue": "too many values to unpack (expected 2)",
     "output_type": "error",
     "traceback": [
      "\u001b[0;31m---------------------------------------------------------------------------\u001b[0m",
      "\u001b[0;31mValueError\u001b[0m                                Traceback (most recent call last)",
      "\u001b[0;32m<ipython-input-76-6eb40cf86bae>\u001b[0m in \u001b[0;36m<module>\u001b[0;34m\u001b[0m\n\u001b[1;32m      3\u001b[0m \u001b[0;31m# ax.scatter(df['SqFtTotLiving'], df['SqFtOpenPorch'], df['SalePrice'])\u001b[0m\u001b[0;34m\u001b[0m\u001b[0;34m\u001b[0m\u001b[0;34m\u001b[0m\u001b[0m\n\u001b[1;32m      4\u001b[0m \u001b[0max\u001b[0m\u001b[0;34m.\u001b[0m\u001b[0mset\u001b[0m\u001b[0;34m(\u001b[0m\u001b[0mylim\u001b[0m\u001b[0;34m=\u001b[0m\u001b[0;36m10000000\u001b[0m\u001b[0;34m,\u001b[0m \u001b[0mxlim\u001b[0m\u001b[0;34m=\u001b[0m\u001b[0;36m50000\u001b[0m\u001b[0;34m)\u001b[0m\u001b[0;34m\u001b[0m\u001b[0;34m\u001b[0m\u001b[0m\n\u001b[0;32m----> 5\u001b[0;31m \u001b[0max\u001b[0m\u001b[0;34m.\u001b[0m\u001b[0mplot_surface\u001b[0m\u001b[0;34m(\u001b[0m\u001b[0ma_surf\u001b[0m\u001b[0;34m,\u001b[0m \u001b[0mb_surf\u001b[0m\u001b[0;34m,\u001b[0m \u001b[0mfitted_y\u001b[0m\u001b[0;34m.\u001b[0m\u001b[0mreshape\u001b[0m\u001b[0;34m(\u001b[0m\u001b[0ma_surf\u001b[0m\u001b[0;34m.\u001b[0m\u001b[0mshape\u001b[0m\u001b[0;34m)\u001b[0m\u001b[0;34m[\u001b[0m\u001b[0;36m0\u001b[0m\u001b[0;34m]\u001b[0m\u001b[0;34m[\u001b[0m\u001b[0;36m0\u001b[0m\u001b[0;34m]\u001b[0m\u001b[0;34m)\u001b[0m\u001b[0;34m\u001b[0m\u001b[0;34m\u001b[0m\u001b[0m\n\u001b[0m",
      "\u001b[0;32m~/opt/anaconda3/envs/linreg-env/lib/python3.8/site-packages/mpl_toolkits/mplot3d/axes3d.py\u001b[0m in \u001b[0;36mplot_surface\u001b[0;34m(self, X, Y, Z, norm, vmin, vmax, lightsource, *args, **kwargs)\u001b[0m\n\u001b[1;32m   1588\u001b[0m         \u001b[0;31m# TODO: Support masked arrays\u001b[0m\u001b[0;34m\u001b[0m\u001b[0;34m\u001b[0m\u001b[0;34m\u001b[0m\u001b[0m\n\u001b[1;32m   1589\u001b[0m         \u001b[0mX\u001b[0m\u001b[0;34m,\u001b[0m \u001b[0mY\u001b[0m\u001b[0;34m,\u001b[0m \u001b[0mZ\u001b[0m \u001b[0;34m=\u001b[0m \u001b[0mnp\u001b[0m\u001b[0;34m.\u001b[0m\u001b[0mbroadcast_arrays\u001b[0m\u001b[0;34m(\u001b[0m\u001b[0mX\u001b[0m\u001b[0;34m,\u001b[0m \u001b[0mY\u001b[0m\u001b[0;34m,\u001b[0m \u001b[0mZ\u001b[0m\u001b[0;34m)\u001b[0m\u001b[0;34m\u001b[0m\u001b[0;34m\u001b[0m\u001b[0m\n\u001b[0;32m-> 1590\u001b[0;31m         \u001b[0mrows\u001b[0m\u001b[0;34m,\u001b[0m \u001b[0mcols\u001b[0m \u001b[0;34m=\u001b[0m \u001b[0mZ\u001b[0m\u001b[0;34m.\u001b[0m\u001b[0mshape\u001b[0m\u001b[0;34m\u001b[0m\u001b[0;34m\u001b[0m\u001b[0m\n\u001b[0m\u001b[1;32m   1591\u001b[0m \u001b[0;34m\u001b[0m\u001b[0m\n\u001b[1;32m   1592\u001b[0m         \u001b[0mhas_stride\u001b[0m \u001b[0;34m=\u001b[0m \u001b[0;34m'rstride'\u001b[0m \u001b[0;32min\u001b[0m \u001b[0mkwargs\u001b[0m \u001b[0;32mor\u001b[0m \u001b[0;34m'cstride'\u001b[0m \u001b[0;32min\u001b[0m \u001b[0mkwargs\u001b[0m\u001b[0;34m\u001b[0m\u001b[0;34m\u001b[0m\u001b[0m\n",
      "\u001b[0;31mValueError\u001b[0m: too many values to unpack (expected 2)"
     ]
    },
    {
     "data": {
      "image/png": "[encoded data removed]",
      "text/plain": [
       "<Figure size 432x288 with 1 Axes>"
      ]
     },
     "metadata": {
      "needs_background": "light"
     },
     "output_type": "display_data"
    }
   ],
   "source": [
    "fig = plt.figure()\n",
    "ax = fig.add_subplot(111, projection='3d')\n",
    "# ax.scatter(df['SqFtTotLiving'], df['SqFtOpenPorch'], df['SalePrice'])\n",
    "ax.set(ylim=10000000, xlim=50000)\n",
    "ax.plot_surface(a_surf, b_surf, fitted_y.reshape(a_surf.shape)[0][0])"
   ]
  },
  {
   "cell_type": "code",
   "execution_count": null,
   "metadata": {},
   "outputs": [],
   "source": [
    "correlated_cols = [\n",
    "    'SalePrice',\n",
    "    'SqFtTotLiving',\n",
    "    'TidelandShoreland',\n",
    "    'SqFtOpenPorch',\n",
    "    'SqFtDeck'\n",
    "]\n",
    "correlated_df = groomed_df[correlated_cols]\n",
    "sns.pairplot(correlated_df)"
   ]
  },
  {
   "cell_type": "code",
   "execution_count": null,
   "metadata": {},
   "outputs": [],
   "source": []
  }
 ],
 "metadata": {
  "kernelspec": {
   "display_name": "Python 3 (linreg-env)",
   "language": "python",
   "name": "linreg-env"
  },
  "language_info": {
   "codemirror_mode": {
    "name": "ipython",
    "version": 3
   },
   "file_extension": ".py",
   "mimetype": "text/x-python",
   "name": "python",
   "nbconvert_exporter": "python",
   "pygments_lexer": "ipython3",
   "version": "3.7.4"
  }
 },
 "nbformat": 4,
 "nbformat_minor": 4
}
