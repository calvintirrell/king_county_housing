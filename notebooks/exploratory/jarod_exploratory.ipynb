{
 "cells": [
  {
   "cell_type": "code",
   "execution_count": 1,
   "metadata": {},
   "outputs": [],
   "source": [
    "import pandas as pd\n",
    "import matplotlib.pyplot as plt\n",
    "from statsmodels.formula.api import ols\n",
    "from statsmodels.stats.diagnostic import linear_rainbow, het_breuschpagan\n",
    "import numpy as np\n",
    "import seaborn as sns\n",
    "%matplotlib inline"
   ]
  },
  {
   "cell_type": "code",
   "execution_count": 2,
   "metadata": {},
   "outputs": [
    {
     "name": "stderr",
     "output_type": "stream",
     "text": [
      "/Users/jarodc33/opt/anaconda3/lib/python3.7/site-packages/IPython/core/interactiveshell.py:3058: DtypeWarning: Columns (11) have mixed types. Specify dtype option on import or set low_memory=False.\n",
      "  interactivity=interactivity, compiler=compiler, result=result)\n",
      "/Users/jarodc33/opt/anaconda3/lib/python3.7/site-packages/IPython/core/interactiveshell.py:3058: DtypeWarning: Columns (1,2) have mixed types. Specify dtype option on import or set low_memory=False.\n",
      "  interactivity=interactivity, compiler=compiler, result=result)\n"
     ]
    }
   ],
   "source": [
    "path = '../../data/'\n",
    "parcel = pd.read_csv(path + 'EXTR_Parcel.csv', encoding = 'latin-1')\n",
    "res = pd.read_csv(path + 'EXTR_ResBldg.csv')\n",
    "sale = pd.read_csv(path + 'EXTR_RPSale.csv')"
   ]
  },
  {
   "cell_type": "code",
   "execution_count": 3,
   "metadata": {},
   "outputs": [
    {
     "data": {
      "text/plain": [
       "(2072949, 24)"
      ]
     },
     "execution_count": 3,
     "metadata": {},
     "output_type": "execute_result"
    }
   ],
   "source": [
    "sale.shape"
   ]
  },
  {
   "cell_type": "code",
   "execution_count": 4,
   "metadata": {},
   "outputs": [
    {
     "data": {
      "text/html": [
       "<div>\n",
       "<style scoped>\n",
       "    .dataframe tbody tr th:only-of-type {\n",
       "        vertical-align: middle;\n",
       "    }\n",
       "\n",
       "    .dataframe tbody tr th {\n",
       "        vertical-align: top;\n",
       "    }\n",
       "\n",
       "    .dataframe thead th {\n",
       "        text-align: right;\n",
       "    }\n",
       "</style>\n",
       "<table border=\"1\" class=\"dataframe\">\n",
       "  <thead>\n",
       "    <tr style=\"text-align: right;\">\n",
       "      <th></th>\n",
       "      <th>ExciseTaxNbr</th>\n",
       "      <th>Major</th>\n",
       "      <th>Minor</th>\n",
       "      <th>DocumentDate</th>\n",
       "      <th>SalePrice</th>\n",
       "      <th>RecordingNbr</th>\n",
       "      <th>Volume</th>\n",
       "      <th>Page</th>\n",
       "      <th>PlatNbr</th>\n",
       "      <th>PlatType</th>\n",
       "      <th>...</th>\n",
       "      <th>PropertyType</th>\n",
       "      <th>PrincipalUse</th>\n",
       "      <th>SaleInstrument</th>\n",
       "      <th>AFForestLand</th>\n",
       "      <th>AFCurrentUseLand</th>\n",
       "      <th>AFNonProfitUse</th>\n",
       "      <th>AFHistoricProperty</th>\n",
       "      <th>SaleReason</th>\n",
       "      <th>PropertyClass</th>\n",
       "      <th>SaleWarning</th>\n",
       "    </tr>\n",
       "  </thead>\n",
       "  <tbody>\n",
       "    <tr>\n",
       "      <td>0</td>\n",
       "      <td>2687551</td>\n",
       "      <td>138860</td>\n",
       "      <td>110</td>\n",
       "      <td>08/21/2014</td>\n",
       "      <td>245000</td>\n",
       "      <td>20140828001436</td>\n",
       "      <td></td>\n",
       "      <td></td>\n",
       "      <td></td>\n",
       "      <td></td>\n",
       "      <td>...</td>\n",
       "      <td>3</td>\n",
       "      <td>6</td>\n",
       "      <td>3</td>\n",
       "      <td>N</td>\n",
       "      <td>N</td>\n",
       "      <td>N</td>\n",
       "      <td>N</td>\n",
       "      <td>1</td>\n",
       "      <td>8</td>\n",
       "      <td></td>\n",
       "    </tr>\n",
       "    <tr>\n",
       "      <td>1</td>\n",
       "      <td>1235111</td>\n",
       "      <td>664885</td>\n",
       "      <td>40</td>\n",
       "      <td>07/09/1991</td>\n",
       "      <td>0</td>\n",
       "      <td>199203161090</td>\n",
       "      <td>071</td>\n",
       "      <td>001</td>\n",
       "      <td>664885</td>\n",
       "      <td>C</td>\n",
       "      <td>...</td>\n",
       "      <td>3</td>\n",
       "      <td>0</td>\n",
       "      <td>26</td>\n",
       "      <td>N</td>\n",
       "      <td>N</td>\n",
       "      <td>N</td>\n",
       "      <td>N</td>\n",
       "      <td>18</td>\n",
       "      <td>3</td>\n",
       "      <td>11</td>\n",
       "    </tr>\n",
       "    <tr>\n",
       "      <td>2</td>\n",
       "      <td>2704079</td>\n",
       "      <td>423943</td>\n",
       "      <td>50</td>\n",
       "      <td>10/11/2014</td>\n",
       "      <td>0</td>\n",
       "      <td>20141205000558</td>\n",
       "      <td></td>\n",
       "      <td></td>\n",
       "      <td></td>\n",
       "      <td></td>\n",
       "      <td>...</td>\n",
       "      <td>3</td>\n",
       "      <td>6</td>\n",
       "      <td>15</td>\n",
       "      <td>N</td>\n",
       "      <td>N</td>\n",
       "      <td>N</td>\n",
       "      <td>N</td>\n",
       "      <td>18</td>\n",
       "      <td>8</td>\n",
       "      <td>18 31 51</td>\n",
       "    </tr>\n",
       "    <tr>\n",
       "      <td>3</td>\n",
       "      <td>2584094</td>\n",
       "      <td>403700</td>\n",
       "      <td>715</td>\n",
       "      <td>01/04/2013</td>\n",
       "      <td>0</td>\n",
       "      <td>20130110000910</td>\n",
       "      <td></td>\n",
       "      <td></td>\n",
       "      <td></td>\n",
       "      <td></td>\n",
       "      <td>...</td>\n",
       "      <td>3</td>\n",
       "      <td>6</td>\n",
       "      <td>15</td>\n",
       "      <td>N</td>\n",
       "      <td>N</td>\n",
       "      <td>N</td>\n",
       "      <td>N</td>\n",
       "      <td>11</td>\n",
       "      <td>8</td>\n",
       "      <td>18 31 38</td>\n",
       "    </tr>\n",
       "    <tr>\n",
       "      <td>4</td>\n",
       "      <td>3027422</td>\n",
       "      <td>213043</td>\n",
       "      <td>120</td>\n",
       "      <td>12/20/2019</td>\n",
       "      <td>560000</td>\n",
       "      <td>20191226000848</td>\n",
       "      <td></td>\n",
       "      <td></td>\n",
       "      <td></td>\n",
       "      <td></td>\n",
       "      <td>...</td>\n",
       "      <td>11</td>\n",
       "      <td>6</td>\n",
       "      <td>3</td>\n",
       "      <td>N</td>\n",
       "      <td>N</td>\n",
       "      <td>N</td>\n",
       "      <td>N</td>\n",
       "      <td>1</td>\n",
       "      <td>8</td>\n",
       "      <td></td>\n",
       "    </tr>\n",
       "  </tbody>\n",
       "</table>\n",
       "<p>5 rows × 24 columns</p>\n",
       "</div>"
      ],
      "text/plain": [
       "   ExciseTaxNbr   Major Minor DocumentDate  SalePrice    RecordingNbr Volume  \\\n",
       "0       2687551  138860   110   08/21/2014     245000  20140828001436          \n",
       "1       1235111  664885    40   07/09/1991          0  199203161090      071   \n",
       "2       2704079  423943    50   10/11/2014          0  20141205000558          \n",
       "3       2584094  403700   715   01/04/2013          0  20130110000910          \n",
       "4       3027422  213043   120   12/20/2019     560000  20191226000848          \n",
       "\n",
       "  Page PlatNbr PlatType  ... PropertyType PrincipalUse SaleInstrument  \\\n",
       "0                        ...            3            6              3   \n",
       "1  001  664885        C  ...            3            0             26   \n",
       "2                        ...            3            6             15   \n",
       "3                        ...            3            6             15   \n",
       "4                        ...           11            6              3   \n",
       "\n",
       "  AFForestLand  AFCurrentUseLand  AFNonProfitUse  AFHistoricProperty  \\\n",
       "0            N                 N               N                   N   \n",
       "1            N                 N               N                   N   \n",
       "2            N                 N               N                   N   \n",
       "3            N                 N               N                   N   \n",
       "4            N                 N               N                   N   \n",
       "\n",
       "  SaleReason PropertyClass SaleWarning  \n",
       "0          1             8              \n",
       "1         18             3          11  \n",
       "2         18             8    18 31 51  \n",
       "3         11             8    18 31 38  \n",
       "4          1             8              \n",
       "\n",
       "[5 rows x 24 columns]"
      ]
     },
     "execution_count": 4,
     "metadata": {},
     "output_type": "execute_result"
    }
   ],
   "source": [
    "sale.head()"
   ]
  },
  {
   "cell_type": "code",
   "execution_count": 5,
   "metadata": {},
   "outputs": [],
   "source": [
    "def add_pin(df):\n",
    "    df['pin'] = df['Major'].astype(str).str.zfill(6) + df['Minor'].astype(str).str.zfill(4)\n",
    "    return df"
   ]
  },
  {
   "cell_type": "code",
   "execution_count": 6,
   "metadata": {},
   "outputs": [],
   "source": [
    "parcel = add_pin(parcel)\n",
    "res = add_pin(res)\n",
    "sale = add_pin(sale)"
   ]
  },
  {
   "cell_type": "code",
   "execution_count": 46,
   "metadata": {},
   "outputs": [],
   "source": [
    "# sale = sale.drop_duplicates(subset = 'pin')"
   ]
  },
  {
   "cell_type": "code",
   "execution_count": 47,
   "metadata": {},
   "outputs": [],
   "source": [
    "merged = pd.merge(pd.merge(res, sale, on = 'pin', how = 'inner'), parcel, on = 'pin', how = 'inner')"
   ]
  },
  {
   "cell_type": "code",
   "execution_count": 48,
   "metadata": {},
   "outputs": [
    {
     "data": {
      "text/plain": [
       "(487961, 156)"
      ]
     },
     "execution_count": 48,
     "metadata": {},
     "output_type": "execute_result"
    }
   ],
   "source": [
    "merged.shape"
   ]
  },
  {
   "cell_type": "code",
   "execution_count": 18,
   "metadata": {},
   "outputs": [
    {
     "name": "stdout",
     "output_type": "stream",
     "text": [
      "AFCurrentUseLand\n",
      "AFForestLand\n",
      "AFHistoricProperty\n",
      "AFNonProfitUse\n",
      "Access\n",
      "AddnlCost\n",
      "Address\n",
      "AdjacentGolfFairway\n",
      "AdjacentGreenbelt\n",
      "AirportNoise\n",
      "Area\n",
      "Bath3qtrCount\n",
      "BathFullCount\n",
      "BathHalfCount\n",
      "Bedrooms\n",
      "BldgGrade\n",
      "BldgGradeVar\n",
      "BldgNbr\n",
      "BrickStone\n",
      "BuildingNumber\n",
      "BuyerName\n",
      "Cascades\n",
      "CoalMineHazard\n",
      "Condition\n",
      "Contamination\n",
      "CriticalDrainage\n",
      "CurrentUseDesignation\n",
      "CurrentZoning\n",
      "DNRLease\n",
      "DaylightBasement\n",
      "DeedRestrictions\n",
      "DevelopmentRightsPurch\n",
      "DirectionPrefix\n",
      "DirectionSuffix\n",
      "DistrictName\n",
      "DocumentDate\n",
      "Easements\n",
      "ErosionHazard\n",
      "ExciseTaxNbr\n",
      "FinBasementGrade\n",
      "FpAdditional\n",
      "FpFreestanding\n",
      "FpMultiStory\n",
      "FpSingleStory\n",
      "Fraction\n",
      "HBUAsIfVacant\n",
      "HBUAsImproved\n",
      "HeatSource\n",
      "HeatSystem\n",
      "HistoricSite\n",
      "HundredYrFloodPlain\n",
      "InadequateParking\n",
      "LakeSammamish\n",
      "LakeWashington\n",
      "LandfillBuffer\n",
      "LandslideHazard\n",
      "LevyCode\n",
      "LotDepthFactor\n",
      "Major\n",
      "Major_x\n",
      "Major_y\n",
      "Minor\n",
      "Minor_x\n",
      "Minor_y\n",
      "MtRainier\n",
      "NativeGrowthProtEsmt\n",
      "NbrBldgSites\n",
      "NbrLivingUnits\n",
      "Obsolescence\n",
      "Olympics\n",
      "OtherDesignation\n",
      "OtherNuisances\n",
      "OtherProblems\n",
      "OtherView\n",
      "Page\n",
      "PcntComplete\n",
      "PcntNetCondition\n",
      "PcntUnusable\n",
      "PlatBlock_x\n",
      "PlatBlock_y\n",
      "PlatLot_x\n",
      "PlatLot_y\n",
      "PlatName\n",
      "PlatNbr\n",
      "PlatType\n",
      "PowerLines\n",
      "PresentUse\n",
      "PrincipalUse\n",
      "PropName\n",
      "PropType\n",
      "PropertyClass\n",
      "PropertyType\n",
      "PugetSound\n",
      "QuarterSection\n",
      "Range\n",
      "RecordingNbr\n",
      "RestrictiveSzShape\n",
      "SaleInstrument\n",
      "SalePrice\n",
      "SaleReason\n",
      "SaleWarning\n",
      "SeattleSkyline\n",
      "Section\n",
      "SeismicHazard\n",
      "SellerName\n",
      "SensitiveAreaTract\n",
      "SewerSystem\n",
      "SmallLakeRiverCreek\n",
      "SpecArea\n",
      "SpecSubArea\n",
      "SpeciesOfConcern\n",
      "SqFt1stFloor\n",
      "SqFt2ndFloor\n",
      "SqFtDeck\n",
      "SqFtEnclosedPorch\n",
      "SqFtFinBasement\n",
      "SqFtGarageAttached\n",
      "SqFtGarageBasement\n",
      "SqFtHalfFloor\n",
      "SqFtLot\n",
      "SqFtOpenPorch\n",
      "SqFtTotBasement\n",
      "SqFtTotLiving\n",
      "SqFtUnfinFull\n",
      "SqFtUnfinHalf\n",
      "SqFtUpperFloor\n",
      "Sqft\n",
      "SteepSlopeHazard\n",
      "Stories\n",
      "Stream\n",
      "StreetName\n",
      "StreetSurface\n",
      "StreetType\n",
      "SubArea\n",
      "Territorial\n",
      "TidelandShoreland\n",
      "Topography\n",
      "Township\n",
      "TrafficNoise\n",
      "TranspConcurrency\n",
      "Unbuildable\n",
      "ViewUtilization\n",
      "Volume\n",
      "WaterProblems\n",
      "WaterSystem\n",
      "Wetland\n",
      "WfntAccessRights\n",
      "WfntBank\n",
      "WfntFootage\n",
      "WfntLocation\n",
      "WfntPoorQuality\n",
      "WfntProximityInfluence\n",
      "WfntRestrictedAccess\n",
      "YrBuilt\n",
      "YrRenovated\n",
      "ZipCode\n",
      "pin\n"
     ]
    }
   ],
   "source": [
    "for i in sorted(merged.columns):\n",
    "    print(i)"
   ]
  },
  {
   "cell_type": "code",
   "execution_count": 49,
   "metadata": {},
   "outputs": [],
   "source": [
    "merged['Sqft'] = merged['SqFtTotLiving'] + merged['SqFtFinBasement'] + merged['SqFtDeck']\n",
    "trimmed = merged[(merged['SalePrice'] < 5000000) & (merged['SqFtTotLiving'] < 50000) & (merged['SalePrice'] > 10)]\n",
    "sqft = trimmed['SqFtTotLiving']\n",
    "price = trimmed['SalePrice']"
   ]
  },
  {
   "cell_type": "code",
   "execution_count": 50,
   "metadata": {},
   "outputs": [
    {
     "data": {
      "text/plain": [
       "[<matplotlib.lines.Line2D at 0x1c1e9f49d0>]"
      ]
     },
     "execution_count": 50,
     "metadata": {},
     "output_type": "execute_result"
    },
    {
     "data": {
      "image/png": "[encoded data removed]",
      "text/plain": [
       "<Figure size 432x288 with 1 Axes>"
      ]
     },
     "metadata": {
      "needs_background": "light"
     },
     "output_type": "display_data"
    }
   ],
   "source": [
    "x = np.linspace(0, 25000, num = 1000)\n",
    "y = x * 187.7 + 1.248 * 10 ** 4\n",
    "plt.scatter(sqft, price, alpha = 0.1)\n",
    "plt.plot(x, y, color = 'r')"
   ]
  },
  {
   "cell_type": "code",
   "execution_count": 51,
   "metadata": {},
   "outputs": [],
   "source": [
    "fsm = ols(formula=\"SalePrice ~ SqFtTotLiving + SqFtOpenPorch + SqFtDeck + TidelandShoreland\", data=trimmed).fit()"
   ]
  },
  {
   "cell_type": "code",
   "execution_count": 52,
   "metadata": {},
   "outputs": [
    {
     "data": {
      "text/html": [
       "<table class=\"simpletable\">\n",
       "<caption>OLS Regression Results</caption>\n",
       "<tr>\n",
       "  <th>Dep. Variable:</th>        <td>SalePrice</td>    <th>  R-squared:         </th>  <td>   0.170</td>  \n",
       "</tr>\n",
       "<tr>\n",
       "  <th>Model:</th>                   <td>OLS</td>       <th>  Adj. R-squared:    </th>  <td>   0.170</td>  \n",
       "</tr>\n",
       "<tr>\n",
       "  <th>Method:</th>             <td>Least Squares</td>  <th>  F-statistic:       </th>  <td>1.749e+04</td> \n",
       "</tr>\n",
       "<tr>\n",
       "  <th>Date:</th>             <td>Mon, 02 Mar 2020</td> <th>  Prob (F-statistic):</th>   <td>  0.00</td>   \n",
       "</tr>\n",
       "<tr>\n",
       "  <th>Time:</th>                 <td>17:54:33</td>     <th>  Log-Likelihood:    </th> <td>-4.8734e+06</td>\n",
       "</tr>\n",
       "<tr>\n",
       "  <th>No. Observations:</th>      <td>340552</td>      <th>  AIC:               </th>  <td>9.747e+06</td> \n",
       "</tr>\n",
       "<tr>\n",
       "  <th>Df Residuals:</th>          <td>340547</td>      <th>  BIC:               </th>  <td>9.747e+06</td> \n",
       "</tr>\n",
       "<tr>\n",
       "  <th>Df Model:</th>              <td>     4</td>      <th>                     </th>      <td> </td>     \n",
       "</tr>\n",
       "<tr>\n",
       "  <th>Covariance Type:</th>      <td>nonrobust</td>    <th>                     </th>      <td> </td>     \n",
       "</tr>\n",
       "</table>\n",
       "<table class=\"simpletable\">\n",
       "<tr>\n",
       "          <td></td>             <th>coef</th>     <th>std err</th>      <th>t</th>      <th>P>|t|</th>  <th>[0.025</th>    <th>0.975]</th>  \n",
       "</tr>\n",
       "<tr>\n",
       "  <th>Intercept</th>         <td> 2.526e+04</td> <td> 1688.524</td> <td>   14.958</td> <td> 0.000</td> <td> 2.19e+04</td> <td> 2.86e+04</td>\n",
       "</tr>\n",
       "<tr>\n",
       "  <th>SqFtTotLiving</th>     <td>  169.9672</td> <td>    0.784</td> <td>  216.683</td> <td> 0.000</td> <td>  168.430</td> <td>  171.505</td>\n",
       "</tr>\n",
       "<tr>\n",
       "  <th>SqFtOpenPorch</th>     <td>  163.4337</td> <td>    6.029</td> <td>   27.109</td> <td> 0.000</td> <td>  151.618</td> <td>  175.250</td>\n",
       "</tr>\n",
       "<tr>\n",
       "  <th>SqFtDeck</th>          <td>  -33.4894</td> <td>    2.158</td> <td>  -15.519</td> <td> 0.000</td> <td>  -37.719</td> <td>  -29.260</td>\n",
       "</tr>\n",
       "<tr>\n",
       "  <th>TidelandShoreland</th> <td> 2.479e+05</td> <td> 3868.184</td> <td>   64.083</td> <td> 0.000</td> <td>  2.4e+05</td> <td> 2.55e+05</td>\n",
       "</tr>\n",
       "</table>\n",
       "<table class=\"simpletable\">\n",
       "<tr>\n",
       "  <th>Omnibus:</th>       <td>298803.021</td> <th>  Durbin-Watson:     </th>   <td>   1.618</td>  \n",
       "</tr>\n",
       "<tr>\n",
       "  <th>Prob(Omnibus):</th>   <td> 0.000</td>   <th>  Jarque-Bera (JB):  </th> <td>13838908.855</td>\n",
       "</tr>\n",
       "<tr>\n",
       "  <th>Skew:</th>            <td> 4.085</td>   <th>  Prob(JB):          </th>   <td>    0.00</td>  \n",
       "</tr>\n",
       "<tr>\n",
       "  <th>Kurtosis:</th>        <td>33.142</td>   <th>  Cond. No.          </th>   <td>1.34e+04</td>  \n",
       "</tr>\n",
       "</table><br/><br/>Warnings:<br/>[1] Standard Errors assume that the covariance matrix of the errors is correctly specified.<br/>[2] The condition number is large, 1.34e+04. This might indicate that there are<br/>strong multicollinearity or other numerical problems."
      ],
      "text/plain": [
       "<class 'statsmodels.iolib.summary.Summary'>\n",
       "\"\"\"\n",
       "                            OLS Regression Results                            \n",
       "==============================================================================\n",
       "Dep. Variable:              SalePrice   R-squared:                       0.170\n",
       "Model:                            OLS   Adj. R-squared:                  0.170\n",
       "Method:                 Least Squares   F-statistic:                 1.749e+04\n",
       "Date:                Mon, 02 Mar 2020   Prob (F-statistic):               0.00\n",
       "Time:                        17:54:33   Log-Likelihood:            -4.8734e+06\n",
       "No. Observations:              340552   AIC:                         9.747e+06\n",
       "Df Residuals:                  340547   BIC:                         9.747e+06\n",
       "Df Model:                           4                                         \n",
       "Covariance Type:            nonrobust                                         \n",
       "=====================================================================================\n",
       "                        coef    std err          t      P>|t|      [0.025      0.975]\n",
       "-------------------------------------------------------------------------------------\n",
       "Intercept          2.526e+04   1688.524     14.958      0.000    2.19e+04    2.86e+04\n",
       "SqFtTotLiving       169.9672      0.784    216.683      0.000     168.430     171.505\n",
       "SqFtOpenPorch       163.4337      6.029     27.109      0.000     151.618     175.250\n",
       "SqFtDeck            -33.4894      2.158    -15.519      0.000     -37.719     -29.260\n",
       "TidelandShoreland  2.479e+05   3868.184     64.083      0.000     2.4e+05    2.55e+05\n",
       "==============================================================================\n",
       "Omnibus:                   298803.021   Durbin-Watson:                   1.618\n",
       "Prob(Omnibus):                  0.000   Jarque-Bera (JB):         13838908.855\n",
       "Skew:                           4.085   Prob(JB):                         0.00\n",
       "Kurtosis:                      33.142   Cond. No.                     1.34e+04\n",
       "==============================================================================\n",
       "\n",
       "Warnings:\n",
       "[1] Standard Errors assume that the covariance matrix of the errors is correctly specified.\n",
       "[2] The condition number is large, 1.34e+04. This might indicate that there are\n",
       "strong multicollinearity or other numerical problems.\n",
       "\"\"\""
      ]
     },
     "execution_count": 52,
     "metadata": {},
     "output_type": "execute_result"
    }
   ],
   "source": [
    "fsm.summary()"
   ]
  },
  {
   "cell_type": "code",
   "execution_count": 53,
   "metadata": {},
   "outputs": [
    {
     "name": "stdout",
     "output_type": "stream",
     "text": [
      "Rainbow statistic: 0.9814294482342996\n",
      "Rainbow p-value: 0.9999450182256641\n"
     ]
    }
   ],
   "source": [
    "rainbow_statistic, rainbow_p_value = linear_rainbow(fsm)\n",
    "print(\"Rainbow statistic:\", rainbow_statistic)\n",
    "print(\"Rainbow p-value:\", rainbow_p_value)"
   ]
  },
  {
   "cell_type": "code",
   "execution_count": 15,
   "metadata": {},
   "outputs": [],
   "source": [
    "corr = merged.corr()[\"SalePrice\"]"
   ]
  },
  {
   "cell_type": "code",
   "execution_count": 16,
   "metadata": {},
   "outputs": [
    {
     "data": {
      "text/plain": [
       "0.17198383602338405"
      ]
     },
     "execution_count": 16,
     "metadata": {},
     "output_type": "execute_result"
    }
   ],
   "source": [
    "corr['SqFtTotLiving']"
   ]
  },
  {
   "cell_type": "code",
   "execution_count": 17,
   "metadata": {},
   "outputs": [
    {
     "data": {
      "text/plain": [
       "<matplotlib.axes._subplots.AxesSubplot at 0x1c1f787610>"
      ]
     },
     "execution_count": 17,
     "metadata": {},
     "output_type": "execute_result"
    },
    {
     "data": {
      "image/png": "[encoded data removed]",
      "text/plain": [
       "<Figure size 432x1800 with 2 Axes>"
      ]
     },
     "metadata": {
      "needs_background": "light"
     },
     "output_type": "display_data"
    }
   ],
   "source": [
    "'''\n",
    "mask = np.triu(np.ones_like(corr, dtype=np.bool))\n",
    "\n",
    "fig1, ax1 = plt.subplots(figsize=(11, 9))\n",
    "sns.heatmap(corr, mask=mask, ax=ax1)\n",
    "'''\n",
    "\n",
    "fig1, ax1 = plt.subplots(figsize=(6, 25))\n",
    "\n",
    "sns.heatmap(pd.DataFrame(corr), ax = ax1)"
   ]
  },
  {
   "cell_type": "code",
   "execution_count": null,
   "metadata": {},
   "outputs": [],
   "source": []
  }
 ],
 "metadata": {
  "kernelspec": {
   "display_name": "Python 3 (linreg-env)",
   "language": "python",
   "name": "linreg-env"
  },
  "language_info": {
   "codemirror_mode": {
    "name": "ipython",
    "version": 3
   },
   "file_extension": ".py",
   "mimetype": "text/x-python",
   "name": "python",
   "nbconvert_exporter": "python",
   "pygments_lexer": "ipython3",
   "version": "3.7.4"
  }
 },
 "nbformat": 4,
 "nbformat_minor": 4
}
