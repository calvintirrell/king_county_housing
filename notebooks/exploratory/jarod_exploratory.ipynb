{
 "cells": [
  {
   "cell_type": "code",
   "execution_count": 1,
   "metadata": {},
   "outputs": [],
   "source": [
    "import numpy as np\n",
    "import pandas as pd\n",
    "\n",
    "import matplotlib.pyplot as plt\n",
    "import seaborn as sns\n",
    "\n",
    "from statsmodels.formula.api import ols\n",
    "from statsmodels.stats.diagnostic import linear_rainbow, het_breuschpagan\n",
    "from statsmodels.stats.outliers_influence import variance_inflation_factor\n",
    "\n",
    "from itertools import combinations\n",
    "\n",
    "import warnings\n",
    "\n",
    "import os\n",
    "import sys\n",
    "module_path = os.path.abspath(os.path.join(os.pardir, os.pardir))\n",
    "if module_path not in sys.path:\n",
    "    sys.path.append(module_path)\n",
    "\n",
    "from src.stats_maker import *"
   ]
  },
  {
   "cell_type": "code",
   "execution_count": 2,
   "metadata": {},
   "outputs": [],
   "source": [
    "merged = pd.read_csv('../../data/housing2019.csv')"
   ]
  },
  {
   "cell_type": "code",
   "execution_count": 8,
   "metadata": {},
   "outputs": [],
   "source": [
    "lst = []\n",
    "for i in sorted(merged.columns):\n",
    "    lst.append(i)\n",
    "#lst"
   ]
  },
  {
   "cell_type": "code",
   "execution_count": 22,
   "metadata": {},
   "outputs": [],
   "source": [
    "merged['Sqft'] = merged['SqFtTotLiving'] + merged['SqFtFinBasement'] + merged['SqFtDeck']\n",
    "trimmed = merged[(merged['SqFtTotLiving'] < 50000)]\n",
    "sqft = trimmed['BldgGrade']\n",
    "price = trimmed['SalePrice']"
   ]
  },
  {
   "cell_type": "code",
   "execution_count": 23,
   "metadata": {},
   "outputs": [
    {
     "data": {
      "text/plain": [
       "(29621, 157)"
      ]
     },
     "execution_count": 23,
     "metadata": {},
     "output_type": "execute_result"
    }
   ],
   "source": [
    "trimmed.shape"
   ]
  },
  {
   "cell_type": "code",
   "execution_count": 24,
   "metadata": {},
   "outputs": [
    {
     "data": {
      "text/plain": [
       "<matplotlib.collections.PathCollection at 0x1c5bc40750>"
      ]
     },
     "execution_count": 24,
     "metadata": {},
     "output_type": "execute_result"
    },
    {
     "data": {
      "image/png": "[encoded data removed]",
      "text/plain": [
       "<Figure size 432x288 with 1 Axes>"
      ]
     },
     "metadata": {
      "needs_background": "light"
     },
     "output_type": "display_data"
    }
   ],
   "source": [
    "x = np.linspace(0, 10000, num = 1000)\n",
    "y = x * 187.7 + 1.248 * 10 ** 4\n",
    "plt.scatter(sqft, price, alpha = 0.1)\n",
    "# plt.plot(x, y, color = 'r')"
   ]
  },
  {
   "cell_type": "code",
   "execution_count": 25,
   "metadata": {},
   "outputs": [
    {
     "data": {
      "text/html": [
       "<table class=\"simpletable\">\n",
       "<caption>OLS Regression Results</caption>\n",
       "<tr>\n",
       "  <th>Dep. Variable:</th>        <td>SalePrice</td>    <th>  R-squared:         </th>  <td>   0.406</td>  \n",
       "</tr>\n",
       "<tr>\n",
       "  <th>Model:</th>                   <td>OLS</td>       <th>  Adj. R-squared:    </th>  <td>   0.406</td>  \n",
       "</tr>\n",
       "<tr>\n",
       "  <th>Method:</th>             <td>Least Squares</td>  <th>  F-statistic:       </th>  <td>1.013e+04</td> \n",
       "</tr>\n",
       "<tr>\n",
       "  <th>Date:</th>             <td>Wed, 04 Mar 2020</td> <th>  Prob (F-statistic):</th>   <td>  0.00</td>   \n",
       "</tr>\n",
       "<tr>\n",
       "  <th>Time:</th>                 <td>16:47:16</td>     <th>  Log-Likelihood:    </th> <td>-4.2409e+05</td>\n",
       "</tr>\n",
       "<tr>\n",
       "  <th>No. Observations:</th>      <td> 29621</td>      <th>  AIC:               </th>  <td>8.482e+05</td> \n",
       "</tr>\n",
       "<tr>\n",
       "  <th>Df Residuals:</th>          <td> 29618</td>      <th>  BIC:               </th>  <td>8.482e+05</td> \n",
       "</tr>\n",
       "<tr>\n",
       "  <th>Df Model:</th>              <td>     2</td>      <th>                     </th>      <td> </td>     \n",
       "</tr>\n",
       "<tr>\n",
       "  <th>Covariance Type:</th>      <td>nonrobust</td>    <th>                     </th>      <td> </td>     \n",
       "</tr>\n",
       "</table>\n",
       "<table class=\"simpletable\">\n",
       "<tr>\n",
       "        <td></td>           <th>coef</th>     <th>std err</th>      <th>t</th>      <th>P>|t|</th>  <th>[0.025</th>    <th>0.975]</th>  \n",
       "</tr>\n",
       "<tr>\n",
       "  <th>Intercept</th>     <td>-8.115e+05</td> <td> 1.76e+04</td> <td>  -46.205</td> <td> 0.000</td> <td>-8.46e+05</td> <td>-7.77e+05</td>\n",
       "</tr>\n",
       "<tr>\n",
       "  <th>SqFtTotLiving</th> <td>  168.0636</td> <td>    3.353</td> <td>   50.118</td> <td> 0.000</td> <td>  161.491</td> <td>  174.636</td>\n",
       "</tr>\n",
       "<tr>\n",
       "  <th>BldgGrade</th>     <td> 1.599e+05</td> <td> 2848.174</td> <td>   56.124</td> <td> 0.000</td> <td> 1.54e+05</td> <td> 1.65e+05</td>\n",
       "</tr>\n",
       "</table>\n",
       "<table class=\"simpletable\">\n",
       "<tr>\n",
       "  <th>Omnibus:</th>       <td>17226.036</td> <th>  Durbin-Watson:     </th>  <td>   1.650</td> \n",
       "</tr>\n",
       "<tr>\n",
       "  <th>Prob(Omnibus):</th>  <td> 0.000</td>   <th>  Jarque-Bera (JB):  </th> <td>275527.570</td>\n",
       "</tr>\n",
       "<tr>\n",
       "  <th>Skew:</th>           <td> 2.487</td>   <th>  Prob(JB):          </th>  <td>    0.00</td> \n",
       "</tr>\n",
       "<tr>\n",
       "  <th>Kurtosis:</th>       <td>17.089</td>   <th>  Cond. No.          </th>  <td>1.82e+04</td> \n",
       "</tr>\n",
       "</table><br/><br/>Warnings:<br/>[1] Standard Errors assume that the covariance matrix of the errors is correctly specified.<br/>[2] The condition number is large, 1.82e+04. This might indicate that there are<br/>strong multicollinearity or other numerical problems."
      ],
      "text/plain": [
       "<class 'statsmodels.iolib.summary.Summary'>\n",
       "\"\"\"\n",
       "                            OLS Regression Results                            \n",
       "==============================================================================\n",
       "Dep. Variable:              SalePrice   R-squared:                       0.406\n",
       "Model:                            OLS   Adj. R-squared:                  0.406\n",
       "Method:                 Least Squares   F-statistic:                 1.013e+04\n",
       "Date:                Wed, 04 Mar 2020   Prob (F-statistic):               0.00\n",
       "Time:                        16:47:16   Log-Likelihood:            -4.2409e+05\n",
       "No. Observations:               29621   AIC:                         8.482e+05\n",
       "Df Residuals:                   29618   BIC:                         8.482e+05\n",
       "Df Model:                           2                                         \n",
       "Covariance Type:            nonrobust                                         \n",
       "=================================================================================\n",
       "                    coef    std err          t      P>|t|      [0.025      0.975]\n",
       "---------------------------------------------------------------------------------\n",
       "Intercept     -8.115e+05   1.76e+04    -46.205      0.000   -8.46e+05   -7.77e+05\n",
       "SqFtTotLiving   168.0636      3.353     50.118      0.000     161.491     174.636\n",
       "BldgGrade      1.599e+05   2848.174     56.124      0.000    1.54e+05    1.65e+05\n",
       "==============================================================================\n",
       "Omnibus:                    17226.036   Durbin-Watson:                   1.650\n",
       "Prob(Omnibus):                  0.000   Jarque-Bera (JB):           275527.570\n",
       "Skew:                           2.487   Prob(JB):                         0.00\n",
       "Kurtosis:                      17.089   Cond. No.                     1.82e+04\n",
       "==============================================================================\n",
       "\n",
       "Warnings:\n",
       "[1] Standard Errors assume that the covariance matrix of the errors is correctly specified.\n",
       "[2] The condition number is large, 1.82e+04. This might indicate that there are\n",
       "strong multicollinearity or other numerical problems.\n",
       "\"\"\""
      ]
     },
     "execution_count": 25,
     "metadata": {},
     "output_type": "execute_result"
    }
   ],
   "source": [
    "fsm = ols(formula=\"SalePrice ~ SqFtTotLiving + BldgGrade\", data=trimmed).fit()\n",
    "fsm.summary()"
   ]
  },
  {
   "cell_type": "code",
   "execution_count": 26,
   "metadata": {},
   "outputs": [
    {
     "name": "stdout",
     "output_type": "stream",
     "text": [
      "Rainbow statistic: 1.0012590253475246\n",
      "Rainbow p-value: 0.4694881500948912\n"
     ]
    }
   ],
   "source": [
    "rainbow_statistic, rainbow_p_value = linear_rainbow(fsm)\n",
    "print(\"Rainbow statistic:\", rainbow_statistic)\n",
    "print(\"Rainbow p-value:\", rainbow_p_value)"
   ]
  },
  {
   "cell_type": "code",
   "execution_count": 3,
   "metadata": {},
   "outputs": [],
   "source": [
    "merged = merged.drop(labels = 'Unnamed: 0', axis = 1)"
   ]
  },
  {
   "cell_type": "code",
   "execution_count": 4,
   "metadata": {},
   "outputs": [],
   "source": [
    "lst = []\n",
    "for i in merged.columns:\n",
    "    for j in merged.columns:\n",
    "        if i == j: continue  \n",
    "        try:\n",
    "            rows = merged[[i, j]].values\n",
    "\n",
    "            vif_df = pd.DataFrame()\n",
    "            vif_df[\"VIF\"] = [variance_inflation_factor(rows, k) for k in range(2)]\n",
    "            vif_df[\"feature\"] = [i, j]\n",
    "\n",
    "            lst.append(vif_df)\n",
    "            break\n",
    "        except:\n",
    "            pass"
   ]
  },
  {
   "cell_type": "code",
   "execution_count": 5,
   "metadata": {},
   "outputs": [
    {
     "data": {
      "text/plain": [
       "Index(['Township', 'Area', 'SqFtLot', 'WaterSystem', 'SewerSystem', 'Access',\n",
       "       'Topography', 'StreetSurface', 'RestrictiveSzShape',\n",
       "       'InadequateParking', 'PcntUnusable', 'TidelandShoreland',\n",
       "       'LotDepthFactor', 'TrafficNoise', 'AirportNoise', 'NbrBldgSites',\n",
       "       'Contamination', 'HistoricSite', 'CurrentUseDesignation', 'pin',\n",
       "       'ExciseTaxNbr', 'SalePrice', 'PropertyType', 'PrincipalUse',\n",
       "       'SaleInstrument', 'SaleReason', 'PropertyClass', 'BldgNbr',\n",
       "       'NbrLivingUnits', 'Stories', 'BldgGrade', 'BldgGradeVar',\n",
       "       'SqFtTotLiving', 'SqFtTotBasement', 'SqFtGarageAttached',\n",
       "       'SqFtOpenPorch', 'SqFtEnclosedPorch', 'SqFtDeck', 'HeatSystem',\n",
       "       'HeatSource', 'BrickStone', 'Bedrooms', 'BathHalfCount',\n",
       "       'Bath3qtrCount', 'BathFullCount', 'FpSingleStory', 'FpMultiStory',\n",
       "       'FpFreestanding', 'FpAdditional', 'YrBuilt', 'YrRenovated',\n",
       "       'PcntComplete', 'Obsolescence', 'PcntNetCondition', 'Condition',\n",
       "       'AddnlCost', 'Wfnt', 'ViewNumber'],\n",
       "      dtype='object')"
      ]
     },
     "execution_count": 5,
     "metadata": {},
     "output_type": "execute_result"
    }
   ],
   "source": [
    "# this if for cutting the df down to only things that have valid vif's and drops a bunch of other stuff\n",
    "# not sure why I did this. I think its kinda dumb\n",
    "# It also aggregates waterfront columns and view columns into 1\n",
    "dfi = lst[0]\n",
    "for i in lst[1:]:\n",
    "    dfi = pd.concat([dfi, i], axis = 0)\n",
    "vif_able_columns = dfi['feature'].unique()\n",
    "df_vif_only = merged[vif_able_columns]\n",
    "\n",
    "df_vif_only['Wfnt'] = ((df_vif_only['WfntLocation'] != 0)\n",
    "                        + (df_vif_only['WfntFootage'] != 0)\n",
    "                        + (df_vif_only['WfntBank'] != 0)\n",
    "                        + (df_vif_only['WfntPoorQuality'] != 0)\n",
    "                        + (df_vif_only['WfntRestrictedAccess'] != 0)).astype(int)\n",
    "df_vif_only = df_vif_only.drop(labels = ['WfntLocation', 'WfntFootage', 'WfntBank', 'WfntPoorQuality', 'WfntRestrictedAccess'], axis = 1)\n",
    "\n",
    "view_cols = ['MtRainier', 'Olympics', 'Cascades', 'Territorial', 'SeattleSkyline', 'PugetSound', 'LakeWashington', 'LakeSammamish', 'SmallLakeRiverCreek', 'OtherView']\n",
    "view_series = pd.Series(np.zeros(df_vif_only.shape[0]))\n",
    "for i in view_cols:\n",
    "    view_series = view_series + df_vif_only[i]\n",
    "view_series = view_series.astype(int)\n",
    "df_vif_only['ViewNumber'] = view_series\n",
    "df_vif_only = df_vif_only.drop(view_cols, axis = 1)\n",
    "\n",
    "#Get rid of some sqft columns i dont want\n",
    "sqft_cols = ['SqFt1stFloor', 'SqFtHalfFloor', 'SqFt2ndFloor', 'SqFtUpperFloor', 'SqFtUnfinFull',\n",
    "             'SqFtUnfinHalf', 'SqFtFinBasement', 'FinBasementGrade', 'SqFtGarageBasement']\n",
    "df_vif_only = df_vif_only.drop(sqft_cols, axis = 1)\n",
    "\n",
    "#Get rid of locational IDs\n",
    "location_cols = ['Range',\n",
    "                 #'Township',\n",
    "                 'Section',\n",
    "                 #'Area',\n",
    "                 'SubArea',\n",
    "                 'LevyCode']\n",
    "df_vif_only = df_vif_only.drop(location_cols, axis = 1)\n",
    "\n",
    "\n",
    "other_cols = ['Major_x', 'Minor_x', 'HBUAsIfVacant', 'HBUAsImproved', 'PresentUse', 'Major_y', 'Minor_y', 'Major', 'Minor']\n",
    "df_vif_only = df_vif_only.drop(other_cols, axis = 1)\n",
    "df_vif_only.columns"
   ]
  },
  {
   "cell_type": "code",
   "execution_count": 6,
   "metadata": {},
   "outputs": [
    {
     "name": "stdout",
     "output_type": "stream",
     "text": [
      "Combinations to go through: 1596\n",
      "Percent Done: 0\n",
      "Percent Done: 10\n",
      "Percent Done: 20\n",
      "Percent Done: 30\n",
      "Percent Done: 40\n",
      "Percent Done: 50\n",
      "Percent Done: 60\n",
      "Percent Done: 70\n",
      "Percent Done: 80\n",
      "Percent Done: 90\n",
      "Percent Done: 100\n"
     ]
    }
   ],
   "source": [
    "using_columns = ['Wfnt', 'ViewNumber', 'SqFtTotLiving', 'SqFtOpenPorch',\n",
    "                          'SqFtEnclosedPorch', 'SqFtDeck', 'Bedrooms', 'BathHalfCount',\n",
    "                          'Bath3qtrCount', 'BathFullCount',\n",
    "                          'TrafficNoise', 'Stories', 'Condition', 'Area',\n",
    "                          'WaterSystem', 'SewerSystem', 'YrBuilt',\n",
    "                          'YrRenovated', 'BldgGrade', 'Township']\n",
    "two = stats_of_combinations(df_vif_only, 2)\n",
    "#two = stats_of_combinations(df_vif_only, 2, using_columns)\n",
    "#three = stats_of_combinations(df_vif_only, 3, using_columns)\n",
    "#four = stats_of_combinations(df_vif_only, 4, using_columns)\n",
    "srtd = sort_by_r2(two)"
   ]
  },
  {
   "cell_type": "code",
   "execution_count": 200,
   "metadata": {},
   "outputs": [],
   "source": [
    "srtd = sort_by_r2(four)\n",
    "fltrd = filter_vf(srtd)"
   ]
  },
  {
   "cell_type": "code",
   "execution_count": 217,
   "metadata": {},
   "outputs": [],
   "source": [
    "deef = pd.DataFrame()\n",
    "for i in range(500):\n",
    "    deef = deef.append(fltrd[i]['columns'])"
   ]
  },
  {
   "cell_type": "code",
   "execution_count": 218,
   "metadata": {},
   "outputs": [
    {
     "data": {
      "text/plain": [
       "ViewNumber           225\n",
       "SqFtOpenPorch        176\n",
       "Bath3qtrCount        164\n",
       "SqFtDeck             147\n",
       "SqFtTotLiving        144\n",
       "BathHalfCount        139\n",
       "Wfnt                 136\n",
       "YrRenovated          134\n",
       "TrafficNoise         129\n",
       "SqFtEnclosedPorch    129\n",
       "BldgGrade            112\n",
       "Area                 110\n",
       "Township             100\n",
       "BathFullCount         76\n",
       "Condition             24\n",
       "Bedrooms              19\n",
       "Stories               17\n",
       "SewerSystem           13\n",
       "YrBuilt                3\n",
       "WaterSystem            3\n",
       "Name: 0, dtype: int64"
      ]
     },
     "execution_count": 218,
     "metadata": {},
     "output_type": "execute_result"
    }
   ],
   "source": [
    "deef[0].value_counts()"
   ]
  },
  {
   "cell_type": "code",
   "execution_count": 216,
   "metadata": {},
   "outputs": [
    {
     "data": {
      "text/html": [
       "<table class=\"simpletable\">\n",
       "<caption>OLS Regression Results</caption>\n",
       "<tr>\n",
       "  <th>Dep. Variable:</th>        <td>SalePrice</td>    <th>  R-squared:         </th>  <td>   0.413</td>  \n",
       "</tr>\n",
       "<tr>\n",
       "  <th>Model:</th>                   <td>OLS</td>       <th>  Adj. R-squared:    </th>  <td>   0.413</td>  \n",
       "</tr>\n",
       "<tr>\n",
       "  <th>Method:</th>             <td>Least Squares</td>  <th>  F-statistic:       </th>  <td>   5203.</td>  \n",
       "</tr>\n",
       "<tr>\n",
       "  <th>Date:</th>             <td>Wed, 04 Mar 2020</td> <th>  Prob (F-statistic):</th>   <td>  0.00</td>   \n",
       "</tr>\n",
       "<tr>\n",
       "  <th>Time:</th>                 <td>15:07:09</td>     <th>  Log-Likelihood:    </th> <td>-4.2392e+05</td>\n",
       "</tr>\n",
       "<tr>\n",
       "  <th>No. Observations:</th>      <td> 29621</td>      <th>  AIC:               </th>  <td>8.479e+05</td> \n",
       "</tr>\n",
       "<tr>\n",
       "  <th>Df Residuals:</th>          <td> 29616</td>      <th>  BIC:               </th>  <td>8.479e+05</td> \n",
       "</tr>\n",
       "<tr>\n",
       "  <th>Df Model:</th>              <td>     4</td>      <th>                     </th>      <td> </td>     \n",
       "</tr>\n",
       "<tr>\n",
       "  <th>Covariance Type:</th>      <td>nonrobust</td>    <th>                     </th>      <td> </td>     \n",
       "</tr>\n",
       "</table>\n",
       "<table class=\"simpletable\">\n",
       "<tr>\n",
       "        <td></td>           <th>coef</th>     <th>std err</th>      <th>t</th>      <th>P>|t|</th>  <th>[0.025</th>    <th>0.975]</th>  \n",
       "</tr>\n",
       "<tr>\n",
       "  <th>Intercept</th>     <td>-1.084e+06</td> <td> 1.58e+04</td> <td>  -68.425</td> <td> 0.000</td> <td>-1.12e+06</td> <td>-1.05e+06</td>\n",
       "</tr>\n",
       "<tr>\n",
       "  <th>ViewNumber</th>    <td> 5.122e+04</td> <td> 1269.954</td> <td>   40.335</td> <td> 0.000</td> <td> 4.87e+04</td> <td> 5.37e+04</td>\n",
       "</tr>\n",
       "<tr>\n",
       "  <th>SqFtOpenPorch</th> <td>  394.5357</td> <td>   16.622</td> <td>   23.736</td> <td> 0.000</td> <td>  361.956</td> <td>  427.115</td>\n",
       "</tr>\n",
       "<tr>\n",
       "  <th>YrRenovated</th>   <td>  115.8348</td> <td>    5.613</td> <td>   20.636</td> <td> 0.000</td> <td>  104.833</td> <td>  126.837</td>\n",
       "</tr>\n",
       "<tr>\n",
       "  <th>BldgGrade</th>     <td> 2.334e+05</td> <td> 2095.289</td> <td>  111.404</td> <td> 0.000</td> <td> 2.29e+05</td> <td> 2.38e+05</td>\n",
       "</tr>\n",
       "</table>\n",
       "<table class=\"simpletable\">\n",
       "<tr>\n",
       "  <th>Omnibus:</th>       <td>16664.013</td> <th>  Durbin-Watson:     </th>  <td>   1.700</td> \n",
       "</tr>\n",
       "<tr>\n",
       "  <th>Prob(Omnibus):</th>  <td> 0.000</td>   <th>  Jarque-Bera (JB):  </th> <td>267788.762</td>\n",
       "</tr>\n",
       "<tr>\n",
       "  <th>Skew:</th>           <td> 2.373</td>   <th>  Prob(JB):          </th>  <td>    0.00</td> \n",
       "</tr>\n",
       "<tr>\n",
       "  <th>Kurtosis:</th>       <td>16.945</td>   <th>  Cond. No.          </th>  <td>2.94e+03</td> \n",
       "</tr>\n",
       "</table><br/><br/>Warnings:<br/>[1] Standard Errors assume that the covariance matrix of the errors is correctly specified.<br/>[2] The condition number is large, 2.94e+03. This might indicate that there are<br/>strong multicollinearity or other numerical problems."
      ],
      "text/plain": [
       "<class 'statsmodels.iolib.summary.Summary'>\n",
       "\"\"\"\n",
       "                            OLS Regression Results                            \n",
       "==============================================================================\n",
       "Dep. Variable:              SalePrice   R-squared:                       0.413\n",
       "Model:                            OLS   Adj. R-squared:                  0.413\n",
       "Method:                 Least Squares   F-statistic:                     5203.\n",
       "Date:                Wed, 04 Mar 2020   Prob (F-statistic):               0.00\n",
       "Time:                        15:07:09   Log-Likelihood:            -4.2392e+05\n",
       "No. Observations:               29621   AIC:                         8.479e+05\n",
       "Df Residuals:                   29616   BIC:                         8.479e+05\n",
       "Df Model:                           4                                         \n",
       "Covariance Type:            nonrobust                                         \n",
       "=================================================================================\n",
       "                    coef    std err          t      P>|t|      [0.025      0.975]\n",
       "---------------------------------------------------------------------------------\n",
       "Intercept     -1.084e+06   1.58e+04    -68.425      0.000   -1.12e+06   -1.05e+06\n",
       "ViewNumber     5.122e+04   1269.954     40.335      0.000    4.87e+04    5.37e+04\n",
       "SqFtOpenPorch   394.5357     16.622     23.736      0.000     361.956     427.115\n",
       "YrRenovated     115.8348      5.613     20.636      0.000     104.833     126.837\n",
       "BldgGrade      2.334e+05   2095.289    111.404      0.000    2.29e+05    2.38e+05\n",
       "==============================================================================\n",
       "Omnibus:                    16664.013   Durbin-Watson:                   1.700\n",
       "Prob(Omnibus):                  0.000   Jarque-Bera (JB):           267788.762\n",
       "Skew:                           2.373   Prob(JB):                         0.00\n",
       "Kurtosis:                      16.945   Cond. No.                     2.94e+03\n",
       "==============================================================================\n",
       "\n",
       "Warnings:\n",
       "[1] Standard Errors assume that the covariance matrix of the errors is correctly specified.\n",
       "[2] The condition number is large, 2.94e+03. This might indicate that there are\n",
       "strong multicollinearity or other numerical problems.\n",
       "\"\"\""
      ]
     },
     "execution_count": 216,
     "metadata": {},
     "output_type": "execute_result"
    }
   ],
   "source": [
    "fltrd[0]['ols'].summary()"
   ]
  },
  {
   "cell_type": "code",
   "execution_count": 24,
   "metadata": {},
   "outputs": [],
   "source": [
    "using_columns = ['ViewNumber', 'BldgGrade', 'SqFtTotLiving', 'Wfnt', 'YrRenovated', 'SqFtOpenPorch', 'Bath3qtrCount', \n",
    "                 'TrafficNoise', 'SqFtDeck', 'Area', 'SqFtEnclosedPorch', 'BathHalfCount', 'SewerSystem', 'Condition', 'Bedrooms']\n",
    "#one = stats_of_combinations(df_vif_only, 1, using_columns)\n",
    "#two = stats_of_combinations(df_vif_only, 2, using_columns)\n",
    "#three = stats_of_combinations(df_vif_only, 3, using_columns)"
   ]
  },
  {
   "cell_type": "code",
   "execution_count": 9,
   "metadata": {},
   "outputs": [],
   "source": [
    "fltrd = filter_vf(sort_by_r2(three))"
   ]
  },
  {
   "cell_type": "code",
   "execution_count": 35,
   "metadata": {},
   "outputs": [
    {
     "name": "stdout",
     "output_type": "stream",
     "text": [
      "Combinations to go through: 3003\n",
      "Percent Done: 0\n",
      "Percent Done: 10\n",
      "Percent Done: 20\n",
      "Percent Done: 30\n",
      "Percent Done: 40\n",
      "Percent Done: 50\n",
      "Percent Done: 60\n",
      "Percent Done: 70\n",
      "Percent Done: 80\n",
      "Percent Done: 90\n",
      "Percent Done: 100\n"
     ]
    }
   ],
   "source": [
    "lst_thing = stats_of_combinations(df_vif_only, 10, using_columns)"
   ]
  },
  {
   "cell_type": "code",
   "execution_count": 36,
   "metadata": {},
   "outputs": [
    {
     "data": {
      "text/plain": [
       "20"
      ]
     },
     "execution_count": 36,
     "metadata": {},
     "output_type": "execute_result"
    }
   ],
   "source": [
    "len(lst_thing)"
   ]
  },
  {
   "cell_type": "code",
   "execution_count": 38,
   "metadata": {},
   "outputs": [
    {
     "data": {
      "text/html": [
       "<table class=\"simpletable\">\n",
       "<caption>OLS Regression Results</caption>\n",
       "<tr>\n",
       "  <th>Dep. Variable:</th>        <td>SalePrice</td>    <th>  R-squared:         </th>  <td>   0.424</td>  \n",
       "</tr>\n",
       "<tr>\n",
       "  <th>Model:</th>                   <td>OLS</td>       <th>  Adj. R-squared:    </th>  <td>   0.424</td>  \n",
       "</tr>\n",
       "<tr>\n",
       "  <th>Method:</th>             <td>Least Squares</td>  <th>  F-statistic:       </th>  <td>   2178.</td>  \n",
       "</tr>\n",
       "<tr>\n",
       "  <th>Date:</th>             <td>Wed, 04 Mar 2020</td> <th>  Prob (F-statistic):</th>   <td>  0.00</td>   \n",
       "</tr>\n",
       "<tr>\n",
       "  <th>Time:</th>                 <td>16:20:27</td>     <th>  Log-Likelihood:    </th> <td>-4.2364e+05</td>\n",
       "</tr>\n",
       "<tr>\n",
       "  <th>No. Observations:</th>      <td> 29621</td>      <th>  AIC:               </th>  <td>8.473e+05</td> \n",
       "</tr>\n",
       "<tr>\n",
       "  <th>Df Residuals:</th>          <td> 29610</td>      <th>  BIC:               </th>  <td>8.474e+05</td> \n",
       "</tr>\n",
       "<tr>\n",
       "  <th>Df Model:</th>              <td>    10</td>      <th>                     </th>      <td> </td>     \n",
       "</tr>\n",
       "<tr>\n",
       "  <th>Covariance Type:</th>      <td>nonrobust</td>    <th>                     </th>      <td> </td>     \n",
       "</tr>\n",
       "</table>\n",
       "<table class=\"simpletable\">\n",
       "<tr>\n",
       "          <td></td>             <th>coef</th>     <th>std err</th>      <th>t</th>      <th>P>|t|</th>  <th>[0.025</th>    <th>0.975]</th>  \n",
       "</tr>\n",
       "<tr>\n",
       "  <th>Intercept</th>         <td>-1.107e+06</td> <td> 1.67e+04</td> <td>  -66.482</td> <td> 0.000</td> <td>-1.14e+06</td> <td>-1.07e+06</td>\n",
       "</tr>\n",
       "<tr>\n",
       "  <th>ViewNumber</th>        <td> 4.248e+04</td> <td> 1351.548</td> <td>   31.434</td> <td> 0.000</td> <td> 3.98e+04</td> <td> 4.51e+04</td>\n",
       "</tr>\n",
       "<tr>\n",
       "  <th>BldgGrade</th>         <td> 2.318e+05</td> <td> 2342.911</td> <td>   98.922</td> <td> 0.000</td> <td> 2.27e+05</td> <td> 2.36e+05</td>\n",
       "</tr>\n",
       "<tr>\n",
       "  <th>Wfnt</th>              <td> 2.442e+05</td> <td> 1.81e+04</td> <td>   13.467</td> <td> 0.000</td> <td> 2.09e+05</td> <td>  2.8e+05</td>\n",
       "</tr>\n",
       "<tr>\n",
       "  <th>YrRenovated</th>       <td>  107.7805</td> <td>    5.579</td> <td>   19.320</td> <td> 0.000</td> <td>   96.846</td> <td>  118.715</td>\n",
       "</tr>\n",
       "<tr>\n",
       "  <th>SqFtOpenPorch</th>     <td>  375.5415</td> <td>   16.710</td> <td>   22.475</td> <td> 0.000</td> <td>  342.790</td> <td>  408.293</td>\n",
       "</tr>\n",
       "<tr>\n",
       "  <th>Bath3qtrCount</th>     <td> 5.254e+04</td> <td> 3563.998</td> <td>   14.743</td> <td> 0.000</td> <td> 4.56e+04</td> <td> 5.95e+04</td>\n",
       "</tr>\n",
       "<tr>\n",
       "  <th>TrafficNoise</th>      <td> 3.171e+04</td> <td> 4035.412</td> <td>    7.858</td> <td> 0.000</td> <td> 2.38e+04</td> <td> 3.96e+04</td>\n",
       "</tr>\n",
       "<tr>\n",
       "  <th>SqFtDeck</th>          <td>   61.4852</td> <td>   11.579</td> <td>    5.310</td> <td> 0.000</td> <td>   38.790</td> <td>   84.181</td>\n",
       "</tr>\n",
       "<tr>\n",
       "  <th>SqFtEnclosedPorch</th> <td>  102.9495</td> <td>   64.187</td> <td>    1.604</td> <td> 0.109</td> <td>  -22.860</td> <td>  228.759</td>\n",
       "</tr>\n",
       "<tr>\n",
       "  <th>BathHalfCount</th>     <td>-9867.1512</td> <td> 4776.656</td> <td>   -2.066</td> <td> 0.039</td> <td>-1.92e+04</td> <td> -504.694</td>\n",
       "</tr>\n",
       "</table>\n",
       "<table class=\"simpletable\">\n",
       "<tr>\n",
       "  <th>Omnibus:</th>       <td>16173.806</td> <th>  Durbin-Watson:     </th>  <td>   1.702</td> \n",
       "</tr>\n",
       "<tr>\n",
       "  <th>Prob(Omnibus):</th>  <td> 0.000</td>   <th>  Jarque-Bera (JB):  </th> <td>262738.947</td>\n",
       "</tr>\n",
       "<tr>\n",
       "  <th>Skew:</th>           <td> 2.273</td>   <th>  Prob(JB):          </th>  <td>    0.00</td> \n",
       "</tr>\n",
       "<tr>\n",
       "  <th>Kurtosis:</th>       <td>16.864</td>   <th>  Cond. No.          </th>  <td>3.47e+03</td> \n",
       "</tr>\n",
       "</table><br/><br/>Warnings:<br/>[1] Standard Errors assume that the covariance matrix of the errors is correctly specified.<br/>[2] The condition number is large, 3.47e+03. This might indicate that there are<br/>strong multicollinearity or other numerical problems."
      ],
      "text/plain": [
       "<class 'statsmodels.iolib.summary.Summary'>\n",
       "\"\"\"\n",
       "                            OLS Regression Results                            \n",
       "==============================================================================\n",
       "Dep. Variable:              SalePrice   R-squared:                       0.424\n",
       "Model:                            OLS   Adj. R-squared:                  0.424\n",
       "Method:                 Least Squares   F-statistic:                     2178.\n",
       "Date:                Wed, 04 Mar 2020   Prob (F-statistic):               0.00\n",
       "Time:                        16:20:27   Log-Likelihood:            -4.2364e+05\n",
       "No. Observations:               29621   AIC:                         8.473e+05\n",
       "Df Residuals:                   29610   BIC:                         8.474e+05\n",
       "Df Model:                          10                                         \n",
       "Covariance Type:            nonrobust                                         \n",
       "=====================================================================================\n",
       "                        coef    std err          t      P>|t|      [0.025      0.975]\n",
       "-------------------------------------------------------------------------------------\n",
       "Intercept         -1.107e+06   1.67e+04    -66.482      0.000   -1.14e+06   -1.07e+06\n",
       "ViewNumber         4.248e+04   1351.548     31.434      0.000    3.98e+04    4.51e+04\n",
       "BldgGrade          2.318e+05   2342.911     98.922      0.000    2.27e+05    2.36e+05\n",
       "Wfnt               2.442e+05   1.81e+04     13.467      0.000    2.09e+05     2.8e+05\n",
       "YrRenovated         107.7805      5.579     19.320      0.000      96.846     118.715\n",
       "SqFtOpenPorch       375.5415     16.710     22.475      0.000     342.790     408.293\n",
       "Bath3qtrCount      5.254e+04   3563.998     14.743      0.000    4.56e+04    5.95e+04\n",
       "TrafficNoise       3.171e+04   4035.412      7.858      0.000    2.38e+04    3.96e+04\n",
       "SqFtDeck             61.4852     11.579      5.310      0.000      38.790      84.181\n",
       "SqFtEnclosedPorch   102.9495     64.187      1.604      0.109     -22.860     228.759\n",
       "BathHalfCount     -9867.1512   4776.656     -2.066      0.039   -1.92e+04    -504.694\n",
       "==============================================================================\n",
       "Omnibus:                    16173.806   Durbin-Watson:                   1.702\n",
       "Prob(Omnibus):                  0.000   Jarque-Bera (JB):           262738.947\n",
       "Skew:                           2.273   Prob(JB):                         0.00\n",
       "Kurtosis:                      16.864   Cond. No.                     3.47e+03\n",
       "==============================================================================\n",
       "\n",
       "Warnings:\n",
       "[1] Standard Errors assume that the covariance matrix of the errors is correctly specified.\n",
       "[2] The condition number is large, 3.47e+03. This might indicate that there are\n",
       "strong multicollinearity or other numerical problems.\n",
       "\"\"\""
      ]
     },
     "execution_count": 38,
     "metadata": {},
     "output_type": "execute_result"
    }
   ],
   "source": [
    "sort_by_r2(lst_thing)[0]['ols'].summary()"
   ]
  },
  {
   "cell_type": "code",
   "execution_count": null,
   "metadata": {},
   "outputs": [],
   "source": []
  }
 ],
 "metadata": {
  "kernelspec": {
   "display_name": "Python 3 (linreg-env)",
   "language": "python",
   "name": "linreg-env"
  },
  "language_info": {
   "codemirror_mode": {
    "name": "ipython",
    "version": 3
   },
   "file_extension": ".py",
   "mimetype": "text/x-python",
   "name": "python",
   "nbconvert_exporter": "python",
   "pygments_lexer": "ipython3",
   "version": "3.7.4"
  }
 },
 "nbformat": 4,
 "nbformat_minor": 4
}
