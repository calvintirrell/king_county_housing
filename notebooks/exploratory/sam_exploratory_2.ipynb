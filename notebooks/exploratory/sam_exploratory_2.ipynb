{
 "cells": [
  {
   "cell_type": "code",
   "execution_count": 24,
   "metadata": {},
   "outputs": [],
   "source": [
    "import pandas as pd\n",
    "import numpy as np\n",
    "import psycopg2\n",
    "import scipy.stats\n",
    "\n",
    "import matplotlib.pyplot as plt\n",
    "import seaborn as sns\n",
    "\n",
    "import statsmodels.stats as stats\n",
    "from statsmodels.formula.api import ols\n",
    "from statsmodels.stats.diagnostic import linear_rainbow, het_breuschpagan\n",
    "from statsmodels.stats.outliers_influence import variance_inflation_factor\n",
    "\n",
    "from sklearn.linear_model import LinearRegression"
   ]
  },
  {
   "cell_type": "code",
   "execution_count": 2,
   "metadata": {},
   "outputs": [
    {
     "name": "stderr",
     "output_type": "stream",
     "text": [
      "/Users/sam/opt/anaconda3/envs/linreg-env/lib/python3.8/site-packages/IPython/core/interactiveshell.py:3062: DtypeWarning: Columns (12) have mixed types.Specify dtype option on import or set low_memory=False.\n",
      "  has_raised = await self.run_ast_nodes(code_ast.body, cell_name,\n"
     ]
    }
   ],
   "source": [
    "df_2019 = pd.read_csv('../../data/housing2019.csv', encoding='latin-1')"
   ]
  },
  {
   "cell_type": "code",
   "execution_count": 86,
   "metadata": {},
   "outputs": [
    {
     "data": {
      "text/plain": [
       "0    39103\n",
       "2     2591\n",
       "3     1178\n",
       "4      673\n",
       "Name: Territorial, dtype: int64"
      ]
     },
     "execution_count": 86,
     "metadata": {},
     "output_type": "execute_result"
    }
   ],
   "source": [
    "# df_2019['MtRainier'].value_counts()\n",
    "# df_2019['Olympics'].value_counts()\n",
    "# df_2019['Cascades'].value_counts()\n",
    "# df_2019['Territorial'].value_counts()\n",
    "# df_2019['SeattleSkyline'].value_counts()\n",
    "# df_2019['PugetSound'].value_counts()\n",
    "# df_2019['LakeWashington'].value_counts()\n",
    "# df_2019['LakeSammamish'].value_counts()\n",
    "# df_2019['SmallLakeRiverCreek'].value_counts()\n",
    "# df_2019['OtherView'].value_counts()\n",
    "\n",
    "# df_2019['WfntLocation'].value_counts()"
   ]
  },
  {
   "cell_type": "code",
   "execution_count": 92,
   "metadata": {},
   "outputs": [],
   "source": [
    "\"\"\"\n",
    "selecting interested columns\n",
    "\"\"\"\n",
    "groomed_df = df_2019[['Major_+_Minor', 'SalePrice', 'SqFtTotLiving', 'SqFtOpenPorch', \n",
    "                          'SqFtEnclosedPorch', 'SqFtDeck', 'TidelandShoreland',\n",
    "                          'TrafficNoise', 'AirportNoise', 'PowerLines', 'Stories', 'Condition', 'Area', \n",
    "                          'DocumentDate', 'MtRainier', 'Olympics', 'Cascades', 'Territorial', 'SeattleSkyline',\n",
    "                          'PugetSound', 'LakeWashington', 'LakeSammamish', 'SmallLakeRiverCreek', 'OtherView',\n",
    "                          'WaterSystem', 'SewerSystem']]\n"
   ]
  },
  {
   "cell_type": "code",
   "execution_count": 93,
   "metadata": {},
   "outputs": [
    {
     "data": {
      "text/plain": [
       "dtype('int64')"
      ]
     },
     "execution_count": 93,
     "metadata": {},
     "output_type": "execute_result"
    }
   ],
   "source": [
    "\"\"\"\n",
    "filtering data\n",
    "\"\"\"\n",
    "groomed_df = groomed_df[groomed_df['SqFtTotLiving'] < 50000]\n",
    "groomed_df = groomed_df[groomed_df['DocumentDate'].str.contains('2019')]\n",
    "groomed_df['PricePerSqFt'] = groomed_df['SalePrice']/groomed_df['SqFtTotLiving']\n",
    "groomed_df['TidelandShoreland'] = groomed_df['TidelandShoreland'].astype(bool).astype(int)\n",
    "groomed_df['TrafficNoise'] = groomed_df['TrafficNoise'].astype(bool).astype(int)\n",
    "groomed_df['TrafficNoise'].dtypes"
   ]
  },
  {
   "cell_type": "code",
   "execution_count": 6,
   "metadata": {},
   "outputs": [
    {
     "data": {
      "text/plain": [
       "0    25332\n",
       "1     4304\n",
       "Name: TrafficNoise, dtype: int64"
      ]
     },
     "execution_count": 6,
     "metadata": {},
     "output_type": "execute_result"
    }
   ],
   "source": [
    "groomed_df['TrafficNoise'].value_counts()"
   ]
  },
  {
   "cell_type": "code",
   "execution_count": 7,
   "metadata": {},
   "outputs": [
    {
     "data": {
      "text/html": [
       "<div>\n",
       "<style scoped>\n",
       "    .dataframe tbody tr th:only-of-type {\n",
       "        vertical-align: middle;\n",
       "    }\n",
       "\n",
       "    .dataframe tbody tr th {\n",
       "        vertical-align: top;\n",
       "    }\n",
       "\n",
       "    .dataframe thead th {\n",
       "        text-align: right;\n",
       "    }\n",
       "</style>\n",
       "<table border=\"1\" class=\"dataframe\">\n",
       "  <thead>\n",
       "    <tr style=\"text-align: right;\">\n",
       "      <th></th>\n",
       "      <th>Major_+_Minor</th>\n",
       "      <th>SalePrice</th>\n",
       "      <th>SqFtTotLiving</th>\n",
       "      <th>SqFtOpenPorch</th>\n",
       "      <th>SqFtEnclosedPorch</th>\n",
       "      <th>SqFtDeck</th>\n",
       "      <th>TidelandShoreland</th>\n",
       "      <th>TrafficNoise</th>\n",
       "      <th>AirportNoise</th>\n",
       "      <th>PowerLines</th>\n",
       "      <th>Stories</th>\n",
       "      <th>Condition</th>\n",
       "      <th>Area</th>\n",
       "      <th>DocumentDate</th>\n",
       "      <th>PricePerSqFt</th>\n",
       "    </tr>\n",
       "  </thead>\n",
       "  <tbody>\n",
       "    <tr>\n",
       "      <th>0</th>\n",
       "      <td>0087000215</td>\n",
       "      <td>255000</td>\n",
       "      <td>1150</td>\n",
       "      <td>90</td>\n",
       "      <td>370</td>\n",
       "      <td>0</td>\n",
       "      <td>0</td>\n",
       "      <td>0</td>\n",
       "      <td>0</td>\n",
       "      <td>N</td>\n",
       "      <td>1.0</td>\n",
       "      <td>3</td>\n",
       "      <td>30.0</td>\n",
       "      <td>07/25/2019</td>\n",
       "      <td>221.739130</td>\n",
       "    </tr>\n",
       "    <tr>\n",
       "      <th>3</th>\n",
       "      <td>0084000171</td>\n",
       "      <td>575000</td>\n",
       "      <td>3010</td>\n",
       "      <td>250</td>\n",
       "      <td>0</td>\n",
       "      <td>0</td>\n",
       "      <td>0</td>\n",
       "      <td>1</td>\n",
       "      <td>0</td>\n",
       "      <td>N</td>\n",
       "      <td>1.5</td>\n",
       "      <td>3</td>\n",
       "      <td>96.0</td>\n",
       "      <td>03/12/2019</td>\n",
       "      <td>191.029900</td>\n",
       "    </tr>\n",
       "    <tr>\n",
       "      <th>4</th>\n",
       "      <td>0098000940</td>\n",
       "      <td>1178000</td>\n",
       "      <td>4870</td>\n",
       "      <td>0</td>\n",
       "      <td>0</td>\n",
       "      <td>0</td>\n",
       "      <td>0</td>\n",
       "      <td>0</td>\n",
       "      <td>0</td>\n",
       "      <td>N</td>\n",
       "      <td>2.0</td>\n",
       "      <td>3</td>\n",
       "      <td>69.0</td>\n",
       "      <td>12/03/2019</td>\n",
       "      <td>241.889117</td>\n",
       "    </tr>\n",
       "    <tr>\n",
       "      <th>5</th>\n",
       "      <td>0088000172</td>\n",
       "      <td>505000</td>\n",
       "      <td>2280</td>\n",
       "      <td>30</td>\n",
       "      <td>0</td>\n",
       "      <td>0</td>\n",
       "      <td>0</td>\n",
       "      <td>0</td>\n",
       "      <td>0</td>\n",
       "      <td>N</td>\n",
       "      <td>2.0</td>\n",
       "      <td>3</td>\n",
       "      <td>30.0</td>\n",
       "      <td>09/04/2019</td>\n",
       "      <td>221.491228</td>\n",
       "    </tr>\n",
       "    <tr>\n",
       "      <th>7</th>\n",
       "      <td>0088000263</td>\n",
       "      <td>675000</td>\n",
       "      <td>2932</td>\n",
       "      <td>144</td>\n",
       "      <td>0</td>\n",
       "      <td>0</td>\n",
       "      <td>0</td>\n",
       "      <td>0</td>\n",
       "      <td>0</td>\n",
       "      <td>N</td>\n",
       "      <td>2.0</td>\n",
       "      <td>3</td>\n",
       "      <td>30.0</td>\n",
       "      <td>06/19/2019</td>\n",
       "      <td>230.218281</td>\n",
       "    </tr>\n",
       "  </tbody>\n",
       "</table>\n",
       "</div>"
      ],
      "text/plain": [
       "  Major_+_Minor  SalePrice  SqFtTotLiving  SqFtOpenPorch  SqFtEnclosedPorch  \\\n",
       "0    0087000215     255000           1150             90                370   \n",
       "3    0084000171     575000           3010            250                  0   \n",
       "4    0098000940    1178000           4870              0                  0   \n",
       "5    0088000172     505000           2280             30                  0   \n",
       "7    0088000263     675000           2932            144                  0   \n",
       "\n",
       "   SqFtDeck  TidelandShoreland  TrafficNoise  AirportNoise PowerLines  \\\n",
       "0         0                  0             0             0          N   \n",
       "3         0                  0             1             0          N   \n",
       "4         0                  0             0             0          N   \n",
       "5         0                  0             0             0          N   \n",
       "7         0                  0             0             0          N   \n",
       "\n",
       "   Stories  Condition  Area DocumentDate  PricePerSqFt  \n",
       "0      1.0          3  30.0   07/25/2019    221.739130  \n",
       "3      1.5          3  96.0   03/12/2019    191.029900  \n",
       "4      2.0          3  69.0   12/03/2019    241.889117  \n",
       "5      2.0          3  30.0   09/04/2019    221.491228  \n",
       "7      2.0          3  30.0   06/19/2019    230.218281  "
      ]
     },
     "execution_count": 7,
     "metadata": {},
     "output_type": "execute_result"
    }
   ],
   "source": [
    "groomed_df.head()"
   ]
  },
  {
   "cell_type": "code",
   "execution_count": 104,
   "metadata": {},
   "outputs": [
    {
     "data": {
      "text/html": [
       "<table class=\"simpletable\">\n",
       "<caption>OLS Regression Results</caption>\n",
       "<tr>\n",
       "  <th>Dep. Variable:</th>        <td>SalePrice</td>    <th>  R-squared:         </th>  <td>   0.425</td>  \n",
       "</tr>\n",
       "<tr>\n",
       "  <th>Model:</th>                   <td>OLS</td>       <th>  Adj. R-squared:    </th>  <td>   0.425</td>  \n",
       "</tr>\n",
       "<tr>\n",
       "  <th>Method:</th>             <td>Least Squares</td>  <th>  F-statistic:       </th>  <td>   1095.</td>  \n",
       "</tr>\n",
       "<tr>\n",
       "  <th>Date:</th>             <td>Tue, 03 Mar 2020</td> <th>  Prob (F-statistic):</th>   <td>  0.00</td>   \n",
       "</tr>\n",
       "<tr>\n",
       "  <th>Time:</th>                 <td>15:46:35</td>     <th>  Log-Likelihood:    </th> <td>-4.2383e+05</td>\n",
       "</tr>\n",
       "<tr>\n",
       "  <th>No. Observations:</th>      <td> 29636</td>      <th>  AIC:               </th>  <td>8.477e+05</td> \n",
       "</tr>\n",
       "<tr>\n",
       "  <th>Df Residuals:</th>          <td> 29615</td>      <th>  BIC:               </th>  <td>8.479e+05</td> \n",
       "</tr>\n",
       "<tr>\n",
       "  <th>Df Model:</th>              <td>    20</td>      <th>                     </th>      <td> </td>     \n",
       "</tr>\n",
       "<tr>\n",
       "  <th>Covariance Type:</th>      <td>nonrobust</td>    <th>                     </th>      <td> </td>     \n",
       "</tr>\n",
       "</table>\n",
       "<table class=\"simpletable\">\n",
       "<tr>\n",
       "           <td></td>              <th>coef</th>     <th>std err</th>      <th>t</th>      <th>P>|t|</th>  <th>[0.025</th>    <th>0.975]</th>  \n",
       "</tr>\n",
       "<tr>\n",
       "  <th>Intercept</th>           <td>-1.529e+05</td> <td> 2.93e+04</td> <td>   -5.215</td> <td> 0.000</td> <td> -2.1e+05</td> <td>-9.54e+04</td>\n",
       "</tr>\n",
       "<tr>\n",
       "  <th>SqFtTotLiving</th>       <td>  259.3322</td> <td>    2.829</td> <td>   91.662</td> <td> 0.000</td> <td>  253.787</td> <td>  264.878</td>\n",
       "</tr>\n",
       "<tr>\n",
       "  <th>SqFtOpenPorch</th>       <td>  227.3224</td> <td>   17.631</td> <td>   12.894</td> <td> 0.000</td> <td>  192.766</td> <td>  261.879</td>\n",
       "</tr>\n",
       "<tr>\n",
       "  <th>SqFtDeck</th>            <td>  123.8233</td> <td>   11.590</td> <td>   10.684</td> <td> 0.000</td> <td>  101.107</td> <td>  146.540</td>\n",
       "</tr>\n",
       "<tr>\n",
       "  <th>TidelandShoreland</th>   <td> 3.921e+05</td> <td> 3.29e+04</td> <td>   11.917</td> <td> 0.000</td> <td> 3.28e+05</td> <td> 4.57e+05</td>\n",
       "</tr>\n",
       "<tr>\n",
       "  <th>Condition</th>           <td> 1.704e+04</td> <td> 3615.286</td> <td>    4.713</td> <td> 0.000</td> <td> 9954.460</td> <td> 2.41e+04</td>\n",
       "</tr>\n",
       "<tr>\n",
       "  <th>Stories</th>             <td> 5.078e+04</td> <td> 4802.440</td> <td>   10.574</td> <td> 0.000</td> <td> 4.14e+04</td> <td> 6.02e+04</td>\n",
       "</tr>\n",
       "<tr>\n",
       "  <th>Area</th>                <td>-1361.3272</td> <td>   88.519</td> <td>  -15.379</td> <td> 0.000</td> <td>-1534.828</td> <td>-1187.827</td>\n",
       "</tr>\n",
       "<tr>\n",
       "  <th>TrafficNoise</th>        <td> 5.656e+04</td> <td> 6546.670</td> <td>    8.640</td> <td> 0.000</td> <td> 4.37e+04</td> <td> 6.94e+04</td>\n",
       "</tr>\n",
       "<tr>\n",
       "  <th>MtRainier</th>           <td> 1.156e+04</td> <td> 9719.567</td> <td>    1.189</td> <td> 0.234</td> <td>-7490.345</td> <td> 3.06e+04</td>\n",
       "</tr>\n",
       "<tr>\n",
       "  <th>Olympics</th>            <td> 8.162e+04</td> <td> 8457.317</td> <td>    9.651</td> <td> 0.000</td> <td>  6.5e+04</td> <td> 9.82e+04</td>\n",
       "</tr>\n",
       "<tr>\n",
       "  <th>Cascades</th>            <td>-5919.7581</td> <td> 6786.782</td> <td>   -0.872</td> <td> 0.383</td> <td>-1.92e+04</td> <td> 7382.635</td>\n",
       "</tr>\n",
       "<tr>\n",
       "  <th>Territorial</th>         <td>-1945.3589</td> <td> 4936.358</td> <td>   -0.394</td> <td> 0.694</td> <td>-1.16e+04</td> <td> 7730.120</td>\n",
       "</tr>\n",
       "<tr>\n",
       "  <th>SeattleSkyline</th>      <td> 1.515e+05</td> <td> 1.01e+04</td> <td>   14.996</td> <td> 0.000</td> <td> 1.32e+05</td> <td> 1.71e+05</td>\n",
       "</tr>\n",
       "<tr>\n",
       "  <th>PugetSound</th>          <td>-1638.0300</td> <td> 8845.690</td> <td>   -0.185</td> <td> 0.853</td> <td> -1.9e+04</td> <td> 1.57e+04</td>\n",
       "</tr>\n",
       "<tr>\n",
       "  <th>LakeWashington</th>      <td> 1.943e+05</td> <td> 7935.678</td> <td>   24.480</td> <td> 0.000</td> <td> 1.79e+05</td> <td>  2.1e+05</td>\n",
       "</tr>\n",
       "<tr>\n",
       "  <th>LakeSammamish</th>       <td> 2.792e+05</td> <td> 1.25e+04</td> <td>   22.380</td> <td> 0.000</td> <td> 2.55e+05</td> <td> 3.04e+05</td>\n",
       "</tr>\n",
       "<tr>\n",
       "  <th>SmallLakeRiverCreek</th> <td> 5.432e+04</td> <td> 8326.389</td> <td>    6.524</td> <td> 0.000</td> <td>  3.8e+04</td> <td> 7.06e+04</td>\n",
       "</tr>\n",
       "<tr>\n",
       "  <th>OtherView</th>           <td> 7.359e+04</td> <td> 1.35e+04</td> <td>    5.439</td> <td> 0.000</td> <td> 4.71e+04</td> <td>    1e+05</td>\n",
       "</tr>\n",
       "<tr>\n",
       "  <th>WaterSystem</th>         <td> 4.243e+04</td> <td> 1.33e+04</td> <td>    3.197</td> <td> 0.001</td> <td> 1.64e+04</td> <td> 6.84e+04</td>\n",
       "</tr>\n",
       "<tr>\n",
       "  <th>SewerSystem</th>         <td>  8.09e+04</td> <td> 7491.908</td> <td>   10.798</td> <td> 0.000</td> <td> 6.62e+04</td> <td> 9.56e+04</td>\n",
       "</tr>\n",
       "</table>\n",
       "<table class=\"simpletable\">\n",
       "<tr>\n",
       "  <th>Omnibus:</th>       <td>14268.137</td> <th>  Durbin-Watson:     </th>  <td>   1.614</td> \n",
       "</tr>\n",
       "<tr>\n",
       "  <th>Prob(Omnibus):</th>  <td> 0.000</td>   <th>  Jarque-Bera (JB):  </th> <td>236709.552</td>\n",
       "</tr>\n",
       "<tr>\n",
       "  <th>Skew:</th>           <td> 1.907</td>   <th>  Prob(JB):          </th>  <td>    0.00</td> \n",
       "</tr>\n",
       "<tr>\n",
       "  <th>Kurtosis:</th>       <td>16.310</td>   <th>  Cond. No.          </th>  <td>3.49e+04</td> \n",
       "</tr>\n",
       "</table><br/><br/>Warnings:<br/>[1] Standard Errors assume that the covariance matrix of the errors is correctly specified.<br/>[2] The condition number is large, 3.49e+04. This might indicate that there are<br/>strong multicollinearity or other numerical problems."
      ],
      "text/plain": [
       "<class 'statsmodels.iolib.summary.Summary'>\n",
       "\"\"\"\n",
       "                            OLS Regression Results                            \n",
       "==============================================================================\n",
       "Dep. Variable:              SalePrice   R-squared:                       0.425\n",
       "Model:                            OLS   Adj. R-squared:                  0.425\n",
       "Method:                 Least Squares   F-statistic:                     1095.\n",
       "Date:                Tue, 03 Mar 2020   Prob (F-statistic):               0.00\n",
       "Time:                        15:46:35   Log-Likelihood:            -4.2383e+05\n",
       "No. Observations:               29636   AIC:                         8.477e+05\n",
       "Df Residuals:                   29615   BIC:                         8.479e+05\n",
       "Df Model:                          20                                         \n",
       "Covariance Type:            nonrobust                                         \n",
       "=======================================================================================\n",
       "                          coef    std err          t      P>|t|      [0.025      0.975]\n",
       "---------------------------------------------------------------------------------------\n",
       "Intercept           -1.529e+05   2.93e+04     -5.215      0.000    -2.1e+05   -9.54e+04\n",
       "SqFtTotLiving         259.3322      2.829     91.662      0.000     253.787     264.878\n",
       "SqFtOpenPorch         227.3224     17.631     12.894      0.000     192.766     261.879\n",
       "SqFtDeck              123.8233     11.590     10.684      0.000     101.107     146.540\n",
       "TidelandShoreland    3.921e+05   3.29e+04     11.917      0.000    3.28e+05    4.57e+05\n",
       "Condition            1.704e+04   3615.286      4.713      0.000    9954.460    2.41e+04\n",
       "Stories              5.078e+04   4802.440     10.574      0.000    4.14e+04    6.02e+04\n",
       "Area                -1361.3272     88.519    -15.379      0.000   -1534.828   -1187.827\n",
       "TrafficNoise         5.656e+04   6546.670      8.640      0.000    4.37e+04    6.94e+04\n",
       "MtRainier            1.156e+04   9719.567      1.189      0.234   -7490.345    3.06e+04\n",
       "Olympics             8.162e+04   8457.317      9.651      0.000     6.5e+04    9.82e+04\n",
       "Cascades            -5919.7581   6786.782     -0.872      0.383   -1.92e+04    7382.635\n",
       "Territorial         -1945.3589   4936.358     -0.394      0.694   -1.16e+04    7730.120\n",
       "SeattleSkyline       1.515e+05   1.01e+04     14.996      0.000    1.32e+05    1.71e+05\n",
       "PugetSound          -1638.0300   8845.690     -0.185      0.853    -1.9e+04    1.57e+04\n",
       "LakeWashington       1.943e+05   7935.678     24.480      0.000    1.79e+05     2.1e+05\n",
       "LakeSammamish        2.792e+05   1.25e+04     22.380      0.000    2.55e+05    3.04e+05\n",
       "SmallLakeRiverCreek  5.432e+04   8326.389      6.524      0.000     3.8e+04    7.06e+04\n",
       "OtherView            7.359e+04   1.35e+04      5.439      0.000    4.71e+04       1e+05\n",
       "WaterSystem          4.243e+04   1.33e+04      3.197      0.001    1.64e+04    6.84e+04\n",
       "SewerSystem           8.09e+04   7491.908     10.798      0.000    6.62e+04    9.56e+04\n",
       "==============================================================================\n",
       "Omnibus:                    14268.137   Durbin-Watson:                   1.614\n",
       "Prob(Omnibus):                  0.000   Jarque-Bera (JB):           236709.552\n",
       "Skew:                           1.907   Prob(JB):                         0.00\n",
       "Kurtosis:                      16.310   Cond. No.                     3.49e+04\n",
       "==============================================================================\n",
       "\n",
       "Warnings:\n",
       "[1] Standard Errors assume that the covariance matrix of the errors is correctly specified.\n",
       "[2] The condition number is large, 3.49e+04. This might indicate that there are\n",
       "strong multicollinearity or other numerical problems.\n",
       "\"\"\""
      ]
     },
     "execution_count": 104,
     "metadata": {},
     "output_type": "execute_result"
    }
   ],
   "source": [
    "fsm_multi = ols(formula='SalePrice ~ SqFtTotLiving + SqFtOpenPorch + SqFtDeck + TidelandShoreland + Condition + Stories + Area + TrafficNoise + MtRainier + Olympics + Cascades + Territorial + SeattleSkyline + PugetSound + LakeWashington + LakeSammamish + SmallLakeRiverCreek + OtherView + WaterSystem + SewerSystem', data=groomed_df).fit()\n",
    "fsm_multi.summary()"
   ]
  },
  {
   "cell_type": "code",
   "execution_count": 9,
   "metadata": {},
   "outputs": [
    {
     "data": {
      "image/png": "[encoded data removed]",
      "text/plain": [
       "<Figure size 432x288 with 1 Axes>"
      ]
     },
     "metadata": {
      "needs_background": "light"
     },
     "output_type": "display_data"
    }
   ],
   "source": [
    "fsm = ols(formula='SalePrice ~ SqFtTotLiving', data=groomed_df).fit()\n",
    "x = np.linspace(0, 50000)\n",
    "m = fsm.params.SqFtTotLiving\n",
    "b = fsm.params.Intercept\n",
    "fig, ax = plt.subplots()\n",
    "ax.set_ylim(0,5000000)\n",
    "ax = sns.scatterplot(groomed_df['SqFtTotLiving'], groomed_df['SalePrice'])\n",
    "ax = sns.lineplot(x, (m*x + b))\n"
   ]
  },
  {
   "cell_type": "code",
   "execution_count": 10,
   "metadata": {},
   "outputs": [
    {
     "data": {
      "text/plain": [
       "701898.4860759786"
      ]
     },
     "execution_count": 10,
     "metadata": {},
     "output_type": "execute_result"
    },
    {
     "data": {
      "image/png": "[encoded data removed]",
      "text/plain": [
       "<Figure size 432x288 with 1 Axes>"
      ]
     },
     "metadata": {
      "needs_background": "light"
     },
     "output_type": "display_data"
    }
   ],
   "source": [
    "fsm = ols(formula='SalePrice ~ SqFtOpenPorch', data=groomed_df).fit()\n",
    "x = np.linspace(0, 10000)\n",
    "m = fsm.params.SqFtOpenPorch\n",
    "b = fsm.params.Intercept\n",
    "fig, ax = plt.subplots()\n",
    "ax.set_ylim(0,5000000)\n",
    "ax = sns.scatterplot(groomed_df['SqFtOpenPorch'], groomed_df['SalePrice'])\n",
    "ax = sns.lineplot(x, (m*x + b))\n",
    "b"
   ]
  },
  {
   "cell_type": "code",
   "execution_count": 11,
   "metadata": {},
   "outputs": [
    {
     "data": {
      "text/html": [
       "<table class=\"simpletable\">\n",
       "<caption>OLS Regression Results</caption>\n",
       "<tr>\n",
       "  <th>Dep. Variable:</th>        <td>SalePrice</td>    <th>  R-squared:         </th>  <td>   0.378</td>  \n",
       "</tr>\n",
       "<tr>\n",
       "  <th>Model:</th>                   <td>OLS</td>       <th>  Adj. R-squared:    </th>  <td>   0.378</td>  \n",
       "</tr>\n",
       "<tr>\n",
       "  <th>Method:</th>             <td>Least Squares</td>  <th>  F-statistic:       </th>  <td>   2255.</td>  \n",
       "</tr>\n",
       "<tr>\n",
       "  <th>Date:</th>             <td>Tue, 03 Mar 2020</td> <th>  Prob (F-statistic):</th>   <td>  0.00</td>   \n",
       "</tr>\n",
       "<tr>\n",
       "  <th>Time:</th>                 <td>14:57:01</td>     <th>  Log-Likelihood:    </th> <td>-4.2499e+05</td>\n",
       "</tr>\n",
       "<tr>\n",
       "  <th>No. Observations:</th>      <td> 29636</td>      <th>  AIC:               </th>  <td>8.500e+05</td> \n",
       "</tr>\n",
       "<tr>\n",
       "  <th>Df Residuals:</th>          <td> 29627</td>      <th>  BIC:               </th>  <td>8.501e+05</td> \n",
       "</tr>\n",
       "<tr>\n",
       "  <th>Df Model:</th>              <td>     8</td>      <th>                     </th>      <td> </td>     \n",
       "</tr>\n",
       "<tr>\n",
       "  <th>Covariance Type:</th>      <td>nonrobust</td>    <th>                     </th>      <td> </td>     \n",
       "</tr>\n",
       "</table>\n",
       "<table class=\"simpletable\">\n",
       "<tr>\n",
       "          <td></td>             <th>coef</th>     <th>std err</th>      <th>t</th>      <th>P>|t|</th>  <th>[0.025</th>    <th>0.975]</th>  \n",
       "</tr>\n",
       "<tr>\n",
       "  <th>Intercept</th>         <td> 8.367e+04</td> <td> 1.72e+04</td> <td>    4.874</td> <td> 0.000</td> <td>    5e+04</td> <td> 1.17e+05</td>\n",
       "</tr>\n",
       "<tr>\n",
       "  <th>SqFtTotLiving</th>     <td>  279.6832</td> <td>    2.882</td> <td>   97.035</td> <td> 0.000</td> <td>  274.034</td> <td>  285.333</td>\n",
       "</tr>\n",
       "<tr>\n",
       "  <th>SqFtOpenPorch</th>     <td>  204.7695</td> <td>   18.259</td> <td>   11.215</td> <td> 0.000</td> <td>  168.982</td> <td>  240.557</td>\n",
       "</tr>\n",
       "<tr>\n",
       "  <th>SqFtDeck</th>          <td>  183.6007</td> <td>   11.721</td> <td>   15.664</td> <td> 0.000</td> <td>  160.627</td> <td>  206.574</td>\n",
       "</tr>\n",
       "<tr>\n",
       "  <th>TidelandShoreland</th> <td> 7.201e+05</td> <td> 2.84e+04</td> <td>   25.329</td> <td> 0.000</td> <td> 6.64e+05</td> <td> 7.76e+05</td>\n",
       "</tr>\n",
       "<tr>\n",
       "  <th>Condition</th>         <td> 1.718e+04</td> <td> 3753.073</td> <td>    4.577</td> <td> 0.000</td> <td> 9821.464</td> <td> 2.45e+04</td>\n",
       "</tr>\n",
       "<tr>\n",
       "  <th>Stories</th>           <td>  4.72e+04</td> <td> 4921.264</td> <td>    9.591</td> <td> 0.000</td> <td> 3.76e+04</td> <td> 5.68e+04</td>\n",
       "</tr>\n",
       "<tr>\n",
       "  <th>Area</th>              <td>-1937.0455</td> <td>   89.113</td> <td>  -21.737</td> <td> 0.000</td> <td>-2111.712</td> <td>-1762.379</td>\n",
       "</tr>\n",
       "<tr>\n",
       "  <th>TrafficNoise</th>      <td> 6.264e+04</td> <td> 6778.476</td> <td>    9.241</td> <td> 0.000</td> <td> 4.94e+04</td> <td> 7.59e+04</td>\n",
       "</tr>\n",
       "</table>\n",
       "<table class=\"simpletable\">\n",
       "<tr>\n",
       "  <th>Omnibus:</th>       <td>14575.217</td> <th>  Durbin-Watson:     </th>  <td>   1.619</td> \n",
       "</tr>\n",
       "<tr>\n",
       "  <th>Prob(Omnibus):</th>  <td> 0.000</td>   <th>  Jarque-Bera (JB):  </th> <td>225453.375</td>\n",
       "</tr>\n",
       "<tr>\n",
       "  <th>Skew:</th>           <td> 1.986</td>   <th>  Prob(JB):          </th>  <td>    0.00</td> \n",
       "</tr>\n",
       "<tr>\n",
       "  <th>Kurtosis:</th>       <td>15.915</td>   <th>  Cond. No.          </th>  <td>2.86e+04</td> \n",
       "</tr>\n",
       "</table><br/><br/>Warnings:<br/>[1] Standard Errors assume that the covariance matrix of the errors is correctly specified.<br/>[2] The condition number is large, 2.86e+04. This might indicate that there are<br/>strong multicollinearity or other numerical problems."
      ],
      "text/plain": [
       "<class 'statsmodels.iolib.summary.Summary'>\n",
       "\"\"\"\n",
       "                            OLS Regression Results                            \n",
       "==============================================================================\n",
       "Dep. Variable:              SalePrice   R-squared:                       0.378\n",
       "Model:                            OLS   Adj. R-squared:                  0.378\n",
       "Method:                 Least Squares   F-statistic:                     2255.\n",
       "Date:                Tue, 03 Mar 2020   Prob (F-statistic):               0.00\n",
       "Time:                        14:57:01   Log-Likelihood:            -4.2499e+05\n",
       "No. Observations:               29636   AIC:                         8.500e+05\n",
       "Df Residuals:                   29627   BIC:                         8.501e+05\n",
       "Df Model:                           8                                         \n",
       "Covariance Type:            nonrobust                                         \n",
       "=====================================================================================\n",
       "                        coef    std err          t      P>|t|      [0.025      0.975]\n",
       "-------------------------------------------------------------------------------------\n",
       "Intercept          8.367e+04   1.72e+04      4.874      0.000       5e+04    1.17e+05\n",
       "SqFtTotLiving       279.6832      2.882     97.035      0.000     274.034     285.333\n",
       "SqFtOpenPorch       204.7695     18.259     11.215      0.000     168.982     240.557\n",
       "SqFtDeck            183.6007     11.721     15.664      0.000     160.627     206.574\n",
       "TidelandShoreland  7.201e+05   2.84e+04     25.329      0.000    6.64e+05    7.76e+05\n",
       "Condition          1.718e+04   3753.073      4.577      0.000    9821.464    2.45e+04\n",
       "Stories             4.72e+04   4921.264      9.591      0.000    3.76e+04    5.68e+04\n",
       "Area              -1937.0455     89.113    -21.737      0.000   -2111.712   -1762.379\n",
       "TrafficNoise       6.264e+04   6778.476      9.241      0.000    4.94e+04    7.59e+04\n",
       "==============================================================================\n",
       "Omnibus:                    14575.217   Durbin-Watson:                   1.619\n",
       "Prob(Omnibus):                  0.000   Jarque-Bera (JB):           225453.375\n",
       "Skew:                           1.986   Prob(JB):                         0.00\n",
       "Kurtosis:                      15.915   Cond. No.                     2.86e+04\n",
       "==============================================================================\n",
       "\n",
       "Warnings:\n",
       "[1] Standard Errors assume that the covariance matrix of the errors is correctly specified.\n",
       "[2] The condition number is large, 2.86e+04. This might indicate that there are\n",
       "strong multicollinearity or other numerical problems.\n",
       "\"\"\""
      ]
     },
     "execution_count": 11,
     "metadata": {},
     "output_type": "execute_result"
    }
   ],
   "source": [
    "fsm_multi = ols(formula='SalePrice ~ SqFtTotLiving + SqFtOpenPorch + SqFtDeck + TidelandShoreland + Condition + Stories + Area + TrafficNoise', data=groomed_df).fit()\n",
    "fsm_multi.summary()"
   ]
  },
  {
   "cell_type": "code",
   "execution_count": 14,
   "metadata": {},
   "outputs": [
    {
     "data": {
      "text/plain": [
       "<matplotlib.axes._subplots.AxesSubplot at 0x1203f4040>"
      ]
     },
     "execution_count": 14,
     "metadata": {},
     "output_type": "execute_result"
    },
    {
     "data": {
      "image/png": "[encoded data removed]",
      "text/plain": [
       "<Figure size 432x288 with 1 Axes>"
      ]
     },
     "metadata": {
      "needs_background": "light"
     },
     "output_type": "display_data"
    }
   ],
   "source": [
    "fig, ax = plt.subplots()\n",
    "sns.scatterplot(data=groomed_df, x='TrafficNoise' , y='SalePrice')"
   ]
  },
  {
   "cell_type": "code",
   "execution_count": null,
   "metadata": {},
   "outputs": [],
   "source": []
  },
  {
   "cell_type": "code",
   "execution_count": 105,
   "metadata": {},
   "outputs": [],
   "source": [
    "def bootstrapped_ttest_bin(df, col_name):\n",
    "    '''\n",
    "    This function performs t-tests to get an accurate p-value \n",
    "    and t-statistic.using rows belonging to \n",
    "    its binary data values as the two arrays. \n",
    "    \n",
    "    function takes in a data frame and a column name as a string.\n",
    "    performs a two-sided t-test on the sale price of 1000 samples of \n",
    "    binary values within the given column and \n",
    "    \n",
    "    '''\n",
    "    select_0 = df[df[col_name] == 0]['SalePrice']\n",
    "    select_1 = df[df[col_name] == 1]['SalePrice']\n",
    "    Ps = []\n",
    "    Ts = []\n",
    "    for _ in range(0,1000):\n",
    "        falsy_sample = np.random.choice(select_0, size=25, replace=False)\n",
    "        truthy_sample = np.random.choice(select_1, size=25, replace=False)\n",
    "        p_val = scipy.stats.ttest_ind(select_0, select_1).pvalue\n",
    "        t_stat = scipy.stats.ttest_ind(select_1, select_0).statistic\n",
    "        Ps.append(p_val)\n",
    "        Ts.append(t_stat)\n",
    "        \n",
    "    return 'p-value: ', np.array(Ps).mean(), 'statistic: ', np.array(Ts).mean()"
   ]
  },
  {
   "cell_type": "code",
   "execution_count": 78,
   "metadata": {},
   "outputs": [
    {
     "data": {
      "text/plain": [
       "('p-value: ', 5.0360055268948825e-145, 'statistic: ', 25.78632558087656)"
      ]
     },
     "execution_count": 78,
     "metadata": {},
     "output_type": "execute_result"
    }
   ],
   "source": [
    "bootstrapped_welch_unequalsamp_bin(groomed_df, 'TidelandShoreland')"
   ]
  },
  {
   "cell_type": "code",
   "execution_count": null,
   "metadata": {},
   "outputs": [],
   "source": []
  },
  {
   "cell_type": "code",
   "execution_count": null,
   "metadata": {},
   "outputs": [],
   "source": []
  }
 ],
 "metadata": {
  "kernelspec": {
   "display_name": "Python 3 (linreg-env)",
   "language": "python",
   "name": "linreg-env"
  },
  "language_info": {
   "codemirror_mode": {
    "name": "ipython",
    "version": 3
   },
   "file_extension": ".py",
   "mimetype": "text/x-python",
   "name": "python",
   "nbconvert_exporter": "python",
   "pygments_lexer": "ipython3",
   "version": "3.7.4"
  }
 },
 "nbformat": 4,
 "nbformat_minor": 4
}
